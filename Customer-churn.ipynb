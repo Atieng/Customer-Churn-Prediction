{
 "cells": [
  {
   "cell_type": "markdown",
   "id": "3fe3ba02-0f1e-42f5-9166-ba353cd16f02",
   "metadata": {},
   "source": [
    "# Customer Churn Analysis"
   ]
  },
  {
   "cell_type": "markdown",
   "id": "b1005544-7d6b-44b0-b883-b28413463a2f",
   "metadata": {},
   "source": [
    "## 1. Project Overview"
   ]
  },
  {
   "cell_type": "markdown",
   "id": "dc38b3de-5c87-4bef-b29e-7353db01bc1b",
   "metadata": {},
   "source": [
    "SyriaTel, a telecommunications company faces major issues in retaining its customers.SyriaTel Company has a high churn rate of 14.49% .This churn rate has reduced its revenue and also has made the comapny face very high competition from other Telecommunication companies. Due to this impact the company has hired me to analyse their past data and come up with business insights and new strategies of reducing the customer churn rate.The aim of this project is to analyze past data of SyriaTel telecommunication company and come up with machine learning algorithms to predict whether a customer will churn or not. By analyzing Syrial Tel past data, which includes customer information eg `account length`, charges per call, minutes the customer get from the company,International plan and voice mail plan,and past churn records. By identifying this patterns and major factors that contribute to a customer churning away from SyrialTel, I will be able to predict wether a customer is likely to churn or not.This project involves data understanding, data preparation, exploratory data analysis,building different models, evaluation of the models and deployment of the model. Continuous monitoring and updating of the model will ensure its effectiveness over time, and will enable SyrialTel to put inplace new strategies inorder to retain their customers"
   ]
  },
  {
   "cell_type": "markdown",
   "id": "2b4b6e80-087c-4c51-b214-f13ad7e627b1",
   "metadata": {},
   "source": [
    "## 2.Business Problem"
   ]
  },
  {
   "cell_type": "markdown",
   "id": "685b113e-7b83-4cd3-8d9b-703c97e34701",
   "metadata": {},
   "source": [
    " SyriaTel, a telecommunications company faces major issues in retaining its customers.SyriaTel Company has a high churn rate of 14.49%. Customer churn, the phenomenon where customers discontinue their services, is a significant threat to their business. High churn rates can lead to substantial revenue loss and increased costs associated with acquiring new customers.\n",
    "\n",
    "To address this challenge, it is essential for SyriaTel to understand the underlying reasons why customers are leaving and identify which customers are most likely to churn. By analyzing SyriaTel customer data, including behavior, usage patterns, and demographic information, SyriaTel can develop predictive models to forecast churn. These insights will enable the company to implement targeted interventions aimed at retaining at-risk customers, enhancing customer satisfaction, and ultimately reducing churn rates. This proactive approach is vital for sustaining revenue growth and securing a competitive edge in the telecommunications market."
   ]
  },
  {
   "cell_type": "markdown",
   "id": "cffae97b-a4c3-4ef2-9a81-b1a91646d0f5",
   "metadata": {},
   "source": [
    "## 3.Data Understanding"
   ]
  },
  {
   "cell_type": "markdown",
   "id": "1e0b284f-0971-41ab-b97e-4858e6880c73",
   "metadata": {},
   "source": [
    "This customer churn dataset is designed to predict which customers are likely to leave the company. It contains various features that describe customer demographics,account information, service usage patterns, and their churn status  . The dataset is sourced from a Kaggle competition aimed at developing predictive models for customer churn.\n",
    "\n",
    "**Here's a summary of the columns:**\n",
    "- state: The state of the customer.\n",
    "  \n",
    "- account length: The length of the account in days or months.\n",
    "\n",
    "- area code: The area code of the customer's phone number.\n",
    "- phone number: The phone number of the customer.\n",
    "- international plan: Whether the customer has an international plan or not.\n",
    "- voice mail plan: Whether the customer has a voicemail plan or not.\n",
    "- number vmail messages: The number of voicemail messages the customer has.\n",
    "- total day minutes: Total minutes of day calls.\n",
    "- total day calls: Total number of day calls.\n",
    "- total day charge: Total charge for the day calls.\n",
    "- total eve minutes: Total minutes of evening calls.\n",
    "- total eve calls: Total number of evening calls.\n",
    "- total eve charge: Total charge for the evening calls.\n",
    "- total night minutes: Total minutes of night calls.\n",
    "- total night calls: Total number of night calls.\n",
    "- total night charge: Total charge for the night calls.\n",
    "- total intl minutes: Total minutes of international calls.\n",
    "- total intl calls: Total number of international calls.\n",
    "- total intl charge: Total charge for the international calls.\n",
    "- customer service calls: Number of times the customer called customer service.\n",
    "- churn: Whether the customer churned or not (True/False)."
   ]
  },
  {
   "cell_type": "markdown",
   "id": "fbe6f03d-4d4c-441e-af20-3a0a16d4285d",
   "metadata": {},
   "source": [
    "#### Importing Libraries"
   ]
  },
  {
   "cell_type": "code",
   "execution_count": 1,
   "id": "b83b4d24-d2ec-4f3c-a1d5-486a3f496714",
   "metadata": {},
   "outputs": [],
   "source": [
    "# Import libraries\n",
    "import pandas as pd\n",
    "import matplotlib.pyplot as plt\n",
    "import seaborn as sns\n",
    "import numpy as np\n",
    "\n",
    "# Modelling modules\n",
    "from sklearn.model_selection import train_test_split,cross_val_score,GridSearchCV,KFold #splitting the dataset into test-train\n",
    "from imblearn.over_sampling import SMOTE #SMOTE technique to deal with unbalanced data problem\n",
    "from sklearn.metrics import accuracy_score,f1_score,recall_score,precision_score,confusion_matrix,roc_curve,roc_auc_score,classification_report,ConfusionMatrixDisplay# performance metrics\n",
    "from sklearn.preprocessing import StandardScaler,LabelEncoder # to scale the numeric features\n",
    "\n",
    "# Algorithms modules\n",
    "from sklearn.tree import DecisionTreeClassifier\n",
    "from sklearn.ensemble import RandomForestClassifier\n",
    "from sklearn.linear_model import LogisticRegression\n",
    "from sklearn.neighbors import KNeighborsClassifier\n",
    "\n",
    "# Feature Importance modules\n",
    "from sklearn.inspection import permutation_importance\n",
    "from sklearn.feature_selection import SelectFromModel\n",
    "  \n",
    "\n",
    "from sklearn.preprocessing import label_binarize\n"
   ]
  },
  {
   "cell_type": "markdown",
   "id": "f5611219-3d02-4adb-b8b1-a10dbdd63bc4",
   "metadata": {},
   "source": [
    "#### 3.1 Loading The Data"
   ]
  },
  {
   "cell_type": "code",
   "execution_count": 2,
   "id": "3c38a2a9-60fb-4837-892c-a26d75f8e435",
   "metadata": {},
   "outputs": [],
   "source": [
    "# Import the class \n",
    "from customer_churn_analysis import CustomerChurnDataset"
   ]
  },
  {
   "cell_type": "code",
   "execution_count": 3,
   "id": "5a6f8bb6-eed1-49ee-9c24-40a7b4d43925",
   "metadata": {},
   "outputs": [],
   "source": [
    "# Read my dataset\n",
    "# Instantiate the class with the file name\n",
    "df = CustomerChurnDataset('data/Customer_Churn.csv')"
   ]
  },
  {
   "cell_type": "code",
   "execution_count": 4,
   "id": "d28cecc4-dcef-49f1-8ed8-9165312ddd2a",
   "metadata": {},
   "outputs": [
    {
     "data": {
      "text/plain": [
       "<customer_churn_analysis.CustomerChurnDataset at 0x1ac363d4cd0>"
      ]
     },
     "execution_count": 4,
     "metadata": {},
     "output_type": "execute_result"
    }
   ],
   "source": [
    "df"
   ]
  },
  {
   "cell_type": "markdown",
   "id": "ac3ee82f",
   "metadata": {},
   "source": [
    "#### 3.2 DataSet information"
   ]
  },
  {
   "cell_type": "code",
   "execution_count": 5,
   "id": "556ccd66-9766-4061-9f01-3b6b0e765de4",
   "metadata": {},
   "outputs": [
    {
     "name": "stdout",
     "output_type": "stream",
     "text": [
      "Dataset Info:\n",
      "<class 'pandas.core.frame.DataFrame'>\n",
      "RangeIndex: 3333 entries, 0 to 3332\n",
      "Data columns (total 21 columns):\n",
      " #   Column                  Non-Null Count  Dtype  \n",
      "---  ------                  --------------  -----  \n",
      " 0   state                   3333 non-null   object \n",
      " 1   account length          3333 non-null   int64  \n",
      " 2   area code               3333 non-null   int64  \n",
      " 3   phone number            3333 non-null   object \n",
      " 4   international plan      3333 non-null   object \n",
      " 5   voice mail plan         3333 non-null   object \n",
      " 6   number vmail messages   3333 non-null   int64  \n",
      " 7   total day minutes       3333 non-null   float64\n",
      " 8   total day calls         3333 non-null   int64  \n",
      " 9   total day charge        3333 non-null   float64\n",
      " 10  total eve minutes       3333 non-null   float64\n",
      " 11  total eve calls         3333 non-null   int64  \n",
      " 12  total eve charge        3333 non-null   float64\n",
      " 13  total night minutes     3333 non-null   float64\n",
      " 14  total night calls       3333 non-null   int64  \n",
      " 15  total night charge      3333 non-null   float64\n",
      " 16  total intl minutes      3333 non-null   float64\n",
      " 17  total intl calls        3333 non-null   int64  \n",
      " 18  total intl charge       3333 non-null   float64\n",
      " 19  customer service calls  3333 non-null   int64  \n",
      " 20  churn                   3333 non-null   bool   \n",
      "dtypes: bool(1), float64(8), int64(8), object(4)\n",
      "memory usage: 524.2+ KB\n",
      "None\n"
     ]
    }
   ],
   "source": [
    "df.df_info()"
   ]
  },
  {
   "cell_type": "markdown",
   "id": "a17a5fb2-1ebf-4cbb-954b-4bf24fc14cab",
   "metadata": {},
   "source": [
    "> The range index, indicating the number of rows in the DataFrame from 0 to 3332.\n",
    ">-  total number of columns 21 columns.\n",
    ">- For each column, it provides:\n",
    ">- The column name (Column)\n",
    ">- The non-null count of values (Non-Null Count)\n",
    ">- The dataset has no null value"
   ]
  },
  {
   "cell_type": "markdown",
   "id": "30518cc5",
   "metadata": {},
   "source": [
    "#### 3.3 Dataset statistics Summary"
   ]
  },
  {
   "cell_type": "code",
   "execution_count": 6,
   "id": "1297afa7-9f0d-42ae-a06f-f6a721301838",
   "metadata": {},
   "outputs": [
    {
     "name": "stdout",
     "output_type": "stream",
     "text": [
      "Statistical Summary of the Dataset:\n",
      "       account length    area code  number vmail messages  total day minutes  \\\n",
      "count     3333.000000  3333.000000            3333.000000        3333.000000   \n",
      "mean       101.064806   437.182418               8.099010         179.775098   \n",
      "std         39.822106    42.371290              13.688365          54.467389   \n",
      "min          1.000000   408.000000               0.000000           0.000000   \n",
      "25%         74.000000   408.000000               0.000000         143.700000   \n",
      "50%        101.000000   415.000000               0.000000         179.400000   \n",
      "75%        127.000000   510.000000              20.000000         216.400000   \n",
      "max        243.000000   510.000000              51.000000         350.800000   \n",
      "\n",
      "       total day calls  total day charge  total eve minutes  total eve calls  \\\n",
      "count      3333.000000       3333.000000        3333.000000      3333.000000   \n",
      "mean        100.435644         30.562307         200.980348       100.114311   \n",
      "std          20.069084          9.259435          50.713844        19.922625   \n",
      "min           0.000000          0.000000           0.000000         0.000000   \n",
      "25%          87.000000         24.430000         166.600000        87.000000   \n",
      "50%         101.000000         30.500000         201.400000       100.000000   \n",
      "75%         114.000000         36.790000         235.300000       114.000000   \n",
      "max         165.000000         59.640000         363.700000       170.000000   \n",
      "\n",
      "       total eve charge  total night minutes  total night calls  \\\n",
      "count       3333.000000          3333.000000        3333.000000   \n",
      "mean          17.083540           200.872037         100.107711   \n",
      "std            4.310668            50.573847          19.568609   \n",
      "min            0.000000            23.200000          33.000000   \n",
      "25%           14.160000           167.000000          87.000000   \n",
      "50%           17.120000           201.200000         100.000000   \n",
      "75%           20.000000           235.300000         113.000000   \n",
      "max           30.910000           395.000000         175.000000   \n",
      "\n",
      "       total night charge  total intl minutes  total intl calls  \\\n",
      "count         3333.000000         3333.000000       3333.000000   \n",
      "mean             9.039325           10.237294          4.479448   \n",
      "std              2.275873            2.791840          2.461214   \n",
      "min              1.040000            0.000000          0.000000   \n",
      "25%              7.520000            8.500000          3.000000   \n",
      "50%              9.050000           10.300000          4.000000   \n",
      "75%             10.590000           12.100000          6.000000   \n",
      "max             17.770000           20.000000         20.000000   \n",
      "\n",
      "       total intl charge  customer service calls  \n",
      "count        3333.000000             3333.000000  \n",
      "mean            2.764581                1.562856  \n",
      "std             0.753773                1.315491  \n",
      "min             0.000000                0.000000  \n",
      "25%             2.300000                1.000000  \n",
      "50%             2.780000                1.000000  \n",
      "75%             3.270000                2.000000  \n",
      "max             5.400000                9.000000  \n"
     ]
    }
   ],
   "source": [
    "statistics_summary= df.statistical_summary()\n",
    "statistics_summary"
   ]
  },
  {
   "cell_type": "markdown",
   "id": "2db5c11e-47aa-418a-a9f6-8dca22e14967",
   "metadata": {},
   "source": [
    "> The above is the statistical summary of each column in terms of the count of the rows in the dataset, the mean value, the standard deviation, the median , the 25th percentile and the 75th percentile and the maximum results of each column\n"
   ]
  },
  {
   "cell_type": "markdown",
   "id": "b70bebbe",
   "metadata": {},
   "source": [
    "#### 3.4 Dataset columns"
   ]
  },
  {
   "cell_type": "code",
   "execution_count": 7,
   "id": "97ec2170-b9e3-49ac-9692-3ef094a41f5c",
   "metadata": {},
   "outputs": [
    {
     "name": "stdout",
     "output_type": "stream",
     "text": [
      "Columns of the Dataset:\n",
      "Index(['state', 'account length', 'area code', 'phone number',\n",
      "       'international plan', 'voice mail plan', 'number vmail messages',\n",
      "       'total day minutes', 'total day calls', 'total day charge',\n",
      "       'total eve minutes', 'total eve calls', 'total eve charge',\n",
      "       'total night minutes', 'total night calls', 'total night charge',\n",
      "       'total intl minutes', 'total intl calls', 'total intl charge',\n",
      "       'customer service calls', 'churn'],\n",
      "      dtype='object')\n"
     ]
    }
   ],
   "source": [
    "# The columns of the dataset\n",
    "df.get_columns()"
   ]
  },
  {
   "cell_type": "markdown",
   "id": "ff576df7",
   "metadata": {},
   "source": [
    "#### 3.5 Datatypes"
   ]
  },
  {
   "cell_type": "code",
   "execution_count": 8,
   "id": "925873e0-271c-4c14-8a21-fac8863453ce",
   "metadata": {},
   "outputs": [
    {
     "name": "stdout",
     "output_type": "stream",
     "text": [
      "Data Types of Columns:\n",
      "state                      object\n",
      "account length              int64\n",
      "area code                   int64\n",
      "phone number               object\n",
      "international plan         object\n",
      "voice mail plan            object\n",
      "number vmail messages       int64\n",
      "total day minutes         float64\n",
      "total day calls             int64\n",
      "total day charge          float64\n",
      "total eve minutes         float64\n",
      "total eve calls             int64\n",
      "total eve charge          float64\n",
      "total night minutes       float64\n",
      "total night calls           int64\n",
      "total night charge        float64\n",
      "total intl minutes        float64\n",
      "total intl calls            int64\n",
      "total intl charge         float64\n",
      "customer service calls      int64\n",
      "churn                        bool\n",
      "dtype: object\n"
     ]
    }
   ],
   "source": [
    "# Getting the datatype of each column\n",
    "df.get_dtypes()"
   ]
  },
  {
   "cell_type": "markdown",
   "id": "e8185111",
   "metadata": {},
   "source": [
    "#### 3.6 Shape of the dataset"
   ]
  },
  {
   "cell_type": "code",
   "execution_count": 9,
   "id": "b024f96f-381a-4769-866d-8cd4e85f9ef2",
   "metadata": {},
   "outputs": [
    {
     "name": "stdout",
     "output_type": "stream",
     "text": [
      "Shape of the Dataset:\n",
      "(3333, 21)\n"
     ]
    }
   ],
   "source": [
    "#  The shape of the dataset\n",
    "df.df_shape()"
   ]
  },
  {
   "cell_type": "markdown",
   "id": "b7eed3c2-3584-4fa7-a7c4-3119eaded405",
   "metadata": {},
   "source": [
    ">The dataset has a shape of 3333 rows and 21 columns"
   ]
  },
  {
   "cell_type": "markdown",
   "id": "8f27bbf0-647e-44ec-81fa-4ead91b86ca9",
   "metadata": {},
   "source": [
    "## 4. Data Preparation"
   ]
  },
  {
   "cell_type": "markdown",
   "id": "db96790d-8696-42ae-b994-9a81b4556a1b",
   "metadata": {},
   "source": [
    "### 4.1 Data Cleaning"
   ]
  },
  {
   "cell_type": "markdown",
   "id": "f99c6242-7db2-4788-8353-0d97d0fd692d",
   "metadata": {},
   "source": [
    "The processes that I will follow during data cleaning process"
   ]
  },
  {
   "cell_type": "markdown",
   "id": "c18351cb-f5cc-4577-833f-1317c18d6696",
   "metadata": {},
   "source": [
    "> - Checking for null values\n",
    "> - Checking for duplicates\n",
    "> - Dropping columns\n",
    "> - Checking for outliers"
   ]
  },
  {
   "cell_type": "code",
   "execution_count": 10,
   "id": "c0387f92-7331-4323-9065-3074f9598bfd",
   "metadata": {},
   "outputs": [],
   "source": [
    "df = pd.read_csv('data/Customer_Churn.csv')\n"
   ]
  },
  {
   "cell_type": "markdown",
   "id": "647dbd8a-c458-4c4e-9c61-6ef83ddd4f21",
   "metadata": {},
   "source": [
    "#### 4.1.1 Checking for null values"
   ]
  },
  {
   "cell_type": "code",
   "execution_count": 11,
   "id": "7f7792c8-3073-4a5d-b52a-b3ce2311805f",
   "metadata": {},
   "outputs": [
    {
     "data": {
      "text/plain": [
       "state                     0\n",
       "account length            0\n",
       "area code                 0\n",
       "phone number              0\n",
       "international plan        0\n",
       "voice mail plan           0\n",
       "number vmail messages     0\n",
       "total day minutes         0\n",
       "total day calls           0\n",
       "total day charge          0\n",
       "total eve minutes         0\n",
       "total eve calls           0\n",
       "total eve charge          0\n",
       "total night minutes       0\n",
       "total night calls         0\n",
       "total night charge        0\n",
       "total intl minutes        0\n",
       "total intl calls          0\n",
       "total intl charge         0\n",
       "customer service calls    0\n",
       "churn                     0\n",
       "dtype: int64"
      ]
     },
     "execution_count": 11,
     "metadata": {},
     "output_type": "execute_result"
    }
   ],
   "source": [
    "df.isna().sum()"
   ]
  },
  {
   "cell_type": "markdown",
   "id": "d7b000ba-2308-45d7-9b77-6afffecb7699",
   "metadata": {},
   "source": [
    ">The dataset looks like it has no null value. But there are object datatypes that I will like to handle them in a different way that is converting them to 0s and 1s, The process is  called binary encoding"
   ]
  },
  {
   "cell_type": "markdown",
   "id": "f96228a2-0c1a-402b-bf6b-a83a2d7f35b2",
   "metadata": {},
   "source": [
    "#### 4.1.2 Checking for duplicates"
   ]
  },
  {
   "cell_type": "code",
   "execution_count": 12,
   "id": "b7c92236-caa5-4ed5-a11e-fd9306734907",
   "metadata": {},
   "outputs": [
    {
     "data": {
      "text/plain": [
       "0"
      ]
     },
     "execution_count": 12,
     "metadata": {},
     "output_type": "execute_result"
    }
   ],
   "source": [
    "df.duplicated().sum()\n"
   ]
  },
  {
   "cell_type": "markdown",
   "id": "b5f56835-cc7f-410d-bbba-e3c68601ca23",
   "metadata": {},
   "source": [
    "> The dataset has no null values."
   ]
  },
  {
   "cell_type": "code",
   "execution_count": 13,
   "id": "b116490f-ebaf-4e2b-8403-1067c72d74de",
   "metadata": {
    "scrolled": true
   },
   "outputs": [
    {
     "data": {
      "text/html": [
       "<div>\n",
       "<style scoped>\n",
       "    .dataframe tbody tr th:only-of-type {\n",
       "        vertical-align: middle;\n",
       "    }\n",
       "\n",
       "    .dataframe tbody tr th {\n",
       "        vertical-align: top;\n",
       "    }\n",
       "\n",
       "    .dataframe thead th {\n",
       "        text-align: right;\n",
       "    }\n",
       "</style>\n",
       "<table border=\"1\" class=\"dataframe\">\n",
       "  <thead>\n",
       "    <tr style=\"text-align: right;\">\n",
       "      <th></th>\n",
       "      <th>No of Unique Values</th>\n",
       "    </tr>\n",
       "  </thead>\n",
       "  <tbody>\n",
       "    <tr>\n",
       "      <th>state</th>\n",
       "      <td>51</td>\n",
       "    </tr>\n",
       "    <tr>\n",
       "      <th>account length</th>\n",
       "      <td>212</td>\n",
       "    </tr>\n",
       "    <tr>\n",
       "      <th>area code</th>\n",
       "      <td>3</td>\n",
       "    </tr>\n",
       "    <tr>\n",
       "      <th>phone number</th>\n",
       "      <td>3333</td>\n",
       "    </tr>\n",
       "    <tr>\n",
       "      <th>international plan</th>\n",
       "      <td>2</td>\n",
       "    </tr>\n",
       "    <tr>\n",
       "      <th>voice mail plan</th>\n",
       "      <td>2</td>\n",
       "    </tr>\n",
       "    <tr>\n",
       "      <th>number vmail messages</th>\n",
       "      <td>46</td>\n",
       "    </tr>\n",
       "    <tr>\n",
       "      <th>total day minutes</th>\n",
       "      <td>1667</td>\n",
       "    </tr>\n",
       "    <tr>\n",
       "      <th>total day calls</th>\n",
       "      <td>119</td>\n",
       "    </tr>\n",
       "    <tr>\n",
       "      <th>total day charge</th>\n",
       "      <td>1667</td>\n",
       "    </tr>\n",
       "    <tr>\n",
       "      <th>total eve minutes</th>\n",
       "      <td>1611</td>\n",
       "    </tr>\n",
       "    <tr>\n",
       "      <th>total eve calls</th>\n",
       "      <td>123</td>\n",
       "    </tr>\n",
       "    <tr>\n",
       "      <th>total eve charge</th>\n",
       "      <td>1440</td>\n",
       "    </tr>\n",
       "    <tr>\n",
       "      <th>total night minutes</th>\n",
       "      <td>1591</td>\n",
       "    </tr>\n",
       "    <tr>\n",
       "      <th>total night calls</th>\n",
       "      <td>120</td>\n",
       "    </tr>\n",
       "    <tr>\n",
       "      <th>total night charge</th>\n",
       "      <td>933</td>\n",
       "    </tr>\n",
       "    <tr>\n",
       "      <th>total intl minutes</th>\n",
       "      <td>162</td>\n",
       "    </tr>\n",
       "    <tr>\n",
       "      <th>total intl calls</th>\n",
       "      <td>21</td>\n",
       "    </tr>\n",
       "    <tr>\n",
       "      <th>total intl charge</th>\n",
       "      <td>162</td>\n",
       "    </tr>\n",
       "    <tr>\n",
       "      <th>customer service calls</th>\n",
       "      <td>10</td>\n",
       "    </tr>\n",
       "    <tr>\n",
       "      <th>churn</th>\n",
       "      <td>2</td>\n",
       "    </tr>\n",
       "  </tbody>\n",
       "</table>\n",
       "</div>"
      ],
      "text/plain": [
       "                        No of Unique Values\n",
       "state                                    51\n",
       "account length                          212\n",
       "area code                                 3\n",
       "phone number                           3333\n",
       "international plan                        2\n",
       "voice mail plan                           2\n",
       "number vmail messages                    46\n",
       "total day minutes                      1667\n",
       "total day calls                         119\n",
       "total day charge                       1667\n",
       "total eve minutes                      1611\n",
       "total eve calls                         123\n",
       "total eve charge                       1440\n",
       "total night minutes                    1591\n",
       "total night calls                       120\n",
       "total night charge                      933\n",
       "total intl minutes                      162\n",
       "total intl calls                         21\n",
       "total intl charge                       162\n",
       "customer service calls                   10\n",
       "churn                                     2"
      ]
     },
     "execution_count": 13,
     "metadata": {},
     "output_type": "execute_result"
    }
   ],
   "source": [
    "# Check for total count of unique values in each column\n",
    "df.nunique().to_frame(\"No of Unique Values\")"
   ]
  },
  {
   "cell_type": "code",
   "execution_count": 14,
   "id": "e7c9056d-b8da-45ee-9019-f52b0cb0676d",
   "metadata": {},
   "outputs": [
    {
     "data": {
      "text/plain": [
       "customer service calls\n",
       "1    1181\n",
       "2     759\n",
       "0     697\n",
       "3     429\n",
       "4     166\n",
       "5      66\n",
       "6      22\n",
       "7       9\n",
       "9       2\n",
       "8       2\n",
       "Name: count, dtype: int64"
      ]
     },
     "execution_count": 14,
     "metadata": {},
     "output_type": "execute_result"
    }
   ],
   "source": [
    "# Value Counts  of Customer Service Calls\n",
    "df['customer service calls'].value_counts()"
   ]
  },
  {
   "cell_type": "markdown",
   "id": "506df74b-3ea3-4014-96f7-25c80038f1ed",
   "metadata": {},
   "source": [
    "#### 4.1.3 Drop Columns"
   ]
  },
  {
   "cell_type": "markdown",
   "id": "442f034e-af40-4a90-b438-0c2d5bbf4c3c",
   "metadata": {},
   "source": [
    ">In the dataset, there are several columns that are not useful for making predictions. Specifically, the `phone number` column contains unique IDs assigned to customers.The phone mumver column will not contribute to any predictions. Additionally, the `State` column, which has 51 unique values, can lead to high dimensionality issues if encoded for modeling purposes.  . Therefore, I will drop the `phone number` and `State` columns  \n",
    "\n"
   ]
  },
  {
   "cell_type": "code",
   "execution_count": 15,
   "id": "7d322976-7aa5-44d6-8a1f-eb966da6a01f",
   "metadata": {},
   "outputs": [],
   "source": [
    "df.drop(columns = ['phone number','state'],axis = 1, inplace = True)"
   ]
  },
  {
   "cell_type": "markdown",
   "id": "182f0166-0b6c-4ef5-85be-afc31e3d7fdc",
   "metadata": {},
   "source": [
    "#### 4.1.4 Checking for outliers"
   ]
  },
  {
   "cell_type": "markdown",
   "id": "133077a8-4067-4969-85ba-42e299a9c214",
   "metadata": {},
   "source": [
    "To enhance the data analysis process, I am going to visualize outliers in the dataset using boxplots"
   ]
  },
  {
   "cell_type": "code",
   "execution_count": 16,
   "id": "38b5510f-7d1c-46c1-aaba-52665fe96e3b",
   "metadata": {},
   "outputs": [],
   "source": [
    "columns_int= df.select_dtypes(include=['int64', 'float64'])"
   ]
  },
  {
   "cell_type": "code",
   "execution_count": 17,
   "id": "c0a79633-7af4-4527-a697-86c4e4c174d8",
   "metadata": {},
   "outputs": [
    {
     "data": {
      "image/png": "[encoded data removed]",
      "text/plain": [
       "<Figure size 1500x1000 with 12 Axes>"
      ]
     },
     "metadata": {},
     "output_type": "display_data"
    }
   ],
   "source": [
    "plt.figure(figsize=(15, 10))\n",
    "for n, column in enumerate(columns_int, 1):\n",
    "    if n <= 12:  # Limit to 12 subplots\n",
    "        plt.subplot(4, 3, n)\n",
    "        sns.boxplot(x=df[column])\n",
    "        plt.title(f'{column.capitalize()}')\n",
    "        plt.xlabel(column)\n",
    "plt.title('Boxplots')\n",
    "plt.tight_layout()\n",
    "plt.show()\n"
   ]
  },
  {
   "cell_type": "markdown",
   "id": "503517ed-deac-4f8b-afa5-bc954251ce0e",
   "metadata": {},
   "source": [
    ">Examining the boxplots reveals the presence of outliers. However, it's essential not to remove them hastily. I need to carefully investigate these outliers to understand their impact on the dataset."
   ]
  },
  {
   "cell_type": "code",
   "execution_count": 18,
   "id": "90b0ca5a-b372-4653-a6b6-bdc0bbe0f4cf",
   "metadata": {
    "scrolled": true
   },
   "outputs": [
    {
     "data": {
      "text/html": [
       "<div>\n",
       "<style scoped>\n",
       "    .dataframe tbody tr th:only-of-type {\n",
       "        vertical-align: middle;\n",
       "    }\n",
       "\n",
       "    .dataframe tbody tr th {\n",
       "        vertical-align: top;\n",
       "    }\n",
       "\n",
       "    .dataframe thead th {\n",
       "        text-align: right;\n",
       "    }\n",
       "</style>\n",
       "<table border=\"1\" class=\"dataframe\">\n",
       "  <thead>\n",
       "    <tr style=\"text-align: right;\">\n",
       "      <th></th>\n",
       "      <th>account length</th>\n",
       "      <th>area code</th>\n",
       "      <th>number vmail messages</th>\n",
       "      <th>total day minutes</th>\n",
       "      <th>total day calls</th>\n",
       "      <th>total day charge</th>\n",
       "      <th>total eve minutes</th>\n",
       "      <th>total eve calls</th>\n",
       "      <th>total eve charge</th>\n",
       "      <th>total night minutes</th>\n",
       "      <th>total night calls</th>\n",
       "      <th>total night charge</th>\n",
       "      <th>total intl minutes</th>\n",
       "      <th>total intl calls</th>\n",
       "      <th>total intl charge</th>\n",
       "      <th>customer service calls</th>\n",
       "    </tr>\n",
       "  </thead>\n",
       "  <tbody>\n",
       "    <tr>\n",
       "      <th>count</th>\n",
       "      <td>3333.000000</td>\n",
       "      <td>3333.000000</td>\n",
       "      <td>3333.000000</td>\n",
       "      <td>3333.000000</td>\n",
       "      <td>3333.000000</td>\n",
       "      <td>3333.000000</td>\n",
       "      <td>3333.000000</td>\n",
       "      <td>3333.000000</td>\n",
       "      <td>3333.000000</td>\n",
       "      <td>3333.000000</td>\n",
       "      <td>3333.000000</td>\n",
       "      <td>3333.000000</td>\n",
       "      <td>3333.000000</td>\n",
       "      <td>3333.000000</td>\n",
       "      <td>3333.000000</td>\n",
       "      <td>3333.000000</td>\n",
       "    </tr>\n",
       "    <tr>\n",
       "      <th>mean</th>\n",
       "      <td>101.064806</td>\n",
       "      <td>437.182418</td>\n",
       "      <td>8.099010</td>\n",
       "      <td>179.775098</td>\n",
       "      <td>100.435644</td>\n",
       "      <td>30.562307</td>\n",
       "      <td>200.980348</td>\n",
       "      <td>100.114311</td>\n",
       "      <td>17.083540</td>\n",
       "      <td>200.872037</td>\n",
       "      <td>100.107711</td>\n",
       "      <td>9.039325</td>\n",
       "      <td>10.237294</td>\n",
       "      <td>4.479448</td>\n",
       "      <td>2.764581</td>\n",
       "      <td>1.562856</td>\n",
       "    </tr>\n",
       "    <tr>\n",
       "      <th>std</th>\n",
       "      <td>39.822106</td>\n",
       "      <td>42.371290</td>\n",
       "      <td>13.688365</td>\n",
       "      <td>54.467389</td>\n",
       "      <td>20.069084</td>\n",
       "      <td>9.259435</td>\n",
       "      <td>50.713844</td>\n",
       "      <td>19.922625</td>\n",
       "      <td>4.310668</td>\n",
       "      <td>50.573847</td>\n",
       "      <td>19.568609</td>\n",
       "      <td>2.275873</td>\n",
       "      <td>2.791840</td>\n",
       "      <td>2.461214</td>\n",
       "      <td>0.753773</td>\n",
       "      <td>1.315491</td>\n",
       "    </tr>\n",
       "    <tr>\n",
       "      <th>min</th>\n",
       "      <td>1.000000</td>\n",
       "      <td>408.000000</td>\n",
       "      <td>0.000000</td>\n",
       "      <td>0.000000</td>\n",
       "      <td>0.000000</td>\n",
       "      <td>0.000000</td>\n",
       "      <td>0.000000</td>\n",
       "      <td>0.000000</td>\n",
       "      <td>0.000000</td>\n",
       "      <td>23.200000</td>\n",
       "      <td>33.000000</td>\n",
       "      <td>1.040000</td>\n",
       "      <td>0.000000</td>\n",
       "      <td>0.000000</td>\n",
       "      <td>0.000000</td>\n",
       "      <td>0.000000</td>\n",
       "    </tr>\n",
       "    <tr>\n",
       "      <th>25%</th>\n",
       "      <td>74.000000</td>\n",
       "      <td>408.000000</td>\n",
       "      <td>0.000000</td>\n",
       "      <td>143.700000</td>\n",
       "      <td>87.000000</td>\n",
       "      <td>24.430000</td>\n",
       "      <td>166.600000</td>\n",
       "      <td>87.000000</td>\n",
       "      <td>14.160000</td>\n",
       "      <td>167.000000</td>\n",
       "      <td>87.000000</td>\n",
       "      <td>7.520000</td>\n",
       "      <td>8.500000</td>\n",
       "      <td>3.000000</td>\n",
       "      <td>2.300000</td>\n",
       "      <td>1.000000</td>\n",
       "    </tr>\n",
       "    <tr>\n",
       "      <th>50%</th>\n",
       "      <td>101.000000</td>\n",
       "      <td>415.000000</td>\n",
       "      <td>0.000000</td>\n",
       "      <td>179.400000</td>\n",
       "      <td>101.000000</td>\n",
       "      <td>30.500000</td>\n",
       "      <td>201.400000</td>\n",
       "      <td>100.000000</td>\n",
       "      <td>17.120000</td>\n",
       "      <td>201.200000</td>\n",
       "      <td>100.000000</td>\n",
       "      <td>9.050000</td>\n",
       "      <td>10.300000</td>\n",
       "      <td>4.000000</td>\n",
       "      <td>2.780000</td>\n",
       "      <td>1.000000</td>\n",
       "    </tr>\n",
       "    <tr>\n",
       "      <th>75%</th>\n",
       "      <td>127.000000</td>\n",
       "      <td>510.000000</td>\n",
       "      <td>20.000000</td>\n",
       "      <td>216.400000</td>\n",
       "      <td>114.000000</td>\n",
       "      <td>36.790000</td>\n",
       "      <td>235.300000</td>\n",
       "      <td>114.000000</td>\n",
       "      <td>20.000000</td>\n",
       "      <td>235.300000</td>\n",
       "      <td>113.000000</td>\n",
       "      <td>10.590000</td>\n",
       "      <td>12.100000</td>\n",
       "      <td>6.000000</td>\n",
       "      <td>3.270000</td>\n",
       "      <td>2.000000</td>\n",
       "    </tr>\n",
       "    <tr>\n",
       "      <th>max</th>\n",
       "      <td>243.000000</td>\n",
       "      <td>510.000000</td>\n",
       "      <td>51.000000</td>\n",
       "      <td>350.800000</td>\n",
       "      <td>165.000000</td>\n",
       "      <td>59.640000</td>\n",
       "      <td>363.700000</td>\n",
       "      <td>170.000000</td>\n",
       "      <td>30.910000</td>\n",
       "      <td>395.000000</td>\n",
       "      <td>175.000000</td>\n",
       "      <td>17.770000</td>\n",
       "      <td>20.000000</td>\n",
       "      <td>20.000000</td>\n",
       "      <td>5.400000</td>\n",
       "      <td>9.000000</td>\n",
       "    </tr>\n",
       "  </tbody>\n",
       "</table>\n",
       "</div>"
      ],
      "text/plain": [
       "       account length    area code  number vmail messages  total day minutes  \\\n",
       "count     3333.000000  3333.000000            3333.000000        3333.000000   \n",
       "mean       101.064806   437.182418               8.099010         179.775098   \n",
       "std         39.822106    42.371290              13.688365          54.467389   \n",
       "min          1.000000   408.000000               0.000000           0.000000   \n",
       "25%         74.000000   408.000000               0.000000         143.700000   \n",
       "50%        101.000000   415.000000               0.000000         179.400000   \n",
       "75%        127.000000   510.000000              20.000000         216.400000   \n",
       "max        243.000000   510.000000              51.000000         350.800000   \n",
       "\n",
       "       total day calls  total day charge  total eve minutes  total eve calls  \\\n",
       "count      3333.000000       3333.000000        3333.000000      3333.000000   \n",
       "mean        100.435644         30.562307         200.980348       100.114311   \n",
       "std          20.069084          9.259435          50.713844        19.922625   \n",
       "min           0.000000          0.000000           0.000000         0.000000   \n",
       "25%          87.000000         24.430000         166.600000        87.000000   \n",
       "50%         101.000000         30.500000         201.400000       100.000000   \n",
       "75%         114.000000         36.790000         235.300000       114.000000   \n",
       "max         165.000000         59.640000         363.700000       170.000000   \n",
       "\n",
       "       total eve charge  total night minutes  total night calls  \\\n",
       "count       3333.000000          3333.000000        3333.000000   \n",
       "mean          17.083540           200.872037         100.107711   \n",
       "std            4.310668            50.573847          19.568609   \n",
       "min            0.000000            23.200000          33.000000   \n",
       "25%           14.160000           167.000000          87.000000   \n",
       "50%           17.120000           201.200000         100.000000   \n",
       "75%           20.000000           235.300000         113.000000   \n",
       "max           30.910000           395.000000         175.000000   \n",
       "\n",
       "       total night charge  total intl minutes  total intl calls  \\\n",
       "count         3333.000000         3333.000000       3333.000000   \n",
       "mean             9.039325           10.237294          4.479448   \n",
       "std              2.275873            2.791840          2.461214   \n",
       "min              1.040000            0.000000          0.000000   \n",
       "25%              7.520000            8.500000          3.000000   \n",
       "50%              9.050000           10.300000          4.000000   \n",
       "75%             10.590000           12.100000          6.000000   \n",
       "max             17.770000           20.000000         20.000000   \n",
       "\n",
       "       total intl charge  customer service calls  \n",
       "count        3333.000000             3333.000000  \n",
       "mean            2.764581                1.562856  \n",
       "std             0.753773                1.315491  \n",
       "min             0.000000                0.000000  \n",
       "25%             2.300000                1.000000  \n",
       "50%             2.780000                1.000000  \n",
       "75%             3.270000                2.000000  \n",
       "max             5.400000                9.000000  "
      ]
     },
     "execution_count": 18,
     "metadata": {},
     "output_type": "execute_result"
    }
   ],
   "source": [
    "df.describe()"
   ]
  },
  {
   "cell_type": "markdown",
   "id": "67edc696-66ac-444d-a9d5-d6644876cba5",
   "metadata": {},
   "source": [
    "Examining the boxplots reveals several outliers across different variables, indicating potential data anomalies or extreme usage patterns. However, it's crucial not to remove these outliers blindly. Let's carefully investigate each variable to understand its context and impact on the dataset."
   ]
  },
  {
   "cell_type": "markdown",
   "id": "c30d557f-9a7e-403a-be74-3fbedf662272",
   "metadata": {},
   "source": [
    ">- Account Length: The maximum value of 243 seems plausible, as it represents the number of days a customer has been with the service provider. \n",
    "International Plan and Voice Mail Plan: These variables seem to be binary (0 or 1), and the minimum and maximum values of 0 and 1 are expected and realistic.\n",
    "\n",
    ">- Number of Voice Mail Messages: The maximum value of 51 seems plausible, as some customers may receive a large number of voice mail messages. However, without additional context, it's difficult to assess its realism.\n",
    "\n",
    ">- Total Day, Evening, and Night Minutes: The maximum values for these variables (350.8, 363.7, and 395.0, respectively) are within the plausible range for minutes of usage, especially for heavy users or during exceptional circumstances. However, it's essential to verify if these values align with typical usage patterns in the dataset.\n",
    "\n",
    ">- Total Day, Evening, and Night Calls: The maximum values of 165, 170, and 175, respectively, seem high but could be realistic during peak usage times or for customers with specific needs. Again, it's important to validate these values based on the context of the data.\n",
    "\n",
    ">- Total Day, Evening, and Night Charge: The maximum values for charges seem reasonable given the corresponding maximum minutes of usage.\n",
    "\n",
    ">- Total International Minutes, Calls, and Charges: The maximum values appear plausible but may require further validation based on international calling patterns and associated charges.\n",
    "\n",
    ">- Customer Service Calls: The maximum value of 9 for the number of customer service calls is relatively high but could occur for customers experiencing multiple issues or requiring extensive support. However, it's essential to verify if such occurrences are common in the dataset."
   ]
  },
  {
   "cell_type": "markdown",
   "id": "d46d23bc-2481-4e17-ab2a-52a12c1ff644",
   "metadata": {},
   "source": [
    "Upon detailed outlier examination, I've chosen not to remove them outright. Rather, outliers in call-related columns (Total Day, Evening, and Night Calls) exceeding their maximum values will be trimmed as unusual. High charges, possibly due to call volume, will be retained."
   ]
  },
  {
   "cell_type": "markdown",
   "id": "a39e53bf-657b-4d36-87b4-e3a9a1b043a8",
   "metadata": {},
   "source": [
    "#### A function To remove Outliers"
   ]
  },
  {
   "cell_type": "code",
   "execution_count": 19,
   "id": "4a7d5c8a-88ac-4524-82ce-b34cc4110295",
   "metadata": {},
   "outputs": [
    {
     "data": {
      "text/html": [
       "<div>\n",
       "<style scoped>\n",
       "    .dataframe tbody tr th:only-of-type {\n",
       "        vertical-align: middle;\n",
       "    }\n",
       "\n",
       "    .dataframe tbody tr th {\n",
       "        vertical-align: top;\n",
       "    }\n",
       "\n",
       "    .dataframe thead th {\n",
       "        text-align: right;\n",
       "    }\n",
       "</style>\n",
       "<table border=\"1\" class=\"dataframe\">\n",
       "  <thead>\n",
       "    <tr style=\"text-align: right;\">\n",
       "      <th></th>\n",
       "      <th>account length</th>\n",
       "      <th>area code</th>\n",
       "      <th>international plan</th>\n",
       "      <th>voice mail plan</th>\n",
       "      <th>number vmail messages</th>\n",
       "      <th>total day minutes</th>\n",
       "      <th>total day calls</th>\n",
       "      <th>total day charge</th>\n",
       "      <th>total eve minutes</th>\n",
       "      <th>total eve calls</th>\n",
       "      <th>total eve charge</th>\n",
       "      <th>total night minutes</th>\n",
       "      <th>total night calls</th>\n",
       "      <th>total night charge</th>\n",
       "      <th>total intl minutes</th>\n",
       "      <th>total intl calls</th>\n",
       "      <th>total intl charge</th>\n",
       "      <th>customer service calls</th>\n",
       "      <th>churn</th>\n",
       "    </tr>\n",
       "  </thead>\n",
       "  <tbody>\n",
       "    <tr>\n",
       "      <th>0</th>\n",
       "      <td>128</td>\n",
       "      <td>415</td>\n",
       "      <td>no</td>\n",
       "      <td>yes</td>\n",
       "      <td>25</td>\n",
       "      <td>265.1</td>\n",
       "      <td>110</td>\n",
       "      <td>45.07</td>\n",
       "      <td>197.4</td>\n",
       "      <td>99</td>\n",
       "      <td>16.78</td>\n",
       "      <td>244.7</td>\n",
       "      <td>91</td>\n",
       "      <td>11.01</td>\n",
       "      <td>10.0</td>\n",
       "      <td>3</td>\n",
       "      <td>2.70</td>\n",
       "      <td>1</td>\n",
       "      <td>False</td>\n",
       "    </tr>\n",
       "    <tr>\n",
       "      <th>1</th>\n",
       "      <td>107</td>\n",
       "      <td>415</td>\n",
       "      <td>no</td>\n",
       "      <td>yes</td>\n",
       "      <td>26</td>\n",
       "      <td>161.6</td>\n",
       "      <td>123</td>\n",
       "      <td>27.47</td>\n",
       "      <td>195.5</td>\n",
       "      <td>103</td>\n",
       "      <td>16.62</td>\n",
       "      <td>254.4</td>\n",
       "      <td>103</td>\n",
       "      <td>11.45</td>\n",
       "      <td>13.7</td>\n",
       "      <td>3</td>\n",
       "      <td>3.70</td>\n",
       "      <td>1</td>\n",
       "      <td>False</td>\n",
       "    </tr>\n",
       "    <tr>\n",
       "      <th>2</th>\n",
       "      <td>137</td>\n",
       "      <td>415</td>\n",
       "      <td>no</td>\n",
       "      <td>no</td>\n",
       "      <td>0</td>\n",
       "      <td>243.4</td>\n",
       "      <td>114</td>\n",
       "      <td>41.38</td>\n",
       "      <td>121.2</td>\n",
       "      <td>110</td>\n",
       "      <td>10.30</td>\n",
       "      <td>162.6</td>\n",
       "      <td>104</td>\n",
       "      <td>7.32</td>\n",
       "      <td>12.2</td>\n",
       "      <td>5</td>\n",
       "      <td>3.29</td>\n",
       "      <td>0</td>\n",
       "      <td>False</td>\n",
       "    </tr>\n",
       "    <tr>\n",
       "      <th>3</th>\n",
       "      <td>84</td>\n",
       "      <td>408</td>\n",
       "      <td>yes</td>\n",
       "      <td>no</td>\n",
       "      <td>0</td>\n",
       "      <td>299.4</td>\n",
       "      <td>71</td>\n",
       "      <td>50.90</td>\n",
       "      <td>61.9</td>\n",
       "      <td>88</td>\n",
       "      <td>5.26</td>\n",
       "      <td>196.9</td>\n",
       "      <td>89</td>\n",
       "      <td>8.86</td>\n",
       "      <td>6.6</td>\n",
       "      <td>7</td>\n",
       "      <td>1.78</td>\n",
       "      <td>2</td>\n",
       "      <td>False</td>\n",
       "    </tr>\n",
       "    <tr>\n",
       "      <th>4</th>\n",
       "      <td>75</td>\n",
       "      <td>415</td>\n",
       "      <td>yes</td>\n",
       "      <td>no</td>\n",
       "      <td>0</td>\n",
       "      <td>166.7</td>\n",
       "      <td>113</td>\n",
       "      <td>28.34</td>\n",
       "      <td>148.3</td>\n",
       "      <td>122</td>\n",
       "      <td>12.61</td>\n",
       "      <td>186.9</td>\n",
       "      <td>121</td>\n",
       "      <td>8.41</td>\n",
       "      <td>10.1</td>\n",
       "      <td>3</td>\n",
       "      <td>2.73</td>\n",
       "      <td>3</td>\n",
       "      <td>False</td>\n",
       "    </tr>\n",
       "    <tr>\n",
       "      <th>...</th>\n",
       "      <td>...</td>\n",
       "      <td>...</td>\n",
       "      <td>...</td>\n",
       "      <td>...</td>\n",
       "      <td>...</td>\n",
       "      <td>...</td>\n",
       "      <td>...</td>\n",
       "      <td>...</td>\n",
       "      <td>...</td>\n",
       "      <td>...</td>\n",
       "      <td>...</td>\n",
       "      <td>...</td>\n",
       "      <td>...</td>\n",
       "      <td>...</td>\n",
       "      <td>...</td>\n",
       "      <td>...</td>\n",
       "      <td>...</td>\n",
       "      <td>...</td>\n",
       "      <td>...</td>\n",
       "    </tr>\n",
       "    <tr>\n",
       "      <th>3328</th>\n",
       "      <td>192</td>\n",
       "      <td>415</td>\n",
       "      <td>no</td>\n",
       "      <td>yes</td>\n",
       "      <td>36</td>\n",
       "      <td>156.2</td>\n",
       "      <td>77</td>\n",
       "      <td>26.55</td>\n",
       "      <td>215.5</td>\n",
       "      <td>126</td>\n",
       "      <td>18.32</td>\n",
       "      <td>279.1</td>\n",
       "      <td>83</td>\n",
       "      <td>12.56</td>\n",
       "      <td>9.9</td>\n",
       "      <td>6</td>\n",
       "      <td>2.67</td>\n",
       "      <td>2</td>\n",
       "      <td>False</td>\n",
       "    </tr>\n",
       "    <tr>\n",
       "      <th>3329</th>\n",
       "      <td>68</td>\n",
       "      <td>415</td>\n",
       "      <td>no</td>\n",
       "      <td>no</td>\n",
       "      <td>0</td>\n",
       "      <td>231.1</td>\n",
       "      <td>57</td>\n",
       "      <td>39.29</td>\n",
       "      <td>153.4</td>\n",
       "      <td>55</td>\n",
       "      <td>13.04</td>\n",
       "      <td>191.3</td>\n",
       "      <td>123</td>\n",
       "      <td>8.61</td>\n",
       "      <td>9.6</td>\n",
       "      <td>4</td>\n",
       "      <td>2.59</td>\n",
       "      <td>3</td>\n",
       "      <td>False</td>\n",
       "    </tr>\n",
       "    <tr>\n",
       "      <th>3330</th>\n",
       "      <td>28</td>\n",
       "      <td>510</td>\n",
       "      <td>no</td>\n",
       "      <td>no</td>\n",
       "      <td>0</td>\n",
       "      <td>180.8</td>\n",
       "      <td>109</td>\n",
       "      <td>30.74</td>\n",
       "      <td>288.8</td>\n",
       "      <td>58</td>\n",
       "      <td>24.55</td>\n",
       "      <td>191.9</td>\n",
       "      <td>91</td>\n",
       "      <td>8.64</td>\n",
       "      <td>14.1</td>\n",
       "      <td>6</td>\n",
       "      <td>3.81</td>\n",
       "      <td>2</td>\n",
       "      <td>False</td>\n",
       "    </tr>\n",
       "    <tr>\n",
       "      <th>3331</th>\n",
       "      <td>184</td>\n",
       "      <td>510</td>\n",
       "      <td>yes</td>\n",
       "      <td>no</td>\n",
       "      <td>0</td>\n",
       "      <td>213.8</td>\n",
       "      <td>105</td>\n",
       "      <td>36.35</td>\n",
       "      <td>159.6</td>\n",
       "      <td>84</td>\n",
       "      <td>13.57</td>\n",
       "      <td>139.2</td>\n",
       "      <td>137</td>\n",
       "      <td>6.26</td>\n",
       "      <td>5.0</td>\n",
       "      <td>10</td>\n",
       "      <td>1.35</td>\n",
       "      <td>2</td>\n",
       "      <td>False</td>\n",
       "    </tr>\n",
       "    <tr>\n",
       "      <th>3332</th>\n",
       "      <td>74</td>\n",
       "      <td>415</td>\n",
       "      <td>no</td>\n",
       "      <td>yes</td>\n",
       "      <td>25</td>\n",
       "      <td>234.4</td>\n",
       "      <td>113</td>\n",
       "      <td>39.85</td>\n",
       "      <td>265.9</td>\n",
       "      <td>82</td>\n",
       "      <td>22.60</td>\n",
       "      <td>241.4</td>\n",
       "      <td>77</td>\n",
       "      <td>10.86</td>\n",
       "      <td>13.7</td>\n",
       "      <td>4</td>\n",
       "      <td>3.70</td>\n",
       "      <td>0</td>\n",
       "      <td>False</td>\n",
       "    </tr>\n",
       "  </tbody>\n",
       "</table>\n",
       "<p>3189 rows × 19 columns</p>\n",
       "</div>"
      ],
      "text/plain": [
       "      account length  area code international plan voice mail plan  \\\n",
       "0                128        415                 no             yes   \n",
       "1                107        415                 no             yes   \n",
       "2                137        415                 no              no   \n",
       "3                 84        408                yes              no   \n",
       "4                 75        415                yes              no   \n",
       "...              ...        ...                ...             ...   \n",
       "3328             192        415                 no             yes   \n",
       "3329              68        415                 no              no   \n",
       "3330              28        510                 no              no   \n",
       "3331             184        510                yes              no   \n",
       "3332              74        415                 no             yes   \n",
       "\n",
       "      number vmail messages  total day minutes  total day calls  \\\n",
       "0                        25              265.1              110   \n",
       "1                        26              161.6              123   \n",
       "2                         0              243.4              114   \n",
       "3                         0              299.4               71   \n",
       "4                         0              166.7              113   \n",
       "...                     ...                ...              ...   \n",
       "3328                     36              156.2               77   \n",
       "3329                      0              231.1               57   \n",
       "3330                      0              180.8              109   \n",
       "3331                      0              213.8              105   \n",
       "3332                     25              234.4              113   \n",
       "\n",
       "      total day charge  total eve minutes  total eve calls  total eve charge  \\\n",
       "0                45.07              197.4               99             16.78   \n",
       "1                27.47              195.5              103             16.62   \n",
       "2                41.38              121.2              110             10.30   \n",
       "3                50.90               61.9               88              5.26   \n",
       "4                28.34              148.3              122             12.61   \n",
       "...                ...                ...              ...               ...   \n",
       "3328             26.55              215.5              126             18.32   \n",
       "3329             39.29              153.4               55             13.04   \n",
       "3330             30.74              288.8               58             24.55   \n",
       "3331             36.35              159.6               84             13.57   \n",
       "3332             39.85              265.9               82             22.60   \n",
       "\n",
       "      total night minutes  total night calls  total night charge  \\\n",
       "0                   244.7                 91               11.01   \n",
       "1                   254.4                103               11.45   \n",
       "2                   162.6                104                7.32   \n",
       "3                   196.9                 89                8.86   \n",
       "4                   186.9                121                8.41   \n",
       "...                   ...                ...                 ...   \n",
       "3328                279.1                 83               12.56   \n",
       "3329                191.3                123                8.61   \n",
       "3330                191.9                 91                8.64   \n",
       "3331                139.2                137                6.26   \n",
       "3332                241.4                 77               10.86   \n",
       "\n",
       "      total intl minutes  total intl calls  total intl charge  \\\n",
       "0                   10.0                 3               2.70   \n",
       "1                   13.7                 3               3.70   \n",
       "2                   12.2                 5               3.29   \n",
       "3                    6.6                 7               1.78   \n",
       "4                   10.1                 3               2.73   \n",
       "...                  ...               ...                ...   \n",
       "3328                 9.9                 6               2.67   \n",
       "3329                 9.6                 4               2.59   \n",
       "3330                14.1                 6               3.81   \n",
       "3331                 5.0                10               1.35   \n",
       "3332                13.7                 4               3.70   \n",
       "\n",
       "      customer service calls  churn  \n",
       "0                          1  False  \n",
       "1                          1  False  \n",
       "2                          0  False  \n",
       "3                          2  False  \n",
       "4                          3  False  \n",
       "...                      ...    ...  \n",
       "3328                       2  False  \n",
       "3329                       3  False  \n",
       "3330                       2  False  \n",
       "3331                       2  False  \n",
       "3332                       0  False  \n",
       "\n",
       "[3189 rows x 19 columns]"
      ]
     },
     "execution_count": 19,
     "metadata": {},
     "output_type": "execute_result"
    }
   ],
   "source": [
    "# Using IQR method to remove outliers\n",
    "def remove_outl(df, column):\n",
    "    Q1 = df[column].quantile(0.25)\n",
    "    Q3 = df[column].quantile(0.75)\n",
    "    IQR = Q3 - Q1\n",
    "    lb = Q1 - 1.5 * IQR\n",
    "    ub = Q3 + 1.5 * IQR\n",
    "    return df[(df[column] >= lb) & (df[column] <= ub)]\n",
    "\n",
    "columns_int = df[['total day calls','total eve calls','total night calls','total intl calls']]\n",
    "for col in  columns_int:\n",
    "    df = remove_outl(df,col)\n",
    "df"
   ]
  },
  {
   "cell_type": "markdown",
   "id": "eb3e9d9c-1b5d-4936-8d85-bd402a73acb8",
   "metadata": {},
   "source": [
    "#### Boxplots After REmoval Of outliers"
   ]
  },
  {
   "cell_type": "code",
   "execution_count": 20,
   "id": "b4d9555d-863c-4290-abe0-7d99f277a7b1",
   "metadata": {},
   "outputs": [
    {
     "data": {
      "image/png": "[encoded data removed]",
      "text/plain": [
       "<Figure size 1500x1000 with 4 Axes>"
      ]
     },
     "metadata": {},
     "output_type": "display_data"
    }
   ],
   "source": [
    "plt.figure(figsize=(15, 10))\n",
    "for i, col in enumerate(columns_int, 1):\n",
    "    if i <= 12:  # Limit to 12 subplots\n",
    "        plt.subplot(4, 3, i)\n",
    "        sns.boxplot(x=df[col],color = 'skyblue')\n",
    "        plt.title(f'{col.capitalize()}')\n",
    "        plt.xlabel(col)\n",
    "\n",
    "plt.tight_layout()\n",
    "plt.show()"
   ]
  },
  {
   "cell_type": "markdown",
   "id": "dc60f9c9-b91c-4862-8a12-833aef79dec7",
   "metadata": {},
   "source": [
    "### Explanatory Data Analysis"
   ]
  },
  {
   "cell_type": "markdown",
   "id": "d13cb6ed-b219-48fa-9db3-1e0a730600c9",
   "metadata": {},
   "source": [
    "#### Univariate Data Analysis"
   ]
  },
  {
   "cell_type": "markdown",
   "id": "a74f7abf-57e6-4d0b-a7fd-4270b67058dc",
   "metadata": {},
   "source": [
    "##### Histograms"
   ]
  },
  {
   "cell_type": "code",
   "execution_count": 21,
   "id": "6f1b3436-19ed-4e70-83ad-07bcaeb07892",
   "metadata": {},
   "outputs": [
    {
     "data": {
      "image/png": "[encoded data removed]",
      "text/plain": [
       "<Figure size 2000x1500 with 16 Axes>"
      ]
     },
     "metadata": {},
     "output_type": "display_data"
    }
   ],
   "source": [
    "# Create histograms for each column\n",
    "df.hist(figsize=(20, 15), bins=30, edgecolor='black', color='blue')\n",
    "plt.suptitle('Histograms of All Columns', fontsize=20)\n",
    "plt.tight_layout(rect=[0, 0, 1, 0.95])\n",
    "plt.show()\n"
   ]
  },
  {
   "cell_type": "markdown",
   "id": "dd957dfb-38b3-4e40-8b1d-9c23dfea5317",
   "metadata": {},
   "source": [
    ">`number of vmail messages`,`total day minutes`,`total day calls`, `total day charge`,`total eve minutes`,`total eve calls`,`total eve charge`,`total night minutes`, `total night calls`, `total night charge`,`total intl minutes`,`total intl charge` columns have a normal distribution their histograms have a bell-shaped curve, with most data points clustering around the mean and fewer data points as you move away from the mean.\n",
    "\n",
    ">Histograms for `international plan` and `voice mail plan` shows two distinct bars representing the values 0 and 1. The distribution confirms that these variables are binary as expected, with both categories represented in the dataset."
   ]
  },
  {
   "cell_type": "markdown",
   "id": "b39090c8-cce5-4a79-9b77-320727860e7d",
   "metadata": {},
   "source": [
    ">`Customer service calls` has a few peaks, which indicates there are a few modes in the population. This makes sense because `customer service calls` has to be a integer and not a float number.The histogram displays four bars: 642 customers made no calls, 1067 made one, 705 made two, and 400 made three. It illustrates varying levels of customer service interaction."
   ]
  },
  {
   "cell_type": "markdown",
   "id": "46781374-4ea0-4441-8401-590968a09d0c",
   "metadata": {},
   "source": [
    "#### Checking Skewness"
   ]
  },
  {
   "cell_type": "code",
   "execution_count": 22,
   "id": "d301d405-3e4e-4f67-8ef6-3f764c1cca34",
   "metadata": {},
   "outputs": [],
   "source": [
    "# Checking for skewness for different columns in my dataset\n",
    "numeric_columns = df[['account length','number vmail messages','total day minutes','total day calls', 'total day charge','total eve minutes','total eve calls','total eve charge','total night minutes', 'total night calls', 'total night charge','total intl minutes','total intl charge']]"
   ]
  },
  {
   "cell_type": "code",
   "execution_count": 23,
   "id": "676689f7-6ba6-43ad-a260-741907ed88a1",
   "metadata": {},
   "outputs": [
    {
     "name": "stdout",
     "output_type": "stream",
     "text": [
      "Skewness of different columns in the churn dataset:\n",
      "total day calls     -0.111787\n",
      "total eve calls     -0.055563\n",
      "total night calls    0.032500\n",
      "total intl calls     1.321478\n",
      "dtype: float64\n"
     ]
    }
   ],
   "source": [
    "skewness = columns_int.skew()\n",
    "\n",
    "print(\"Skewness of different columns in the churn dataset:\")\n",
    "print(skewness)\n"
   ]
  },
  {
   "cell_type": "markdown",
   "id": "2f7f0503-075a-470f-bdb3-a0979b0afe72",
   "metadata": {},
   "source": [
    "Most features exhibit little to no skewness, indicating relatively symmetric distributions, except for the number of ` total intl minutes` and `number vmail messages` and ` total intl charge `, which show moderate skewness towards higher and lower values, respectively"
   ]
  },
  {
   "cell_type": "markdown",
   "id": "8d79e72b-4cda-4621-8e72-bfb140e1314b",
   "metadata": {},
   "source": [
    "#### Churn Distribution"
   ]
  },
  {
   "cell_type": "code",
   "execution_count": 28,
   "id": "62d87f6b-48f7-46e1-abee-694106d02005",
   "metadata": {},
   "outputs": [
    {
     "data": {
      "image/png": "[encoded data removed]",
      "text/plain": [
       "<Figure size 640x480 with 1 Axes>"
      ]
     },
     "metadata": {},
     "output_type": "display_data"
    }
   ],
   "source": [
    "# Plotting the distribution of the churn variable\n",
    "  \n",
    "ax = sns.countplot(data=df, x='churn', palette=['#1f77b4', 'grey'])\n",
    "ax.set_title('Count Distribution of Churn Variable')\n",
    "plt.show()"
   ]
  },
  {
   "cell_type": "code",
   "execution_count": 29,
   "id": "df488a10-132f-4bd5-9cd7-086cf0068787",
   "metadata": {},
   "outputs": [
    {
     "name": "stdout",
     "output_type": "stream",
     "text": [
      "churn\n",
      "False    2727\n",
      "True      462\n",
      "Name: count, dtype: int64\n"
     ]
    },
    {
     "data": {
      "image/png": "[encoded data removed]",
      "text/plain": [
       "<Figure size 600x600 with 1 Axes>"
      ]
     },
     "metadata": {},
     "output_type": "display_data"
    }
   ],
   "source": [
    "##Visualize the percentage of the customers who churned and the customers who did not churn\n",
    "print(df['churn'].value_counts())\n",
    "labels='not churned','churned'\n",
    "fig, ax = plt.subplots(figsize=(6,6))\n",
    "colors=[\"steelblue\",\"grey\"]\n",
    "ax.pie(df['churn'].value_counts(), labels=labels, autopct='%1.2f%%',colors=colors)\n",
    "plt.show()"
   ]
  },
  {
   "cell_type": "markdown",
   "id": "7e6b69eb-a360-431b-96c4-fad44e1ffa79",
   "metadata": {},
   "source": [
    "The above plots shows class imbalance with customers who have not churned at 85.51% and those who have churned at 14.49%.This imbalance could impact the performance of machine learning models, as they may tend to favor the majority class and struggle to accurately predict the minority class. Strategies such as resampling techniques (oversampling of the minority class or undersampling of the majority class), using appropriate evaluation metrics (such as precision, recall, and F1-score), or employing ensemble methods can help mitigate the effects of class imbalance and improve model performance.\n",
    "\n",
    "\n",
    "\n",
    "\n",
    "\n",
    "\n"
   ]
  },
  {
   "cell_type": "markdown",
   "id": "e2cdd1de-82dd-4731-a6b0-19ea6f06a63c",
   "metadata": {},
   "source": [
    "#### Bivariate analysis"
   ]
  },
  {
   "cell_type": "markdown",
   "id": "44c25876-c91b-4395-a9e1-dc818771e819",
   "metadata": {},
   "source": [
    "##### Boxplots"
   ]
  },
  {
   "cell_type": "code",
   "execution_count": 30,
   "id": "f49c36ed-a611-4305-b9b9-b6c5bb60617d",
   "metadata": {},
   "outputs": [
    {
     "data": {
      "image/png": "[encoded data removed]",
      "text/plain": [
       "<Figure size 800x600 with 1 Axes>"
      ]
     },
     "metadata": {},
     "output_type": "display_data"
    },
    {
     "data": {
      "image/png": "[encoded data removed]",
      "text/plain": [
       "<Figure size 800x600 with 1 Axes>"
      ]
     },
     "metadata": {},
     "output_type": "display_data"
    },
    {
     "data": {
      "image/png": "[encoded data removed]",
      "text/plain": [
       "<Figure size 800x600 with 1 Axes>"
      ]
     },
     "metadata": {},
     "output_type": "display_data"
    },
    {
     "data": {
      "image/png": "[encoded data removed]",
      "text/plain": [
       "<Figure size 800x600 with 1 Axes>"
      ]
     },
     "metadata": {},
     "output_type": "display_data"
    }
   ],
   "source": [
    "def bivariate_analysis(df, col, hue, pal):\n",
    "    \"\"\"\n",
    "    This function takes in a whole dataframe df and specifies an argument\n",
    "    column for which the countplot would be plotted.\n",
    "    palette is a list of colors representing the hue category\n",
    "\n",
    "    \"\"\"\n",
    "    # Convert hue column to string type\n",
    "    df[hue] = df[hue].astype(str)\n",
    "    \n",
    "    # figure size\n",
    "    plt.figure(figsize=(8, 6))\n",
    "\n",
    "    # Plot countplot for the categorical variable\n",
    "    sns.countplot(x=col, hue=hue, data=df, palette=pal)\n",
    "    \n",
    "    # Adjust layout\n",
    "    plt.tight_layout();\n",
    "     \n",
    "\n",
    " \n",
    "columns_to_plot = ['international plan', 'voice mail plan', 'area code', 'customer service calls']\n",
    "hue_col = 'churn'\n",
    "palettes = ['#1f77b4', '#a0a0a0']   \n",
    "\n",
    "for column in columns_to_plot:\n",
    "     bivariate_analysis(df, column, hue_col,palettes)\n",
    "\n"
   ]
  },
  {
   "cell_type": "code",
   "execution_count": 31,
   "id": "2744b797-c43a-4a12-8734-0091d3b5fde7",
   "metadata": {},
   "outputs": [
    {
     "data": {
      "text/plain": [
       "churn\n",
       "False    2727\n",
       "True      462\n",
       "Name: count, dtype: int64"
      ]
     },
     "execution_count": 31,
     "metadata": {},
     "output_type": "execute_result"
    }
   ],
   "source": [
    "df['churn'].value_counts()"
   ]
  },
  {
   "cell_type": "markdown",
   "id": "ff4b6a81-3e47-46c5-9f19-1ccdb6d2c1d7",
   "metadata": {},
   "source": [
    "- For the first countplot Customers with no international plan churn more than customers with an international plan even though it seems some customers \n",
    "  with an international plan still churn away from the company\n",
    "- For the second countplot Customers with no voice mail  plan churn more than customers with a voice mail plan"
   ]
  },
  {
   "cell_type": "code",
   "execution_count": 32,
   "id": "35ea3274-ed30-44b7-b452-7be9377956b2",
   "metadata": {},
   "outputs": [
    {
     "data": {
      "image/png": "[encoded data removed]",
      "text/plain": [
       "<Figure size 1400x500 with 1 Axes>"
      ]
     },
     "metadata": {},
     "output_type": "display_data"
    }
   ],
   "source": [
    "# Define the color palette\n",
    "colors_palette = ['#1f77b4', '#a0a0a0', '#ff7f0e']  # blue, grey, and orange\n",
    "\n",
    "# Boxplot to see which area code has the highest churn\n",
    "plt.figure(figsize=(14, 5))\n",
    "sns.boxplot(data=df, x='churn', y='customer service calls', hue='area code', palette=colors_palette)\n",
    "plt.legend(loc='upper right')\n",
    "plt.show()\n"
   ]
  },
  {
   "cell_type": "markdown",
   "id": "2f6d4536-2313-4c72-85e5-8e854f046f44",
   "metadata": {},
   "source": [
    ">There are outliers, in all area codes, amongst the customers who have not churned away from the SyriaTel Telecommunication Company.\n",
    ">customers who churned away from the company, they more likely have a 415 or a 510 area code."
   ]
  },
  {
   "cell_type": "markdown",
   "id": "9c5cedf9-3637-440a-846a-91a1729b3533",
   "metadata": {},
   "source": [
    "### Feature Engineering"
   ]
  },
  {
   "cell_type": "markdown",
   "id": "8e9724bd-a218-4395-81a7-7be3e106c1d2",
   "metadata": {},
   "source": [
    "Create new columns `total calls` and `total minutes`. In the new `total calls` I will not include `customer service calls` but  I will also create another column where I will  add the `customer service calls` then I will check model performance with the different columns"
   ]
  },
  {
   "cell_type": "code",
   "execution_count": 33,
   "id": "080d322f-6c9c-4826-b746-8076adbb9917",
   "metadata": {},
   "outputs": [
    {
     "name": "stdout",
     "output_type": "stream",
     "text": [
      "count    3189.000000\n",
      "mean      304.807150\n",
      "std        33.495849\n",
      "min       191.000000\n",
      "25%       282.000000\n",
      "50%       305.000000\n",
      "75%       327.000000\n",
      "max       408.000000\n",
      "Name: total calls_excl_cs, dtype: float64\n",
      "\n",
      "count    3189.000000\n",
      "mean      592.227689\n",
      "std        89.728915\n",
      "min       284.300000\n",
      "25%       532.100000\n",
      "50%       593.600000\n",
      "75%       652.600000\n",
      "max       885.000000\n",
      "Name: total minutes, dtype: float64\n"
     ]
    }
   ],
   "source": [
    "df['total calls_incl_cs'] = df['total day calls'] + df['total eve calls'] + df['total night calls'] + df['total intl calls'] + df['customer service calls']\n",
    "df['total calls_excl_cs'] = df['total day calls'] + df['total eve calls'] + df['total night calls'] + df['total intl calls'] \n",
    "df['total minutes'] = df['total day minutes'] + df['total eve minutes'] + df['total night minutes'] + df['total intl minutes']\n",
    "\n",
    "print(df['total calls_excl_cs'].describe(), df['total minutes'].describe(), sep='\\n\\n')"
   ]
  },
  {
   "cell_type": "markdown",
   "id": "021c78ef-9e78-436f-ac59-82a8292b35fd",
   "metadata": {},
   "source": [
    "#### Checking for correlation"
   ]
  },
  {
   "cell_type": "code",
   "execution_count": 34,
   "id": "20caf27e-8e5a-4602-9f54-dfa79cbb2963",
   "metadata": {},
   "outputs": [],
   "source": [
    "# Create numeric & categorical lists from numeric and categorical columns respectively\n",
    "numer_cols = ['account length','number vmail messages','total day minutes','total day calls','total day charge',\n",
    "                'total eve minutes','total eve calls','total eve charge','total night minutes','total night calls',\n",
    "                'total night charge','total intl minutes','total intl calls','total intl charge','customer service calls','total calls_incl_cs','total calls_excl_cs','total minutes']\n",
    "categ_cols = ['state','area code','international plan','voice mail plan']"
   ]
  },
  {
   "cell_type": "code",
   "execution_count": 35,
   "id": "493faa67-86a5-471b-afdb-30ac77af6026",
   "metadata": {},
   "outputs": [
    {
     "data": {
      "image/png": "[encoded data removed]",
      "text/plain": [
       "<Figure size 2000x2000 with 2 Axes>"
      ]
     },
     "metadata": {},
     "output_type": "display_data"
    }
   ],
   "source": [
    "# numeric features\n",
    "cr = df[numer_cols].corr(method='spearman') # calculate correlation matrice\n",
    "\n",
    "plt.figure(figsize=(20,20))\n",
    "sns.set(font_scale=1)\n",
    "sns.heatmap(cr, annot=True).set(title='correlation matrix of numeric features');"
   ]
  },
  {
   "cell_type": "markdown",
   "id": "fceb81a7-0c89-4ebd-80ac-f58f73d3cc5d",
   "metadata": {},
   "source": [
    ">The heatmap clearly shows that some features are highly correlated with each other. This multicollinearity can affect model performance and should be addressed accordingly."
   ]
  },
  {
   "cell_type": "markdown",
   "id": "a58204ee-ec93-4295-a18b-b530e05d9d90",
   "metadata": {},
   "source": [
    ">- Most of the features are not correlated however some do share a perfect correlation.\n",
    ">- `Total day charge` and `total day minutes` features are fully positively correlated.\n",
    ">- `Total eve charge` and `total eve minutes` features are fully positively correlated.\n",
    ">- `Total night charge` and `total night minutes` features are fully positively correlated.\n",
    ">- `Total intl charge` and `total intl minutes` features are fully positively correlated.\n",
    ">- Minutes and charges have are perfectly correlated to each because charge is a direct result of the minutes used\n",
    ">High correlation between features in a dataset leads To multicollinearity which greatly affects models"
   ]
  },
  {
   "cell_type": "markdown",
   "id": "356f3a9c-2ab5-45b0-b622-06629a99910e",
   "metadata": {},
   "source": [
    "#### Checking for Multicollinearity"
   ]
  },
  {
   "cell_type": "markdown",
   "id": "2ab13f3d-457e-4f00-a0d8-9b7097fc7e4d",
   "metadata": {},
   "source": [
    "A correlation with an absolute value around 0.7-0.8 or higher is considered a high correlation.I can set by cut-off threshold as 0.75"
   ]
  },
  {
   "cell_type": "code",
   "execution_count": 36,
   "id": "5a3439a8-f3dc-4d69-a1b3-ee5137587daa",
   "metadata": {},
   "outputs": [
    {
     "data": {
      "text/html": [
       "<div>\n",
       "<style scoped>\n",
       "    .dataframe tbody tr th:only-of-type {\n",
       "        vertical-align: middle;\n",
       "    }\n",
       "\n",
       "    .dataframe tbody tr th {\n",
       "        vertical-align: top;\n",
       "    }\n",
       "\n",
       "    .dataframe thead th {\n",
       "        text-align: right;\n",
       "    }\n",
       "</style>\n",
       "<table border=\"1\" class=\"dataframe\">\n",
       "  <thead>\n",
       "    <tr style=\"text-align: right;\">\n",
       "      <th></th>\n",
       "      <th>account length</th>\n",
       "      <th>number vmail messages</th>\n",
       "      <th>total day minutes</th>\n",
       "      <th>total day calls</th>\n",
       "      <th>total day charge</th>\n",
       "      <th>total eve minutes</th>\n",
       "      <th>total eve calls</th>\n",
       "      <th>total eve charge</th>\n",
       "      <th>total night minutes</th>\n",
       "      <th>total night calls</th>\n",
       "      <th>total night charge</th>\n",
       "      <th>total intl minutes</th>\n",
       "      <th>total intl calls</th>\n",
       "      <th>total intl charge</th>\n",
       "      <th>customer service calls</th>\n",
       "      <th>total calls_incl_cs</th>\n",
       "      <th>total calls_excl_cs</th>\n",
       "      <th>total minutes</th>\n",
       "    </tr>\n",
       "  </thead>\n",
       "  <tbody>\n",
       "    <tr>\n",
       "      <th>account length</th>\n",
       "      <td>True</td>\n",
       "      <td>False</td>\n",
       "      <td>False</td>\n",
       "      <td>False</td>\n",
       "      <td>False</td>\n",
       "      <td>False</td>\n",
       "      <td>False</td>\n",
       "      <td>False</td>\n",
       "      <td>False</td>\n",
       "      <td>False</td>\n",
       "      <td>False</td>\n",
       "      <td>False</td>\n",
       "      <td>False</td>\n",
       "      <td>False</td>\n",
       "      <td>False</td>\n",
       "      <td>False</td>\n",
       "      <td>False</td>\n",
       "      <td>False</td>\n",
       "    </tr>\n",
       "    <tr>\n",
       "      <th>number vmail messages</th>\n",
       "      <td>False</td>\n",
       "      <td>True</td>\n",
       "      <td>False</td>\n",
       "      <td>False</td>\n",
       "      <td>False</td>\n",
       "      <td>False</td>\n",
       "      <td>False</td>\n",
       "      <td>False</td>\n",
       "      <td>False</td>\n",
       "      <td>False</td>\n",
       "      <td>False</td>\n",
       "      <td>False</td>\n",
       "      <td>False</td>\n",
       "      <td>False</td>\n",
       "      <td>False</td>\n",
       "      <td>False</td>\n",
       "      <td>False</td>\n",
       "      <td>False</td>\n",
       "    </tr>\n",
       "    <tr>\n",
       "      <th>total day minutes</th>\n",
       "      <td>False</td>\n",
       "      <td>False</td>\n",
       "      <td>True</td>\n",
       "      <td>False</td>\n",
       "      <td>True</td>\n",
       "      <td>False</td>\n",
       "      <td>False</td>\n",
       "      <td>False</td>\n",
       "      <td>False</td>\n",
       "      <td>False</td>\n",
       "      <td>False</td>\n",
       "      <td>False</td>\n",
       "      <td>False</td>\n",
       "      <td>False</td>\n",
       "      <td>False</td>\n",
       "      <td>False</td>\n",
       "      <td>False</td>\n",
       "      <td>False</td>\n",
       "    </tr>\n",
       "    <tr>\n",
       "      <th>total day calls</th>\n",
       "      <td>False</td>\n",
       "      <td>False</td>\n",
       "      <td>False</td>\n",
       "      <td>True</td>\n",
       "      <td>False</td>\n",
       "      <td>False</td>\n",
       "      <td>False</td>\n",
       "      <td>False</td>\n",
       "      <td>False</td>\n",
       "      <td>False</td>\n",
       "      <td>False</td>\n",
       "      <td>False</td>\n",
       "      <td>False</td>\n",
       "      <td>False</td>\n",
       "      <td>False</td>\n",
       "      <td>False</td>\n",
       "      <td>False</td>\n",
       "      <td>False</td>\n",
       "    </tr>\n",
       "    <tr>\n",
       "      <th>total day charge</th>\n",
       "      <td>False</td>\n",
       "      <td>False</td>\n",
       "      <td>True</td>\n",
       "      <td>False</td>\n",
       "      <td>True</td>\n",
       "      <td>False</td>\n",
       "      <td>False</td>\n",
       "      <td>False</td>\n",
       "      <td>False</td>\n",
       "      <td>False</td>\n",
       "      <td>False</td>\n",
       "      <td>False</td>\n",
       "      <td>False</td>\n",
       "      <td>False</td>\n",
       "      <td>False</td>\n",
       "      <td>False</td>\n",
       "      <td>False</td>\n",
       "      <td>False</td>\n",
       "    </tr>\n",
       "    <tr>\n",
       "      <th>total eve minutes</th>\n",
       "      <td>False</td>\n",
       "      <td>False</td>\n",
       "      <td>False</td>\n",
       "      <td>False</td>\n",
       "      <td>False</td>\n",
       "      <td>True</td>\n",
       "      <td>False</td>\n",
       "      <td>True</td>\n",
       "      <td>False</td>\n",
       "      <td>False</td>\n",
       "      <td>False</td>\n",
       "      <td>False</td>\n",
       "      <td>False</td>\n",
       "      <td>False</td>\n",
       "      <td>False</td>\n",
       "      <td>False</td>\n",
       "      <td>False</td>\n",
       "      <td>False</td>\n",
       "    </tr>\n",
       "    <tr>\n",
       "      <th>total eve calls</th>\n",
       "      <td>False</td>\n",
       "      <td>False</td>\n",
       "      <td>False</td>\n",
       "      <td>False</td>\n",
       "      <td>False</td>\n",
       "      <td>False</td>\n",
       "      <td>True</td>\n",
       "      <td>False</td>\n",
       "      <td>False</td>\n",
       "      <td>False</td>\n",
       "      <td>False</td>\n",
       "      <td>False</td>\n",
       "      <td>False</td>\n",
       "      <td>False</td>\n",
       "      <td>False</td>\n",
       "      <td>False</td>\n",
       "      <td>False</td>\n",
       "      <td>False</td>\n",
       "    </tr>\n",
       "    <tr>\n",
       "      <th>total eve charge</th>\n",
       "      <td>False</td>\n",
       "      <td>False</td>\n",
       "      <td>False</td>\n",
       "      <td>False</td>\n",
       "      <td>False</td>\n",
       "      <td>True</td>\n",
       "      <td>False</td>\n",
       "      <td>True</td>\n",
       "      <td>False</td>\n",
       "      <td>False</td>\n",
       "      <td>False</td>\n",
       "      <td>False</td>\n",
       "      <td>False</td>\n",
       "      <td>False</td>\n",
       "      <td>False</td>\n",
       "      <td>False</td>\n",
       "      <td>False</td>\n",
       "      <td>False</td>\n",
       "    </tr>\n",
       "    <tr>\n",
       "      <th>total night minutes</th>\n",
       "      <td>False</td>\n",
       "      <td>False</td>\n",
       "      <td>False</td>\n",
       "      <td>False</td>\n",
       "      <td>False</td>\n",
       "      <td>False</td>\n",
       "      <td>False</td>\n",
       "      <td>False</td>\n",
       "      <td>True</td>\n",
       "      <td>False</td>\n",
       "      <td>True</td>\n",
       "      <td>False</td>\n",
       "      <td>False</td>\n",
       "      <td>False</td>\n",
       "      <td>False</td>\n",
       "      <td>False</td>\n",
       "      <td>False</td>\n",
       "      <td>False</td>\n",
       "    </tr>\n",
       "    <tr>\n",
       "      <th>total night calls</th>\n",
       "      <td>False</td>\n",
       "      <td>False</td>\n",
       "      <td>False</td>\n",
       "      <td>False</td>\n",
       "      <td>False</td>\n",
       "      <td>False</td>\n",
       "      <td>False</td>\n",
       "      <td>False</td>\n",
       "      <td>False</td>\n",
       "      <td>True</td>\n",
       "      <td>False</td>\n",
       "      <td>False</td>\n",
       "      <td>False</td>\n",
       "      <td>False</td>\n",
       "      <td>False</td>\n",
       "      <td>False</td>\n",
       "      <td>False</td>\n",
       "      <td>False</td>\n",
       "    </tr>\n",
       "    <tr>\n",
       "      <th>total night charge</th>\n",
       "      <td>False</td>\n",
       "      <td>False</td>\n",
       "      <td>False</td>\n",
       "      <td>False</td>\n",
       "      <td>False</td>\n",
       "      <td>False</td>\n",
       "      <td>False</td>\n",
       "      <td>False</td>\n",
       "      <td>True</td>\n",
       "      <td>False</td>\n",
       "      <td>True</td>\n",
       "      <td>False</td>\n",
       "      <td>False</td>\n",
       "      <td>False</td>\n",
       "      <td>False</td>\n",
       "      <td>False</td>\n",
       "      <td>False</td>\n",
       "      <td>False</td>\n",
       "    </tr>\n",
       "    <tr>\n",
       "      <th>total intl minutes</th>\n",
       "      <td>False</td>\n",
       "      <td>False</td>\n",
       "      <td>False</td>\n",
       "      <td>False</td>\n",
       "      <td>False</td>\n",
       "      <td>False</td>\n",
       "      <td>False</td>\n",
       "      <td>False</td>\n",
       "      <td>False</td>\n",
       "      <td>False</td>\n",
       "      <td>False</td>\n",
       "      <td>True</td>\n",
       "      <td>False</td>\n",
       "      <td>True</td>\n",
       "      <td>False</td>\n",
       "      <td>False</td>\n",
       "      <td>False</td>\n",
       "      <td>False</td>\n",
       "    </tr>\n",
       "    <tr>\n",
       "      <th>total intl calls</th>\n",
       "      <td>False</td>\n",
       "      <td>False</td>\n",
       "      <td>False</td>\n",
       "      <td>False</td>\n",
       "      <td>False</td>\n",
       "      <td>False</td>\n",
       "      <td>False</td>\n",
       "      <td>False</td>\n",
       "      <td>False</td>\n",
       "      <td>False</td>\n",
       "      <td>False</td>\n",
       "      <td>False</td>\n",
       "      <td>True</td>\n",
       "      <td>False</td>\n",
       "      <td>False</td>\n",
       "      <td>False</td>\n",
       "      <td>False</td>\n",
       "      <td>False</td>\n",
       "    </tr>\n",
       "    <tr>\n",
       "      <th>total intl charge</th>\n",
       "      <td>False</td>\n",
       "      <td>False</td>\n",
       "      <td>False</td>\n",
       "      <td>False</td>\n",
       "      <td>False</td>\n",
       "      <td>False</td>\n",
       "      <td>False</td>\n",
       "      <td>False</td>\n",
       "      <td>False</td>\n",
       "      <td>False</td>\n",
       "      <td>False</td>\n",
       "      <td>True</td>\n",
       "      <td>False</td>\n",
       "      <td>True</td>\n",
       "      <td>False</td>\n",
       "      <td>False</td>\n",
       "      <td>False</td>\n",
       "      <td>False</td>\n",
       "    </tr>\n",
       "    <tr>\n",
       "      <th>customer service calls</th>\n",
       "      <td>False</td>\n",
       "      <td>False</td>\n",
       "      <td>False</td>\n",
       "      <td>False</td>\n",
       "      <td>False</td>\n",
       "      <td>False</td>\n",
       "      <td>False</td>\n",
       "      <td>False</td>\n",
       "      <td>False</td>\n",
       "      <td>False</td>\n",
       "      <td>False</td>\n",
       "      <td>False</td>\n",
       "      <td>False</td>\n",
       "      <td>False</td>\n",
       "      <td>True</td>\n",
       "      <td>False</td>\n",
       "      <td>False</td>\n",
       "      <td>False</td>\n",
       "    </tr>\n",
       "    <tr>\n",
       "      <th>total calls_incl_cs</th>\n",
       "      <td>False</td>\n",
       "      <td>False</td>\n",
       "      <td>False</td>\n",
       "      <td>False</td>\n",
       "      <td>False</td>\n",
       "      <td>False</td>\n",
       "      <td>False</td>\n",
       "      <td>False</td>\n",
       "      <td>False</td>\n",
       "      <td>False</td>\n",
       "      <td>False</td>\n",
       "      <td>False</td>\n",
       "      <td>False</td>\n",
       "      <td>False</td>\n",
       "      <td>False</td>\n",
       "      <td>True</td>\n",
       "      <td>True</td>\n",
       "      <td>False</td>\n",
       "    </tr>\n",
       "    <tr>\n",
       "      <th>total calls_excl_cs</th>\n",
       "      <td>False</td>\n",
       "      <td>False</td>\n",
       "      <td>False</td>\n",
       "      <td>False</td>\n",
       "      <td>False</td>\n",
       "      <td>False</td>\n",
       "      <td>False</td>\n",
       "      <td>False</td>\n",
       "      <td>False</td>\n",
       "      <td>False</td>\n",
       "      <td>False</td>\n",
       "      <td>False</td>\n",
       "      <td>False</td>\n",
       "      <td>False</td>\n",
       "      <td>False</td>\n",
       "      <td>True</td>\n",
       "      <td>True</td>\n",
       "      <td>False</td>\n",
       "    </tr>\n",
       "    <tr>\n",
       "      <th>total minutes</th>\n",
       "      <td>False</td>\n",
       "      <td>False</td>\n",
       "      <td>False</td>\n",
       "      <td>False</td>\n",
       "      <td>False</td>\n",
       "      <td>False</td>\n",
       "      <td>False</td>\n",
       "      <td>False</td>\n",
       "      <td>False</td>\n",
       "      <td>False</td>\n",
       "      <td>False</td>\n",
       "      <td>False</td>\n",
       "      <td>False</td>\n",
       "      <td>False</td>\n",
       "      <td>False</td>\n",
       "      <td>False</td>\n",
       "      <td>False</td>\n",
       "      <td>True</td>\n",
       "    </tr>\n",
       "  </tbody>\n",
       "</table>\n",
       "</div>"
      ],
      "text/plain": [
       "                        account length  number vmail messages  \\\n",
       "account length                    True                  False   \n",
       "number vmail messages            False                   True   \n",
       "total day minutes                False                  False   \n",
       "total day calls                  False                  False   \n",
       "total day charge                 False                  False   \n",
       "total eve minutes                False                  False   \n",
       "total eve calls                  False                  False   \n",
       "total eve charge                 False                  False   \n",
       "total night minutes              False                  False   \n",
       "total night calls                False                  False   \n",
       "total night charge               False                  False   \n",
       "total intl minutes               False                  False   \n",
       "total intl calls                 False                  False   \n",
       "total intl charge                False                  False   \n",
       "customer service calls           False                  False   \n",
       "total calls_incl_cs              False                  False   \n",
       "total calls_excl_cs              False                  False   \n",
       "total minutes                    False                  False   \n",
       "\n",
       "                        total day minutes  total day calls  total day charge  \\\n",
       "account length                      False            False             False   \n",
       "number vmail messages               False            False             False   \n",
       "total day minutes                    True            False              True   \n",
       "total day calls                     False             True             False   \n",
       "total day charge                     True            False              True   \n",
       "total eve minutes                   False            False             False   \n",
       "total eve calls                     False            False             False   \n",
       "total eve charge                    False            False             False   \n",
       "total night minutes                 False            False             False   \n",
       "total night calls                   False            False             False   \n",
       "total night charge                  False            False             False   \n",
       "total intl minutes                  False            False             False   \n",
       "total intl calls                    False            False             False   \n",
       "total intl charge                   False            False             False   \n",
       "customer service calls              False            False             False   \n",
       "total calls_incl_cs                 False            False             False   \n",
       "total calls_excl_cs                 False            False             False   \n",
       "total minutes                       False            False             False   \n",
       "\n",
       "                        total eve minutes  total eve calls  total eve charge  \\\n",
       "account length                      False            False             False   \n",
       "number vmail messages               False            False             False   \n",
       "total day minutes                   False            False             False   \n",
       "total day calls                     False            False             False   \n",
       "total day charge                    False            False             False   \n",
       "total eve minutes                    True            False              True   \n",
       "total eve calls                     False             True             False   \n",
       "total eve charge                     True            False              True   \n",
       "total night minutes                 False            False             False   \n",
       "total night calls                   False            False             False   \n",
       "total night charge                  False            False             False   \n",
       "total intl minutes                  False            False             False   \n",
       "total intl calls                    False            False             False   \n",
       "total intl charge                   False            False             False   \n",
       "customer service calls              False            False             False   \n",
       "total calls_incl_cs                 False            False             False   \n",
       "total calls_excl_cs                 False            False             False   \n",
       "total minutes                       False            False             False   \n",
       "\n",
       "                        total night minutes  total night calls  \\\n",
       "account length                        False              False   \n",
       "number vmail messages                 False              False   \n",
       "total day minutes                     False              False   \n",
       "total day calls                       False              False   \n",
       "total day charge                      False              False   \n",
       "total eve minutes                     False              False   \n",
       "total eve calls                       False              False   \n",
       "total eve charge                      False              False   \n",
       "total night minutes                    True              False   \n",
       "total night calls                     False               True   \n",
       "total night charge                     True              False   \n",
       "total intl minutes                    False              False   \n",
       "total intl calls                      False              False   \n",
       "total intl charge                     False              False   \n",
       "customer service calls                False              False   \n",
       "total calls_incl_cs                   False              False   \n",
       "total calls_excl_cs                   False              False   \n",
       "total minutes                         False              False   \n",
       "\n",
       "                        total night charge  total intl minutes  \\\n",
       "account length                       False               False   \n",
       "number vmail messages                False               False   \n",
       "total day minutes                    False               False   \n",
       "total day calls                      False               False   \n",
       "total day charge                     False               False   \n",
       "total eve minutes                    False               False   \n",
       "total eve calls                      False               False   \n",
       "total eve charge                     False               False   \n",
       "total night minutes                   True               False   \n",
       "total night calls                    False               False   \n",
       "total night charge                    True               False   \n",
       "total intl minutes                   False                True   \n",
       "total intl calls                     False               False   \n",
       "total intl charge                    False                True   \n",
       "customer service calls               False               False   \n",
       "total calls_incl_cs                  False               False   \n",
       "total calls_excl_cs                  False               False   \n",
       "total minutes                        False               False   \n",
       "\n",
       "                        total intl calls  total intl charge  \\\n",
       "account length                     False              False   \n",
       "number vmail messages              False              False   \n",
       "total day minutes                  False              False   \n",
       "total day calls                    False              False   \n",
       "total day charge                   False              False   \n",
       "total eve minutes                  False              False   \n",
       "total eve calls                    False              False   \n",
       "total eve charge                   False              False   \n",
       "total night minutes                False              False   \n",
       "total night calls                  False              False   \n",
       "total night charge                 False              False   \n",
       "total intl minutes                 False               True   \n",
       "total intl calls                    True              False   \n",
       "total intl charge                  False               True   \n",
       "customer service calls             False              False   \n",
       "total calls_incl_cs                False              False   \n",
       "total calls_excl_cs                False              False   \n",
       "total minutes                      False              False   \n",
       "\n",
       "                        customer service calls  total calls_incl_cs  \\\n",
       "account length                           False                False   \n",
       "number vmail messages                    False                False   \n",
       "total day minutes                        False                False   \n",
       "total day calls                          False                False   \n",
       "total day charge                         False                False   \n",
       "total eve minutes                        False                False   \n",
       "total eve calls                          False                False   \n",
       "total eve charge                         False                False   \n",
       "total night minutes                      False                False   \n",
       "total night calls                        False                False   \n",
       "total night charge                       False                False   \n",
       "total intl minutes                       False                False   \n",
       "total intl calls                         False                False   \n",
       "total intl charge                        False                False   \n",
       "customer service calls                    True                False   \n",
       "total calls_incl_cs                      False                 True   \n",
       "total calls_excl_cs                      False                 True   \n",
       "total minutes                            False                False   \n",
       "\n",
       "                        total calls_excl_cs  total minutes  \n",
       "account length                        False          False  \n",
       "number vmail messages                 False          False  \n",
       "total day minutes                     False          False  \n",
       "total day calls                       False          False  \n",
       "total day charge                      False          False  \n",
       "total eve minutes                     False          False  \n",
       "total eve calls                       False          False  \n",
       "total eve charge                      False          False  \n",
       "total night minutes                   False          False  \n",
       "total night calls                     False          False  \n",
       "total night charge                    False          False  \n",
       "total intl minutes                    False          False  \n",
       "total intl calls                      False          False  \n",
       "total intl charge                     False          False  \n",
       "customer service calls                False          False  \n",
       "total calls_incl_cs                    True          False  \n",
       "total calls_excl_cs                    True          False  \n",
       "total minutes                         False           True  "
      ]
     },
     "execution_count": 36,
     "metadata": {},
     "output_type": "execute_result"
    }
   ],
   "source": [
    "abs(df[numer_cols].corr()) > 0.75"
   ]
  },
  {
   "cell_type": "markdown",
   "id": "cdaa714b-fbfc-4212-b916-7354ead7d01a",
   "metadata": {},
   "source": [
    "Where the boolean value is `True` it means there is multicollinearity"
   ]
  },
  {
   "cell_type": "code",
   "execution_count": 37,
   "id": "c7034f3b-8a62-4ae4-a8ce-a8cdacbaaa55",
   "metadata": {},
   "outputs": [],
   "source": [
    "colli_df=df[numer_cols].corr().abs().stack().reset_index().sort_values(0, ascending=False)\n",
    "\n",
    "# zip the variable name columns (Which were only named level_0 and level_1 by default) in a new column named \"pairs\"\n",
    "colli_df['pairs'] = list(zip(colli_df.level_0, colli_df.level_1))\n",
    "\n",
    "# set index to pairs\n",
    "colli_df.set_index(['pairs'], inplace = True)\n",
    "\n",
    "#d rop level columns\n",
    "colli_df.drop(columns=['level_1', 'level_0'], inplace = True)\n",
    "\n",
    "# rename correlation column as cc rather than 0\n",
    "colli_df.columns = ['cc']\n",
    "\n",
    " "
   ]
  },
  {
   "cell_type": "code",
   "execution_count": 38,
   "id": "f82977af-4268-4310-96fb-32b734967a44",
   "metadata": {},
   "outputs": [
    {
     "data": {
      "text/html": [
       "<div>\n",
       "<style scoped>\n",
       "    .dataframe tbody tr th:only-of-type {\n",
       "        vertical-align: middle;\n",
       "    }\n",
       "\n",
       "    .dataframe tbody tr th {\n",
       "        vertical-align: top;\n",
       "    }\n",
       "\n",
       "    .dataframe thead th {\n",
       "        text-align: right;\n",
       "    }\n",
       "</style>\n",
       "<table border=\"1\" class=\"dataframe\">\n",
       "  <thead>\n",
       "    <tr style=\"text-align: right;\">\n",
       "      <th></th>\n",
       "      <th>cc</th>\n",
       "    </tr>\n",
       "    <tr>\n",
       "      <th>pairs</th>\n",
       "      <th></th>\n",
       "    </tr>\n",
       "  </thead>\n",
       "  <tbody>\n",
       "    <tr>\n",
       "      <th>(total day charge, total day minutes)</th>\n",
       "      <td>1.000000</td>\n",
       "    </tr>\n",
       "    <tr>\n",
       "      <th>(total day minutes, total day charge)</th>\n",
       "      <td>1.000000</td>\n",
       "    </tr>\n",
       "    <tr>\n",
       "      <th>(total eve charge, total eve minutes)</th>\n",
       "      <td>1.000000</td>\n",
       "    </tr>\n",
       "    <tr>\n",
       "      <th>(total eve minutes, total eve charge)</th>\n",
       "      <td>1.000000</td>\n",
       "    </tr>\n",
       "    <tr>\n",
       "      <th>(total night charge, total night minutes)</th>\n",
       "      <td>0.999999</td>\n",
       "    </tr>\n",
       "    <tr>\n",
       "      <th>(total night minutes, total night charge)</th>\n",
       "      <td>0.999999</td>\n",
       "    </tr>\n",
       "    <tr>\n",
       "      <th>(total intl minutes, total intl charge)</th>\n",
       "      <td>0.999993</td>\n",
       "    </tr>\n",
       "    <tr>\n",
       "      <th>(total intl charge, total intl minutes)</th>\n",
       "      <td>0.999993</td>\n",
       "    </tr>\n",
       "    <tr>\n",
       "      <th>(total calls_excl_cs, total calls_incl_cs)</th>\n",
       "      <td>0.999225</td>\n",
       "    </tr>\n",
       "    <tr>\n",
       "      <th>(total calls_incl_cs, total calls_excl_cs)</th>\n",
       "      <td>0.999225</td>\n",
       "    </tr>\n",
       "  </tbody>\n",
       "</table>\n",
       "</div>"
      ],
      "text/plain": [
       "                                                  cc\n",
       "pairs                                               \n",
       "(total day charge, total day minutes)       1.000000\n",
       "(total day minutes, total day charge)       1.000000\n",
       "(total eve charge, total eve minutes)       1.000000\n",
       "(total eve minutes, total eve charge)       1.000000\n",
       "(total night charge, total night minutes)   0.999999\n",
       "(total night minutes, total night charge)   0.999999\n",
       "(total intl minutes, total intl charge)     0.999993\n",
       "(total intl charge, total intl minutes)     0.999993\n",
       "(total calls_excl_cs, total calls_incl_cs)  0.999225\n",
       "(total calls_incl_cs, total calls_excl_cs)  0.999225"
      ]
     },
     "execution_count": 38,
     "metadata": {},
     "output_type": "execute_result"
    }
   ],
   "source": [
    "colli_df[(colli_df.cc>.75) & (colli_df.cc <1)]"
   ]
  },
  {
   "cell_type": "markdown",
   "id": "871f49da-4e09-454f-96fa-ed0677257333",
   "metadata": {},
   "source": [
    "##### Convert Churn To 0s and 1s"
   ]
  },
  {
   "cell_type": "markdown",
   "id": "7a5be954-4cd0-431f-9b68-e8e45f899676",
   "metadata": {},
   "source": [
    "Convert 'Churn' to 0 for False, 1 for True. Check feature correlations with 'Churn'. Address multicollinearity by comparing feature correlations and relevance to 'Churn'."
   ]
  },
  {
   "cell_type": "code",
   "execution_count": 39,
   "id": "8e968db6-c88b-43f6-a55a-7f9e01841428",
   "metadata": {},
   "outputs": [
    {
     "data": {
      "text/plain": [
       "churn\n",
       "0    2727\n",
       "1     462\n",
       "Name: count, dtype: int64"
      ]
     },
     "execution_count": 39,
     "metadata": {},
     "output_type": "execute_result"
    }
   ],
   "source": [
    "ler = LabelEncoder()\n",
    "\n",
    "# Encode the 'churn' column\n",
    "df['churn'] = ler.fit_transform(df['churn'])\n",
    "\n",
    "# Drop the original 'churn' column if needed\n",
    "# df.drop('churn', axis=1, inplace=True)\n",
    "df['churn'].value_counts()"
   ]
  },
  {
   "cell_type": "markdown",
   "id": "8a17abfc-5cea-4578-84d3-a342806def31",
   "metadata": {},
   "source": [
    "This shows class imbalance"
   ]
  },
  {
   "cell_type": "markdown",
   "id": "1fd262cf-7283-445f-90ab-29c11f0a0fac",
   "metadata": {},
   "source": [
    "##### Drop Features That are Multicollinearated with each other"
   ]
  },
  {
   "cell_type": "code",
   "execution_count": 40,
   "id": "cf2e6572-8e45-4b66-a91f-932376e8f973",
   "metadata": {},
   "outputs": [],
   "source": [
    "df.drop(columns = ['total day charge','total eve charge','total night charge','total intl charge', 'total calls_excl_cs'],inplace = True)"
   ]
  },
  {
   "cell_type": "markdown",
   "id": "de497724-6671-49eb-8f16-1c600117f255",
   "metadata": {},
   "source": [
    "### modelling"
   ]
  },
  {
   "cell_type": "markdown",
   "id": "bd642e5e-ba06-421d-b719-59f392f902c0",
   "metadata": {},
   "source": [
    "Train_test_split"
   ]
  },
  {
   "cell_type": "code",
   "execution_count": 41,
   "id": "1d29646c-2584-4943-960a-5968c89494d2",
   "metadata": {},
   "outputs": [],
   "source": [
    "# Assignig churn to `y` as the target variable and all the other features to `X` as the indepenent variables\n",
    "y = df['churn']\n",
    "X = df.drop(columns ='churn',axis = 1)"
   ]
  },
  {
   "cell_type": "code",
   "execution_count": 42,
   "id": "9daad786-050c-4c76-b39f-09a10e8b793c",
   "metadata": {},
   "outputs": [],
   "source": [
    "# Splitting the data into X_train,X_test,y_train, y_test\n",
    "X_train, X_test, y_train, y_test = train_test_split(X,y,\n",
    "                                                    test_size = 0.2,\n",
    "                                                    random_state = 42)"
   ]
  },
  {
   "cell_type": "code",
   "execution_count": 43,
   "id": "e575066b-0aa3-490a-ab12-57052db9f456",
   "metadata": {},
   "outputs": [
    {
     "name": "stdout",
     "output_type": "stream",
     "text": [
      "X_train_shape (2551, 16)\n",
      "========================\n",
      "X_test_shape (638, 16)\n",
      "========================\n",
      "y_train_shape (2551,)\n",
      "========================\n",
      "y_test_shape (638,)\n",
      "========================\n"
     ]
    }
   ],
   "source": [
    "# Printing out the shape of x_train,y_train,X_test, y_test\n",
    "print('X_train_shape',X_train.shape)\n",
    "print('=' * 24)\n",
    "print('X_test_shape',X_test.shape)\n",
    "print('=' * 24)\n",
    "print('y_train_shape',y_train.shape)\n",
    "print('=' * 24)\n",
    "print('y_test_shape',y_test.shape)\n",
    "print('=' * 24)"
   ]
  },
  {
   "cell_type": "markdown",
   "id": "fc538a01-74f2-4a2d-b449-1826916e202b",
   "metadata": {},
   "source": [
    "Preprocessing"
   ]
  },
  {
   "cell_type": "code",
   "execution_count": 44,
   "id": "57342171-c0c5-4251-ae71-5831daa32692",
   "metadata": {},
   "outputs": [],
   "source": [
    "# acaolumns to label encode\n",
    "cat_cols = ['international plan', 'voice mail plan']\n",
    "\n",
    "# instantiate LabelEncoder\n",
    "le = LabelEncoder()\n",
    "\n",
    "# Fit and transform each categorical column in the training set\n",
    "for col in cat_cols:\n",
    "    X_train[col] = le.fit_transform(X_train[col])\n",
    "\n",
    "# Transform each categorical column in the test set\n",
    "for col in cat_cols:\n",
    "    X_test[col] = le.transform(X_test[col])\n",
    "\n"
   ]
  },
  {
   "cell_type": "markdown",
   "id": "0496afba-aaa9-46f6-bc9b-45941382f2d9",
   "metadata": {},
   "source": [
    "#### Scaling"
   ]
  },
  {
   "cell_type": "markdown",
   "id": "69aa67e1-e116-4056-8129-b580715db183",
   "metadata": {},
   "source": [
    "Scaling is the process of transforming values of several variables into a similar range. Typical normalizations include scaling the variable so the variable average is 0, scaling the variable so the variable variance is 1, or scaling the variable so the variable values range from 0 to 1.\n",
    "In our example, scaling using Standard Scaler method is applied. \n",
    "Scaling is applied on the columns which is defined in \"numeric_cols\" variable below."
   ]
  },
  {
   "cell_type": "code",
   "execution_count": 46,
   "id": "8ea4f5af",
   "metadata": {},
   "outputs": [],
   "source": [
    "numer_cols = ['account length','number vmail messages','total day minutes','total day calls', \n",
    "                'total eve minutes','total eve calls' ,'total night minutes','total night calls',\n",
    "                'total intl minutes','total intl calls','customer service calls','total calls_incl_cs','total minutes']"
   ]
  },
  {
   "cell_type": "code",
   "execution_count": 47,
   "id": "c5adfbc7-9953-4062-872e-f3757d63832a",
   "metadata": {},
   "outputs": [],
   "source": [
    "scaler = StandardScaler()\n",
    "# Fit and transform the numeric columns in the training set\n",
    "X_train_scaled = pd.DataFrame(\n",
    "    scaler.fit_transform(X_train[numer_cols]),\n",
    "    index=X_train.index,\n",
    "    columns=numer_cols\n",
    ")\n",
    "# Transform the numeric columns in the test set using the saler use for training\n",
    "X_test_scaled = pd.DataFrame(\n",
    "    scaler.transform(X_test[numer_cols]),\n",
    "    index=X_test.index,\n",
    "    columns=numer_cols\n",
    ")\n",
    "\n"
   ]
  },
  {
   "cell_type": "code",
   "execution_count": 48,
   "id": "3213adee-5c03-4f53-840e-4334ea87b82c",
   "metadata": {},
   "outputs": [],
   "source": [
    "# Concatenate the encoded categorical variables and scaled variables\n",
    "X_train= pd.concat([X_train_scaled, X_train[cat_cols]], axis=1)\n",
    "X_test= pd.concat([X_test_scaled, X_test[cat_cols]], axis=1)"
   ]
  },
  {
   "cell_type": "markdown",
   "id": "99d88164-fe50-444b-843d-e8eb082cdc5b",
   "metadata": {},
   "source": [
    "**Models that am going to use:**\n",
    "- Logistic regression model as my baseline model\n",
    "- KNearest Model\n",
    "- Decison tree model\n",
    "- Random forest model\n",
    "- Xgoost model"
   ]
  },
  {
   "cell_type": "markdown",
   "id": "3576bfdb",
   "metadata": {},
   "source": [
    "**Ways am going to improve my models**\n",
    "\n",
    "- Smote\n",
    "- Feature Selection using methods such as Recursive Feature  Elimination (RFE) or feature importance \n",
    "- Ensemble methods eg.XGBoost,LightGBM\n",
    "- Crossvalidation\n",
    "- Hyperparameter Tuning\n",
    " Apply L1 (Lasso) or L2 (Ridge) regularization methods to reduce overfitting\n"
   ]
  },
  {
   "cell_type": "markdown",
   "id": "bddef29d",
   "metadata": {},
   "source": [
    "#### Logistic Regression Model"
   ]
  },
  {
   "cell_type": "markdown",
   "id": "ee3f1ceb-6b1b-4944-a19e-743578cd77df",
   "metadata": {},
   "source": [
    "Instantiate LogisticRegression\n",
    ">- Make sure you don't include the intercept\n",
    ">- set C to a very large number such as 1e12\n",
    ">- Use the `liblinear` solver\n",
    "\n",
    "Fit the model to the training data"
   ]
  },
  {
   "cell_type": "code",
   "execution_count": 49,
   "id": "4f20434d-fb7d-4c9e-b7fc-6503ca19e6c4",
   "metadata": {},
   "outputs": [
    {
     "data": {
      "text/html": [
       "<style>#sk-container-id-1 {color: black;background-color: white;}#sk-container-id-1 pre{padding: 0;}#sk-container-id-1 div.sk-toggleable {background-color: white;}#sk-container-id-1 label.sk-toggleable__label {cursor: pointer;display: block;width: 100%;margin-bottom: 0;padding: 0.3em;box-sizing: border-box;text-align: center;}#sk-container-id-1 label.sk-toggleable__label-arrow:before {content: \"▸\";float: left;margin-right: 0.25em;color: #696969;}#sk-container-id-1 label.sk-toggleable__label-arrow:hover:before {color: black;}#sk-container-id-1 div.sk-estimator:hover label.sk-toggleable__label-arrow:before {color: black;}#sk-container-id-1 div.sk-toggleable__content {max-height: 0;max-width: 0;overflow: hidden;text-align: left;background-color: #f0f8ff;}#sk-container-id-1 div.sk-toggleable__content pre {margin: 0.2em;color: black;border-radius: 0.25em;background-color: #f0f8ff;}#sk-container-id-1 input.sk-toggleable__control:checked~div.sk-toggleable__content {max-height: 200px;max-width: 100%;overflow: auto;}#sk-container-id-1 input.sk-toggleable__control:checked~label.sk-toggleable__label-arrow:before {content: \"▾\";}#sk-container-id-1 div.sk-estimator input.sk-toggleable__control:checked~label.sk-toggleable__label {background-color: #d4ebff;}#sk-container-id-1 div.sk-label input.sk-toggleable__control:checked~label.sk-toggleable__label {background-color: #d4ebff;}#sk-container-id-1 input.sk-hidden--visually {border: 0;clip: rect(1px 1px 1px 1px);clip: rect(1px, 1px, 1px, 1px);height: 1px;margin: -1px;overflow: hidden;padding: 0;position: absolute;width: 1px;}#sk-container-id-1 div.sk-estimator {font-family: monospace;background-color: #f0f8ff;border: 1px dotted black;border-radius: 0.25em;box-sizing: border-box;margin-bottom: 0.5em;}#sk-container-id-1 div.sk-estimator:hover {background-color: #d4ebff;}#sk-container-id-1 div.sk-parallel-item::after {content: \"\";width: 100%;border-bottom: 1px solid gray;flex-grow: 1;}#sk-container-id-1 div.sk-label:hover label.sk-toggleable__label {background-color: #d4ebff;}#sk-container-id-1 div.sk-serial::before {content: \"\";position: absolute;border-left: 1px solid gray;box-sizing: border-box;top: 0;bottom: 0;left: 50%;z-index: 0;}#sk-container-id-1 div.sk-serial {display: flex;flex-direction: column;align-items: center;background-color: white;padding-right: 0.2em;padding-left: 0.2em;position: relative;}#sk-container-id-1 div.sk-item {position: relative;z-index: 1;}#sk-container-id-1 div.sk-parallel {display: flex;align-items: stretch;justify-content: center;background-color: white;position: relative;}#sk-container-id-1 div.sk-item::before, #sk-container-id-1 div.sk-parallel-item::before {content: \"\";position: absolute;border-left: 1px solid gray;box-sizing: border-box;top: 0;bottom: 0;left: 50%;z-index: -1;}#sk-container-id-1 div.sk-parallel-item {display: flex;flex-direction: column;z-index: 1;position: relative;background-color: white;}#sk-container-id-1 div.sk-parallel-item:first-child::after {align-self: flex-end;width: 50%;}#sk-container-id-1 div.sk-parallel-item:last-child::after {align-self: flex-start;width: 50%;}#sk-container-id-1 div.sk-parallel-item:only-child::after {width: 0;}#sk-container-id-1 div.sk-dashed-wrapped {border: 1px dashed gray;margin: 0 0.4em 0.5em 0.4em;box-sizing: border-box;padding-bottom: 0.4em;background-color: white;}#sk-container-id-1 div.sk-label label {font-family: monospace;font-weight: bold;display: inline-block;line-height: 1.2em;}#sk-container-id-1 div.sk-label-container {text-align: center;}#sk-container-id-1 div.sk-container {/* jupyter's `normalize.less` sets `[hidden] { display: none; }` but bootstrap.min.css set `[hidden] { display: none !important; }` so we also need the `!important` here to be able to override the default hidden behavior on the sphinx rendered scikit-learn.org. See: https://github.com/scikit-learn/scikit-learn/issues/21755 */display: inline-block !important;position: relative;}#sk-container-id-1 div.sk-text-repr-fallback {display: none;}</style><div id=\"sk-container-id-1\" class=\"sk-top-container\"><div class=\"sk-text-repr-fallback\"><pre>LogisticRegression(C=1000000000000.0, fit_intercept=False, solver=&#x27;liblinear&#x27;)</pre><b>In a Jupyter environment, please rerun this cell to show the HTML representation or trust the notebook. <br />On GitHub, the HTML representation is unable to render, please try loading this page with nbviewer.org.</b></div><div class=\"sk-container\" hidden><div class=\"sk-item\"><div class=\"sk-estimator sk-toggleable\"><input class=\"sk-toggleable__control sk-hidden--visually\" id=\"sk-estimator-id-1\" type=\"checkbox\" checked><label for=\"sk-estimator-id-1\" class=\"sk-toggleable__label sk-toggleable__label-arrow\">LogisticRegression</label><div class=\"sk-toggleable__content\"><pre>LogisticRegression(C=1000000000000.0, fit_intercept=False, solver=&#x27;liblinear&#x27;)</pre></div></div></div></div></div>"
      ],
      "text/plain": [
       "LogisticRegression(C=1000000000000.0, fit_intercept=False, solver='liblinear')"
      ]
     },
     "execution_count": 49,
     "metadata": {},
     "output_type": "execute_result"
    }
   ],
   "source": [
    "logreg = LogisticRegression(fit_intercept=False, C=1e12, solver='liblinear')\n",
    "# Fit the model\n",
    "logreg.fit(X_train, y_train)\n"
   ]
  },
  {
   "cell_type": "markdown",
   "id": "97bce880-f13e-4694-bade-3002b91cabf7",
   "metadata": {},
   "source": [
    "Predict\n",
    "Generate predictions for the training and test sets."
   ]
  },
  {
   "cell_type": "code",
   "execution_count": 50,
   "id": "c1b8a385-14b4-4a6f-90e1-d0a34081ebfb",
   "metadata": {},
   "outputs": [
    {
     "name": "stdout",
     "output_type": "stream",
     "text": [
      "churn\n",
      "0    2208\n",
      "1     343\n",
      "Name: count, dtype: int64\n",
      "------------------------------------\n",
      "churn\n",
      "0    0.865543\n",
      "1    0.134457\n",
      "Name: proportion, dtype: float64\n",
      "churn\n",
      "0    539\n",
      "1     99\n",
      "Name: count, dtype: int64\n",
      "------------------------------------\n",
      "churn\n",
      "0    0.844828\n",
      "1    0.155172\n",
      "Name: proportion, dtype: float64\n"
     ]
    }
   ],
   "source": [
    "# Generate predictions\n",
    "y_predict_train = logreg.predict(X_train)\n",
    "y_predict_test = logreg.predict(X_test)\n",
    "# How many times was the classifier correct on the training set?\n",
    "# We could subtract the two columns. If values or equal, difference will be zero. Then count number of zeros.\n",
    "residuals = np.abs(y_train - y_predict_train)\n",
    "print(pd.Series(residuals).value_counts())\n",
    "print('------------------------------------')\n",
    "print(pd.Series(residuals).value_counts(normalize=True))\n",
    "# 194 correct, ~ 85% accuracy\n",
    "# How many times was the classifier correct on the training set?\n",
    "# We could subtract the two columns. If values or equal, difference will be zero. Then count number of zeros.\n",
    "residuals = np.abs(y_test - y_predict_test)\n",
    "print(pd.Series(residuals).value_counts())\n",
    "print('------------------------------------')\n",
    "print(pd.Series(residuals).value_counts(normalize=True))\n",
    "# 62 correct, ~ 82% accuracy"
   ]
  },
  {
   "cell_type": "code",
   "execution_count": 51,
   "id": "77e58b61-8540-4e7a-a01a-a42ce8e2ba26",
   "metadata": {},
   "outputs": [
    {
     "name": "stdout",
     "output_type": "stream",
     "text": [
      "Accuracy: 0.8448275862068966\n",
      "Precision: 0.6060606060606061\n",
      "Classification Report:\n",
      "              precision    recall  f1-score   support\n",
      "\n",
      "           0       0.86      0.98      0.91       532\n",
      "           1       0.61      0.19      0.29       106\n",
      "\n",
      "    accuracy                           0.84       638\n",
      "   macro avg       0.73      0.58      0.60       638\n",
      "weighted avg       0.82      0.84      0.81       638\n",
      "\n"
     ]
    }
   ],
   "source": [
    " # Calculate accuracy\n",
    "accuracy_result = accuracy_score(y_test, y_predict_test )\n",
    "print(\"Accuracy:\", accuracy_result)\n",
    "\n",
    "# Calculate precision\n",
    "precision_result = precision_score(y_test, y_predict_test )\n",
    "print(\"Precision:\", precision_result)\n",
    "\n",
    "# Generate classification report\n",
    "report_result = classification_report(y_test, y_predict_test )\n",
    "print(\"Classification Report:\")\n",
    "print(report_result)\n",
    "\n",
    " "
   ]
  },
  {
   "cell_type": "markdown",
   "id": "3d5f4ddd-e938-4a4e-9725-6b6bceb0ba5c",
   "metadata": {},
   "source": [
    "#### A function To display Confusion matrix"
   ]
  },
  {
   "cell_type": "code",
   "execution_count": 54,
   "id": "af102972-3f7a-4617-b12a-bb17c19c3b8d",
   "metadata": {},
   "outputs": [],
   "source": [
    "def confusion_matrix(y_true, y_pred, classes=None):\n",
    "    \"\"\"\n",
    "    Plot a confusion matrix.\n",
    "    \n",
    "    Parameters:\n",
    "        y_true (array-like): True labels.\n",
    "        y_pred (array-like): Predicted labels.\n",
    "        classes (array-like, optional): List of class labels. If not provided, classes are inferred from y_true and y_pred.\n",
    "    \"\"\"\n",
    "    # Calculation of the confusion matrix\n",
    "    cnf_matrix = confusion_matrix(y_true, y_pred)\n",
    "    \n",
    "    # Get class labels\n",
    "    if classes is None:\n",
    "        classes = sorted(set(y_true) | set(y_pred))\n",
    "    \n",
    "    # Visualize confusion matrix\n",
    "    disp = ConfusionMatrixDisplay(confusion_matrix=cnf_matrix, display_labels=classes)\n",
    "    disp.plot(cmap=plt.cm.Blues)\n",
    "    plt.title('Confusion Matrix')\n",
    "    plt.show()\n"
   ]
  },
  {
   "cell_type": "code",
   "execution_count": 55,
   "id": "6cd39e62-f1d7-41fd-b3a0-9aa5eb4df470",
   "metadata": {},
   "outputs": [
    {
     "ename": "RecursionError",
     "evalue": "maximum recursion depth exceeded",
     "output_type": "error",
     "traceback": [
      "\u001b[1;31m---------------------------------------------------------------------------\u001b[0m",
      "\u001b[1;31mRecursionError\u001b[0m                            Traceback (most recent call last)",
      "Cell \u001b[1;32mIn[55], line 2\u001b[0m\n\u001b[0;32m      1\u001b[0m \u001b[38;5;66;03m# Assuming you have your true labels y_test and predicted labels y_hat_test\u001b[39;00m\n\u001b[1;32m----> 2\u001b[0m confusion_matrix(y_test, y_predict_test, classes\u001b[38;5;241m=\u001b[39mlogreg\u001b[38;5;241m.\u001b[39mclasses_)\n",
      "Cell \u001b[1;32mIn[54], line 11\u001b[0m, in \u001b[0;36mconfusion_matrix\u001b[1;34m(y_true, y_pred, classes)\u001b[0m\n\u001b[0;32m      2\u001b[0m \u001b[38;5;250m\u001b[39m\u001b[38;5;124;03m\"\"\"\u001b[39;00m\n\u001b[0;32m      3\u001b[0m \u001b[38;5;124;03mPlot a confusion matrix.\u001b[39;00m\n\u001b[0;32m      4\u001b[0m \u001b[38;5;124;03m\u001b[39;00m\n\u001b[1;32m   (...)\u001b[0m\n\u001b[0;32m      8\u001b[0m \u001b[38;5;124;03m    classes (array-like, optional): List of class labels. If not provided, classes are inferred from y_true and y_pred.\u001b[39;00m\n\u001b[0;32m      9\u001b[0m \u001b[38;5;124;03m\"\"\"\u001b[39;00m\n\u001b[0;32m     10\u001b[0m \u001b[38;5;66;03m# Calculation of the confusion matrix\u001b[39;00m\n\u001b[1;32m---> 11\u001b[0m cnf_matrix \u001b[38;5;241m=\u001b[39m confusion_matrix(y_true, y_pred)\n\u001b[0;32m     13\u001b[0m \u001b[38;5;66;03m# Get class labels\u001b[39;00m\n\u001b[0;32m     14\u001b[0m \u001b[38;5;28;01mif\u001b[39;00m classes \u001b[38;5;129;01mis\u001b[39;00m \u001b[38;5;28;01mNone\u001b[39;00m:\n",
      "Cell \u001b[1;32mIn[54], line 11\u001b[0m, in \u001b[0;36mconfusion_matrix\u001b[1;34m(y_true, y_pred, classes)\u001b[0m\n\u001b[0;32m      2\u001b[0m \u001b[38;5;250m\u001b[39m\u001b[38;5;124;03m\"\"\"\u001b[39;00m\n\u001b[0;32m      3\u001b[0m \u001b[38;5;124;03mPlot a confusion matrix.\u001b[39;00m\n\u001b[0;32m      4\u001b[0m \u001b[38;5;124;03m\u001b[39;00m\n\u001b[1;32m   (...)\u001b[0m\n\u001b[0;32m      8\u001b[0m \u001b[38;5;124;03m    classes (array-like, optional): List of class labels. If not provided, classes are inferred from y_true and y_pred.\u001b[39;00m\n\u001b[0;32m      9\u001b[0m \u001b[38;5;124;03m\"\"\"\u001b[39;00m\n\u001b[0;32m     10\u001b[0m \u001b[38;5;66;03m# Calculation of the confusion matrix\u001b[39;00m\n\u001b[1;32m---> 11\u001b[0m cnf_matrix \u001b[38;5;241m=\u001b[39m confusion_matrix(y_true, y_pred)\n\u001b[0;32m     13\u001b[0m \u001b[38;5;66;03m# Get class labels\u001b[39;00m\n\u001b[0;32m     14\u001b[0m \u001b[38;5;28;01mif\u001b[39;00m classes \u001b[38;5;129;01mis\u001b[39;00m \u001b[38;5;28;01mNone\u001b[39;00m:\n",
      "    \u001b[1;31m[... skipping similar frames: confusion_matrix at line 11 (2970 times)]\u001b[0m\n",
      "Cell \u001b[1;32mIn[54], line 11\u001b[0m, in \u001b[0;36mconfusion_matrix\u001b[1;34m(y_true, y_pred, classes)\u001b[0m\n\u001b[0;32m      2\u001b[0m \u001b[38;5;250m\u001b[39m\u001b[38;5;124;03m\"\"\"\u001b[39;00m\n\u001b[0;32m      3\u001b[0m \u001b[38;5;124;03mPlot a confusion matrix.\u001b[39;00m\n\u001b[0;32m      4\u001b[0m \u001b[38;5;124;03m\u001b[39;00m\n\u001b[1;32m   (...)\u001b[0m\n\u001b[0;32m      8\u001b[0m \u001b[38;5;124;03m    classes (array-like, optional): List of class labels. If not provided, classes are inferred from y_true and y_pred.\u001b[39;00m\n\u001b[0;32m      9\u001b[0m \u001b[38;5;124;03m\"\"\"\u001b[39;00m\n\u001b[0;32m     10\u001b[0m \u001b[38;5;66;03m# Calculation of the confusion matrix\u001b[39;00m\n\u001b[1;32m---> 11\u001b[0m cnf_matrix \u001b[38;5;241m=\u001b[39m confusion_matrix(y_true, y_pred)\n\u001b[0;32m     13\u001b[0m \u001b[38;5;66;03m# Get class labels\u001b[39;00m\n\u001b[0;32m     14\u001b[0m \u001b[38;5;28;01mif\u001b[39;00m classes \u001b[38;5;129;01mis\u001b[39;00m \u001b[38;5;28;01mNone\u001b[39;00m:\n",
      "\u001b[1;31mRecursionError\u001b[0m: maximum recursion depth exceeded"
     ]
    }
   ],
   "source": [
    "# Assuming you have your true labels y_test and predicted labels y_hat_test\n",
    "confusion_matrix(y_test, y_predict_test, classes=logreg.classes_)\n"
   ]
  },
  {
   "cell_type": "markdown",
   "id": "69082116-8a58-46cf-9775-9f6d0a98fb6c",
   "metadata": {},
   "source": [
    "### KNN"
   ]
  },
  {
   "cell_type": "code",
   "execution_count": 56,
   "id": "d53a95a1-fb39-4623-9047-8a102eaeb80c",
   "metadata": {},
   "outputs": [
    {
     "name": "stdout",
     "output_type": "stream",
     "text": [
      "Accuracy: 0.8667711598746082\n",
      "Precision: 0.7837837837837838\n",
      "Classification Report:\n",
      "              precision    recall  f1-score   support\n",
      "\n",
      "           0       0.87      0.98      0.92       532\n",
      "           1       0.78      0.27      0.41       106\n",
      "\n",
      "    accuracy                           0.87       638\n",
      "   macro avg       0.83      0.63      0.67       638\n",
      "weighted avg       0.86      0.87      0.84       638\n",
      "\n"
     ]
    }
   ],
   "source": [
    "# Instantiate knn model classifier\n",
    "knn =  KNeighborsClassifier()\n",
    "# Train the KNN model\n",
    "knn.fit(X_train, y_train)\n",
    "       # Make predictions on the test set\n",
    "y_pred = knn.predict(X_test)\n",
    "        # Evaluate model performance\n",
    "accuracy = accuracy_score(y_test, y_pred)\n",
    "precision = precision_score(y_test, y_pred)\n",
    "report = classification_report(y_test, y_pred)\n",
    "\n",
    "# Print performance metrics\n",
    "print(\"Accuracy:\", accuracy)\n",
    "print(\"Precision:\", precision)\n",
    "print(\"Classification Report:\")\n",
    "print(report)"
   ]
  },
  {
   "cell_type": "code",
   "execution_count": 57,
   "id": "f632f0b2-d205-464f-b5b3-6e035d1bc00e",
   "metadata": {},
   "outputs": [
    {
     "ename": "RecursionError",
     "evalue": "maximum recursion depth exceeded",
     "output_type": "error",
     "traceback": [
      "\u001b[1;31m---------------------------------------------------------------------------\u001b[0m",
      "\u001b[1;31mRecursionError\u001b[0m                            Traceback (most recent call last)",
      "Cell \u001b[1;32mIn[57], line 2\u001b[0m\n\u001b[0;32m      1\u001b[0m \u001b[38;5;66;03m# Assuming you have your true labels y_test and predicted labels y_hat_test\u001b[39;00m\n\u001b[1;32m----> 2\u001b[0m confusion_matrix(y_test, y_pred, classes\u001b[38;5;241m=\u001b[39mknn\u001b[38;5;241m.\u001b[39mclasses_)\n",
      "Cell \u001b[1;32mIn[54], line 11\u001b[0m, in \u001b[0;36mconfusion_matrix\u001b[1;34m(y_true, y_pred, classes)\u001b[0m\n\u001b[0;32m      2\u001b[0m \u001b[38;5;250m\u001b[39m\u001b[38;5;124;03m\"\"\"\u001b[39;00m\n\u001b[0;32m      3\u001b[0m \u001b[38;5;124;03mPlot a confusion matrix.\u001b[39;00m\n\u001b[0;32m      4\u001b[0m \u001b[38;5;124;03m\u001b[39;00m\n\u001b[1;32m   (...)\u001b[0m\n\u001b[0;32m      8\u001b[0m \u001b[38;5;124;03m    classes (array-like, optional): List of class labels. If not provided, classes are inferred from y_true and y_pred.\u001b[39;00m\n\u001b[0;32m      9\u001b[0m \u001b[38;5;124;03m\"\"\"\u001b[39;00m\n\u001b[0;32m     10\u001b[0m \u001b[38;5;66;03m# Calculation of the confusion matrix\u001b[39;00m\n\u001b[1;32m---> 11\u001b[0m cnf_matrix \u001b[38;5;241m=\u001b[39m confusion_matrix(y_true, y_pred)\n\u001b[0;32m     13\u001b[0m \u001b[38;5;66;03m# Get class labels\u001b[39;00m\n\u001b[0;32m     14\u001b[0m \u001b[38;5;28;01mif\u001b[39;00m classes \u001b[38;5;129;01mis\u001b[39;00m \u001b[38;5;28;01mNone\u001b[39;00m:\n",
      "Cell \u001b[1;32mIn[54], line 11\u001b[0m, in \u001b[0;36mconfusion_matrix\u001b[1;34m(y_true, y_pred, classes)\u001b[0m\n\u001b[0;32m      2\u001b[0m \u001b[38;5;250m\u001b[39m\u001b[38;5;124;03m\"\"\"\u001b[39;00m\n\u001b[0;32m      3\u001b[0m \u001b[38;5;124;03mPlot a confusion matrix.\u001b[39;00m\n\u001b[0;32m      4\u001b[0m \u001b[38;5;124;03m\u001b[39;00m\n\u001b[1;32m   (...)\u001b[0m\n\u001b[0;32m      8\u001b[0m \u001b[38;5;124;03m    classes (array-like, optional): List of class labels. If not provided, classes are inferred from y_true and y_pred.\u001b[39;00m\n\u001b[0;32m      9\u001b[0m \u001b[38;5;124;03m\"\"\"\u001b[39;00m\n\u001b[0;32m     10\u001b[0m \u001b[38;5;66;03m# Calculation of the confusion matrix\u001b[39;00m\n\u001b[1;32m---> 11\u001b[0m cnf_matrix \u001b[38;5;241m=\u001b[39m confusion_matrix(y_true, y_pred)\n\u001b[0;32m     13\u001b[0m \u001b[38;5;66;03m# Get class labels\u001b[39;00m\n\u001b[0;32m     14\u001b[0m \u001b[38;5;28;01mif\u001b[39;00m classes \u001b[38;5;129;01mis\u001b[39;00m \u001b[38;5;28;01mNone\u001b[39;00m:\n",
      "    \u001b[1;31m[... skipping similar frames: confusion_matrix at line 11 (2970 times)]\u001b[0m\n",
      "Cell \u001b[1;32mIn[54], line 11\u001b[0m, in \u001b[0;36mconfusion_matrix\u001b[1;34m(y_true, y_pred, classes)\u001b[0m\n\u001b[0;32m      2\u001b[0m \u001b[38;5;250m\u001b[39m\u001b[38;5;124;03m\"\"\"\u001b[39;00m\n\u001b[0;32m      3\u001b[0m \u001b[38;5;124;03mPlot a confusion matrix.\u001b[39;00m\n\u001b[0;32m      4\u001b[0m \u001b[38;5;124;03m\u001b[39;00m\n\u001b[1;32m   (...)\u001b[0m\n\u001b[0;32m      8\u001b[0m \u001b[38;5;124;03m    classes (array-like, optional): List of class labels. If not provided, classes are inferred from y_true and y_pred.\u001b[39;00m\n\u001b[0;32m      9\u001b[0m \u001b[38;5;124;03m\"\"\"\u001b[39;00m\n\u001b[0;32m     10\u001b[0m \u001b[38;5;66;03m# Calculation of the confusion matrix\u001b[39;00m\n\u001b[1;32m---> 11\u001b[0m cnf_matrix \u001b[38;5;241m=\u001b[39m confusion_matrix(y_true, y_pred)\n\u001b[0;32m     13\u001b[0m \u001b[38;5;66;03m# Get class labels\u001b[39;00m\n\u001b[0;32m     14\u001b[0m \u001b[38;5;28;01mif\u001b[39;00m classes \u001b[38;5;129;01mis\u001b[39;00m \u001b[38;5;28;01mNone\u001b[39;00m:\n",
      "\u001b[1;31mRecursionError\u001b[0m: maximum recursion depth exceeded"
     ]
    }
   ],
   "source": [
    "# Assuming you have your true labels y_test and predicted labels y_hat_test\n",
    "confusion_matrix(y_test, y_pred, classes=knn.classes_)\n"
   ]
  },
  {
   "cell_type": "markdown",
   "id": "acae5c1b-f00c-4eb1-a232-ab0f9f1a10c9",
   "metadata": {},
   "source": [
    "### Decison Tree Model"
   ]
  },
  {
   "cell_type": "code",
   "execution_count": null,
   "id": "f236b786-7e96-492c-8049-c6dd840c8a7d",
   "metadata": {},
   "outputs": [
    {
     "ename": "",
     "evalue": "",
     "output_type": "error",
     "traceback": [
      "\u001b[1;31mFailed to start the Kernel. \n",
      "\u001b[1;31mUnable to start Kernel 'Python (learn-env)' due to a timeout waiting for the ports to get used. \n",
      "\u001b[1;31mView Jupyter <a href='command:jupyter.viewOutput'>log</a> for further details."
     ]
    }
   ],
   "source": [
    "# Build the decision tree classifier\n",
    "dtc = DecisionTreeClassifier()\n",
    "\n",
    "# Train the classifier\n",
    "dtc.fit(X_train, y_train)\n",
    "\n",
    "# Make predictions on the test data\n",
    "y_pred = dtc.predict(X_test)\n",
    "\n",
    "# Evaluate the classifier\n",
    "accuracy = accuracy_score(y_test, y_pred)\n",
    "precision = precision_score(y_test, y_pred)\n",
    "report = classification_report(y_test, y_pred)\n",
    "\n",
    "# Print performance metrics\n",
    "print(\"Accuracy:\", accuracy)\n",
    "print(\"Precision:\", precision)\n",
    "print(\"Classification Report:\")\n",
    "print(report)\n",
    "confusion_matrix(y_test, y_pred, classes=dtc.classes_)"
   ]
  },
  {
   "cell_type": "markdown",
   "id": "d235cd81-bde0-42a9-ab9b-c13b57f2430b",
   "metadata": {},
   "source": [
    "### Random Tree Classifier Model"
   ]
  },
  {
   "cell_type": "code",
   "execution_count": null,
   "id": "292359ee-93a7-4ea9-beec-0fb8f988bba8",
   "metadata": {},
   "outputs": [
    {
     "ename": "",
     "evalue": "",
     "output_type": "error",
     "traceback": [
      "\u001b[1;31mFailed to start the Kernel. \n",
      "\u001b[1;31mUnable to start Kernel 'Python (learn-env)' due to a timeout waiting for the ports to get used. \n",
      "\u001b[1;31mView Jupyter <a href='command:jupyter.viewOutput'>log</a> for further details."
     ]
    }
   ],
   "source": [
    "# instantiate random classifier model\n",
    "rfc = RandomForestClassifier(n_estimators=100, random_state=42)\n",
    "\n",
    "# Train the random classifier on the train set\n",
    "rfc.fit(X_train, y_train)\n",
    "\n",
    "# predictions on the test data\n",
    "y_pred =  rfc.predict(X_test)\n",
    "\n",
    "# Evaluatation of the random forest classifier\n",
    "accuracy = accuracy_score(y_test, y_pred)\n",
    "precision = precision_score(y_test, y_pred)\n",
    "report = classification_report(y_test, y_pred)\n",
    "\n",
    "# Print metrics\n",
    "print(\"Accuracy:\", accuracy)\n",
    "print(\"Precision:\", precision)\n",
    "print(\"Classification Report:\")\n",
    "print(report)\n",
    "confusion_matrix(y_test, y_pred, classes=dtc.classes_)\n",
    " "
   ]
  },
  {
   "cell_type": "code",
   "execution_count": null,
   "id": "b5124fd0-9fc8-4d6a-9d93-28cb4873ce5c",
   "metadata": {},
   "outputs": [
    {
     "ename": "",
     "evalue": "",
     "output_type": "error",
     "traceback": [
      "\u001b[1;31mFailed to start the Kernel. \n",
      "\u001b[1;31mUnable to start Kernel 'Python (learn-env)' due to a timeout waiting for the ports to get used. \n",
      "\u001b[1;31mView Jupyter <a href='command:jupyter.viewOutput'>log</a> for further details."
     ]
    }
   ],
   "source": [
    "frb\n",
    "\n",
    "# Convert y_test to binary form for ROC-AUC calculation\n",
    "y_test_bin = label_binarize(y_test, classes=[0, 1])  # Adjust classes based on your data\n",
    " \n",
    "# Make predictions on the test data\n",
    "y_pred_rf = rfc.predict(X_test)\n",
    "y_pred_prob_rf = rfc.predict_proba(X_test)\n",
    "\n",
    " \n",
    "# Compute AUC-ROC for Random Forest\n",
    "fpr_rf, tpr_rf, _ = roc_curve(y_test_bin, y_pred_prob_rf[:, 1])\n",
    "roc_auc_rf = roc_auc_score(y_test_bin, y_pred_prob_rf[:, 1])\n",
    "\n",
    "# Make predictions on the test data\n",
    "y_pred_knn = knn.predict(X_test)\n",
    "y_pred_prob_knn = knn.predict_proba(X_test)\n",
    "\n",
    "# Compute AUC-ROC for K nearest neighbors\n",
    "fpr_knn, tpr_knn, _ = roc_curve(y_test_bin, y_pred_prob_knn[:, 1])\n",
    "roc_auc_knn = roc_auc_score(y_test_bin, y_pred_prob_knn[:, 1])\n",
    "\n",
    "# Make predictions on the test data\n",
    "y_pred_dt =  dtc.predict(X_test)\n",
    "y_pred_prob_dt =  dtc.predict_proba(X_test)\n",
    "\n",
    "# Compute AUC-ROC for Decision Tree\n",
    "fpr_dt, tpr_dt, _ = roc_curve(y_test_bin, y_pred_prob_dt[:, 1])\n",
    "roc_auc_dt = roc_auc_score(y_test_bin, y_pred_prob_dt[:, 1])\n",
    "\n",
    "# Make predictions on the test data\n",
    "y_pred_log = dtc.predict(X_test)\n",
    "y_pred_prob_log =  dtc.predict_proba(X_test)\n",
    "\n",
    "# Compute AUC-ROC for Logistic regression\n",
    "fpr_log, tpr_log, _ = roc_curve(y_test_bin, y_pred_prob_log [:, 1])\n",
    "roc_auc_log = roc_auc_score(y_test_bin, y_pred_prob_log[:, 1])\n",
    "\n",
    "# Plot AUC-ROC curves\n",
    "plt.figure(figsize=(10, 6))\n",
    "\n",
    "# Random Forest\n",
    "plt.plot(fpr_rf, tpr_rf, lw=2, label=f'Random Forest ROC curve (area = {roc_auc_rf:.2f})')\n",
    "\n",
    "# K-nearestNeighbors\n",
    "plt.plot(fpr_knn, tpr_knn, lw=2, label=f'K-Nearest Neighbors ROC curve (area = {roc_auc_knn:.2f})')\n",
    "\n",
    "# Decision Tree\n",
    "plt.plot(fpr_dt, tpr_dt, lw=2, linestyle='--', label=f'Decision Tree ROC curve (area = {roc_auc_dt:.2f})')\n",
    "\n",
    "\n",
    "# Logistic Regression\n",
    "plt.plot(fpr_log, tpr_log, lw=2, linestyle='--', label=f'Logistic Regression (area = {roc_auc_log:.2f})')\n",
    "\n",
    "plt.plot([0, 1], [0, 1], color='navy', lw=2, linestyle='--')\n",
    "plt.xlim([0.0, 1.0])\n",
    "plt.ylim([0.0, 1.05])\n",
    "plt.xlabel('False Positive Rate')\n",
    "plt.ylabel('True Positive Rate')\n",
    "plt.title('AUC-ROC Curves for Random Forest and Decision Tree Classifiers')\n",
    "plt.legend(loc=\"lower right\")\n",
    "plt.show()\n"
   ]
  },
  {
   "cell_type": "markdown",
   "id": "1f329383-10d8-429f-b5cf-cc8e22e217d5",
   "metadata": {},
   "source": [
    "### Models with Smote and Hyperparameters Tuning"
   ]
  },
  {
   "cell_type": "markdown",
   "id": "73d2c00a-971b-4601-a89a-8c558802d83f",
   "metadata": {},
   "source": [
    "Smote\n",
    "I will Intergrate grid search, so that I can tune several hyperparameters in each of the machine learning models and also to avi data leakage"
   ]
  },
  {
   "cell_type": "code",
   "execution_count": null,
   "id": "f44828c8-7943-43c1-b0e6-78e3be9227d5",
   "metadata": {},
   "outputs": [
    {
     "ename": "",
     "evalue": "",
     "output_type": "error",
     "traceback": [
      "\u001b[1;31mFailed to start the Kernel. \n",
      "\u001b[1;31mUnable to start Kernel 'Python (learn-env)' due to a timeout waiting for the ports to get used. \n",
      "\u001b[1;31mView Jupyter <a href='command:jupyter.viewOutput'>log</a> for further details."
     ]
    }
   ],
   "source": [
    "# Apply SMOTE to the training data\n",
    "smote = SMOTE(random_state=42)\n",
    "X_train_smote, y_train_smote = smote.fit_resample(X_train, y_train)"
   ]
  },
  {
   "cell_type": "code",
   "execution_count": null,
   "id": "758c4f56-d55d-4f7b-893e-456886c3027a",
   "metadata": {},
   "outputs": [
    {
     "ename": "",
     "evalue": "",
     "output_type": "error",
     "traceback": [
      "\u001b[1;31mFailed to start the Kernel. \n",
      "\u001b[1;31mUnable to start Kernel 'Python (learn-env)' due to a timeout waiting for the ports to get used. \n",
      "\u001b[1;31mView Jupyter <a href='command:jupyter.viewOutput'>log</a> for further details."
     ]
    }
   ],
   "source": [
    "# Prepared the optimal logistic regression.\n",
    "lr = LogisticRegression(random_state=12345)\n",
    "\n",
    "solver = ['newton-cg', 'lbfgs', 'liblinear', 'sag', 'saga']\n",
    "max_iter = [ 100, 200, 300 ]\n",
    "\n",
    "param = {'solver': solver, 'max_iter': max_iter}\n",
    "\n",
    "grid_search = GridSearchCV(lr, param, cv=5, scoring='f1')\n",
    "\n",
    "grid_search.fit(X_train_smote, y_train_smote)\n",
    "\n",
    "print(\"best_lr_model:\", grid_search.best_estimator_)"
   ]
  },
  {
   "cell_type": "code",
   "execution_count": null,
   "id": "8d1595aa-f431-425b-a922-5dd821556aea",
   "metadata": {},
   "outputs": [
    {
     "ename": "",
     "evalue": "",
     "output_type": "error",
     "traceback": [
      "\u001b[1;31mFailed to start the Kernel. \n",
      "\u001b[1;31mUnable to start Kernel 'Python (learn-env)' due to a timeout waiting for the ports to get used. \n",
      "\u001b[1;31mView Jupyter <a href='command:jupyter.viewOutput'>log</a> for further details."
     ]
    }
   ],
   "source": [
    "from sklearn.model_selection import cross_val_predict\n",
    "# Ran optimized logistic regression with SMOTE.\n",
    "lr_smote = LogisticRegression(max_iter=1000, random_state=12345, solver='newton-cg')\n",
    "\n",
    "lr_smote_scores = cross_val_score(lr_smote, X_train_smote, y_train_smote, cv=5, scoring=\"accuracy\")\n",
    "\n",
    "lr_smote.fit(X_train_smote, y_train_smote)\n",
    "\n",
    "lr_smote_predict_train = cross_val_predict(lr_smote, X_train_smote, y_train_smote, cv=5)\n",
    "lr_smote_predict_test = cross_val_predict(lr_smote, X_test, y_test, cv=5)\n",
    "\n",
    "print(\"lr_smote_f1_train:\", f1_score(y_train_smote,lr_smote_predict_train))\n",
    "print(\"lr_smote_f1_test:\", f1_score(y_test,lr_smote_predict_test))\n",
    "print(\"lr_smote_accuracy_train:\", accuracy_score(y_train_smote,lr_smote_predict_train))\n",
    "print(\"lr_smote_accuracy_test:\", accuracy_score(y_test,lr_smote_predict_test))\n",
    "print(\"lr_smote_mean_accuracy:\", lr_smote_scores.mean())"
   ]
  },
  {
   "cell_type": "code",
   "execution_count": null,
   "id": "13b02fa3-8dee-45f0-b795-69ef791b4b9c",
   "metadata": {},
   "outputs": [
    {
     "ename": "",
     "evalue": "",
     "output_type": "error",
     "traceback": [
      "\u001b[1;31mFailed to start the Kernel. \n",
      "\u001b[1;31mUnable to start Kernel 'Python (learn-env)' due to a timeout waiting for the ports to get used. \n",
      "\u001b[1;31mView Jupyter <a href='command:jupyter.viewOutput'>log</a> for further details."
     ]
    }
   ],
   "source": [
    "from sklearn.neighbors import KNeighborsClassifier\n",
    "from sklearn.model_selection import GridSearchCV\n",
    "\n",
    "# Define the KNN classifier\n",
    "knn = KNeighborsClassifier()\n",
    "\n",
    "# Define the parameter grid with the necessary hyperparameters\n",
    "param_grid = {\n",
    "    'n_neighbors': [3, 5, 7, 9, 11],  # Number of neighbors to use\n",
    "    'weights': ['uniform', 'distance']  # Weight function used in prediction\n",
    "}\n",
    "\n",
    "# Perform grid search\n",
    "grid_search_knn = GridSearchCV(knn, param_grid, cv=5, scoring='f1')\n",
    "\n",
    "# Fit the model\n",
    "grid_search_knn.fit(X_train_smote, y_train_smote)\n",
    "\n",
    "# Print the best estimator found by GridSearchCV\n",
    "print(\"best_knn_model:\", grid_search_knn.best_estimator_)\n"
   ]
  },
  {
   "cell_type": "code",
   "execution_count": null,
   "id": "2da79985-125d-492c-97e8-ecc22e0c2a17",
   "metadata": {},
   "outputs": [
    {
     "ename": "",
     "evalue": "",
     "output_type": "error",
     "traceback": [
      "\u001b[1;31mFailed to start the Kernel. \n",
      "\u001b[1;31mUnable to start Kernel 'Python (learn-env)' due to a timeout waiting for the ports to get used. \n",
      "\u001b[1;31mView Jupyter <a href='command:jupyter.viewOutput'>log</a> for further details."
     ]
    }
   ],
   "source": [
    "from sklearn.model_selection import cross_val_predict\n",
    "# Ran optimized logistic regression with SMOTE.\n",
    "knn_smote = KNeighborsClassifier(n_neighbors=3, weights='distance')\n",
    "\n",
    "knn_smote_scores = cross_val_score(lr_smote, X_train_smote, y_train_smote, cv=5, scoring=\"accuracy\")\n",
    "\n",
    "knn_smote.fit(X_train_smote, y_train_smote)\n",
    "\n",
    "knn_smote_predict_train = cross_val_predict(knn_smote, X_train_smote, y_train_smote, cv=20)\n",
    "knn_smote_predict_test = cross_val_predict(knn_smote, X_test, y_test, cv=5)\n",
    "\n",
    "print(\"knn_smote_f1_train:\", f1_score(y_train_smote,knn_smote_predict_train))\n",
    "print(\"knn_smote_f1_test:\", f1_score(y_test,knn_smote_predict_test))\n",
    "print(\"knn_smote_accuracy_train:\", accuracy_score(y_train_smote,knn_smote_predict_train))\n",
    "print(\"knn_smote_accuracy_test:\", accuracy_score(y_test,knn_smote_predict_test))\n",
    "print(\"knn_smote_mean_accuracy:\", knn_smote_scores.mean())"
   ]
  },
  {
   "cell_type": "code",
   "execution_count": null,
   "id": "4e489cd9-8cd9-463a-a44b-8949bdb6f411",
   "metadata": {},
   "outputs": [
    {
     "ename": "",
     "evalue": "",
     "output_type": "error",
     "traceback": [
      "\u001b[1;31mFailed to start the Kernel. \n",
      "\u001b[1;31mUnable to start Kernel 'Python (learn-env)' due to a timeout waiting for the ports to get used. \n",
      "\u001b[1;31mView Jupyter <a href='command:jupyter.viewOutput'>log</a> for further details."
     ]
    }
   ],
   "source": [
    "from sklearn.ensemble import RandomForestClassifier\n",
    "from sklearn.model_selection import GridSearchCV\n",
    "\n",
    "# Define the Random Forest classifier\n",
    "rf = RandomForestClassifier(random_state=12345)\n",
    "\n",
    "# Define the parameter grid with the necessary hyperparameters\n",
    "param_grid = {\n",
    "    'n_estimators': [100, 200, 300],  # Number of trees in the forest\n",
    "    'max_depth': [None, 10, 20, 30]  # Maximum depth of the tree\n",
    "}\n",
    "\n",
    "# Perform grid search\n",
    "grid_search_rf = GridSearchCV(rf, param_grid, cv=5, scoring='f1')\n",
    "\n",
    "# Fit the model\n",
    "grid_search_rf.fit(X_train_smote, y_train_smote)\n",
    "\n",
    "# Print the best estimator found by GridSearchCV\n",
    "print(\"best_rf_model:\", grid_search_rf.best_estimator_)\n"
   ]
  },
  {
   "cell_type": "code",
   "execution_count": null,
   "id": "fb1cb423-9334-41eb-8544-172eb07142c6",
   "metadata": {},
   "outputs": [
    {
     "ename": "",
     "evalue": "",
     "output_type": "error",
     "traceback": [
      "\u001b[1;31mFailed to start the Kernel. \n",
      "\u001b[1;31mUnable to start Kernel 'Python (learn-env)' due to a timeout waiting for the ports to get used. \n",
      "\u001b[1;31mView Jupyter <a href='command:jupyter.viewOutput'>log</a> for further details."
     ]
    }
   ],
   "source": [
    "from sklearn.model_selection import cross_val_predict\n",
    "# Ran optimized logistic regression with SMOTE.\n",
    "rf_smote = RandomForestClassifier(n_estimators=300, random_state=12345) \n",
    "\n",
    "rf_smote_scores = cross_val_score(rf_smote, X_train_smote, y_train_smote, cv=5, scoring=\"accuracy\")\n",
    "\n",
    "rf_smote.fit(X_train_smote, y_train_smote)\n",
    "\n",
    "rf_smote_predict_train = cross_val_predict(rf_smote, X_train_smote, y_train_smote, cv=20)\n",
    "rf_smote_predict_test = cross_val_predict(rf_smote, X_test, y_test, cv=5)\n",
    "\n",
    "print(\"rf_smote_f1_train:\", f1_score(y_train_smote,rf_smote_predict_train))\n",
    "print(\"rf_smote_f1_test:\", f1_score(y_test,rf_smote_predict_test))\n",
    "print(\"rf_smote_accuracy_train:\", accuracy_score(y_train_smote,rf_smote_predict_train))\n",
    "print(\"rf_smote_accuracy_test:\", accuracy_score(y_test,rf_smote_predict_test))\n",
    "print(\"rf_smote_mean_accuracy:\", rf_smote_scores.mean())"
   ]
  },
  {
   "cell_type": "code",
   "execution_count": null,
   "id": "1af29499-1fef-4142-ae97-969feb55e923",
   "metadata": {},
   "outputs": [
    {
     "ename": "",
     "evalue": "",
     "output_type": "error",
     "traceback": [
      "\u001b[1;31mFailed to start the Kernel. \n",
      "\u001b[1;31mUnable to start Kernel 'Python (learn-env)' due to a timeout waiting for the ports to get used. \n",
      "\u001b[1;31mView Jupyter <a href='command:jupyter.viewOutput'>log</a> for further details."
     ]
    }
   ],
   "source": [
    "from sklearn.tree import DecisionTreeClassifier\n",
    "from sklearn.model_selection import GridSearchCV\n",
    "\n",
    "# Define the Decision Tree classifier\n",
    "dt = DecisionTreeClassifier(random_state=12345)\n",
    "\n",
    "# Define the parameter grid with the necessary hyperparameters\n",
    "param_grid = {\n",
    "    'criterion':['gini','entropy'],\n",
    "    'max_depth': [None, 10, 20, 30],  # Maximum depth of the tree\n",
    "    'min_samples_split': [2, 5, 10],  # Minimum number of samples required to split an internal node\n",
    "    'min_samples_leaf': [1, 2, 4]  # Minimum number of samples required to be at a leaf node\n",
    "}\n",
    "\n",
    "# Perform grid search\n",
    "grid_search_dt = GridSearchCV(dt, param_grid, cv=5, scoring='f1')\n",
    "\n",
    "# Fit the model\n",
    "grid_search_dt.fit(X_train_smote, y_train_smote)\n",
    "\n",
    "# Print the best estimator found by GridSearchCV\n",
    "print(\"best_dt_model:\", grid_search_dt.best_estimator_)\n"
   ]
  },
  {
   "cell_type": "code",
   "execution_count": null,
   "id": "107d26b9-8ec9-4a9f-baa4-59937a32051f",
   "metadata": {},
   "outputs": [
    {
     "ename": "",
     "evalue": "",
     "output_type": "error",
     "traceback": [
      "\u001b[1;31mFailed to start the Kernel. \n",
      "\u001b[1;31mUnable to start Kernel 'Python (learn-env)' due to a timeout waiting for the ports to get used. \n",
      "\u001b[1;31mView Jupyter <a href='command:jupyter.viewOutput'>log</a> for further details."
     ]
    }
   ],
   "source": [
    "from sklearn.model_selection import cross_val_predict\n",
    "# Ran optimized logistic regression with SMOTE.\n",
    "df_smote = DecisionTreeClassifier(random_state=12345)\n",
    "\n",
    "df_smote_scores = cross_val_score(df_smote, X_train_smote, y_train_smote, cv=5, scoring=\"accuracy\")\n",
    "\n",
    "df_smote.fit(X_train_smote, y_train_smote)\n",
    "\n",
    "df_smote_predict_train = cross_val_predict(df_smote, X_train_smote, y_train_smote, cv=20)\n",
    "df_smote_predict_test = cross_val_predict(df_smote, X_test, y_test, cv=5)\n",
    "\n",
    "print(\"df_smote_f1_train:\", f1_score(y_train_smote,df_smote_predict_train))\n",
    "print(\"df_smote_f1_test:\", f1_score(y_test,df_smote_predict_test))\n",
    "print(\"df_smote_accuracy_train:\", accuracy_score(y_train_smote,df_smote_predict_train))\n",
    "print(\"df_smote_accuracy_test:\", accuracy_score(y_test,df_smote_predict_test))\n",
    "print(\"f_smote_mean_accuracy:\", df_smote_scores.mean())"
   ]
  },
  {
   "cell_type": "code",
   "execution_count": null,
   "id": "5181630a-2f1e-4996-aae2-0bc6878cbf05",
   "metadata": {},
   "outputs": [
    {
     "ename": "",
     "evalue": "",
     "output_type": "error",
     "traceback": [
      "\u001b[1;31mFailed to start the Kernel. \n",
      "\u001b[1;31mUnable to start Kernel 'Python (learn-env)' due to a timeout waiting for the ports to get used. \n",
      "\u001b[1;31mView Jupyter <a href='command:jupyter.viewOutput'>log</a> for further details."
     ]
    }
   ],
   "source": [
    "# Initialize the XGBoost model\n",
    "import xgboost as xgb\n",
    "# Define hyperparameters\n",
    "params = {\n",
    "    'objective': 'binary:logistic',  # Binary classification\n",
    "    'eta': 0.1,  # Learning rate\n",
    "    'max_depth': 3,  # Maximum depth of a tree\n",
    "}\n",
    "xgboost = xgb.XGBClassifier(**params)\n",
    "\n",
    "# Train the XGBoost model\n",
    "xgboost.fit(X_train_smote, y_train_smote)\n",
    "\n",
    "# Make predictions on the training set\n",
    "y_train_pred = xgboost.predict(X_train_smote)\n",
    "\n",
    "# Calculate evaluation metrics for training set\n",
    "train_accuracy = accuracy_score( y_train_smote, y_train_pred)\n",
    "train_precision = precision_score( y_train_smote, y_train_pred)\n",
    "train_recall = recall_score( y_train_smote, y_train_pred)\n",
    "train_f1_score = f1_score( y_train_smote, y_train_pred)\n",
    "train_roc_auc = roc_auc_score(y_train_smote, y_train_pred)\n",
    "\n",
    "# Make predictions on the test set\n",
    "y_test_pred = xgboost.predict(X_test)\n",
    "accuracy = accuracy_score(y_test,y_test_pred  )\n",
    "\n",
    "# Print performance metrics\n",
    "print(\"Accuracy:\", accuracy)\n",
    "print(\"confusion_matrix for XGBoost\\n\",confusion_matrix(y_test,y_test_pred))\n",
    "print(\"*\"*49)\n",
    "\n",
    "print(classification_report(y_test, y_test_pred))\n",
    "\n",
    "\n",
    "print(\"Test ROC AUC Score:\", roc_auc_score(y_test, y_test_pred))"
   ]
  },
  {
   "cell_type": "code",
   "execution_count": null,
   "id": "ea02b79a-8683-4ee5-8149-816f529234cd",
   "metadata": {},
   "outputs": [
    {
     "ename": "",
     "evalue": "",
     "output_type": "error",
     "traceback": [
      "\u001b[1;31mFailed to start the Kernel. \n",
      "\u001b[1;31mUnable to start Kernel 'Python (learn-env)' due to a timeout waiting for the ports to get used. \n",
      "\u001b[1;31mView Jupyter <a href='command:jupyter.viewOutput'>log</a> for further details."
     ]
    }
   ],
   "source": [
    "# Train Random Forest Classifier\n",
    "rf = RandomForestClassifier(random_state=12345, n_estimators=100, max_depth=20)\n",
    "rf.fit(X_train_smote, y_train_smote)\n",
    "y_rf_prob = rf.predict_proba(X_test)[:, 1]\n",
    "\n",
    "# Train Decision Tree Classifier\n",
    "dt = DecisionTreeClassifier(random_state=12345, max_depth=20, min_samples_split=5, min_samples_leaf=2)\n",
    "dt.fit(X_train_smote, y_train_smote)\n",
    "y_dt_prob = dt.predict_proba(X_test)[:, 1]\n",
    "\n",
    "# Train the Knearest Neighbors Classifier\n",
    "knn_smote = KNeighborsClassifier(n_neighbors=3, weights='distance')\n",
    "knn_smote.fit(X_train_smote, y_train_smote)\n",
    "y_knn_prob = knn_smote.predict_proba(X_test)[:, 1]\n",
    "\n",
    "lr=LogisticRegression(random_state=12345, solver='newton-cg')\n",
    "lr.fit(X_train_smote, y_train_smote)\n",
    "y_lr_prob = lr.predict_proba(X_test)[:, 1]\n",
    "\n",
    "# Initialize the XGBoost model\n",
    "params = {\n",
    "    'objective': 'binary:logistic',  # Binary classification\n",
    "    'eta': 0.1,  # Learning rate\n",
    "    'max_depth': 3,  # Maximum depth of a tree\n",
    "}\n",
    "xgboost = xgb.XGBClassifier(**params)\n",
    "\n",
    "# Train the XGBoost model\n",
    "xgboost.fit(X_train_smote, y_train_smote)\n",
    "y_xgb_prob = xgboost.predict_proba(X_test)[:, 1]\n",
    "\n",
    "# Compute ROC curve and AUC for Random Forest\n",
    "fpr_rf, tpr_rf, _ = roc_curve(y_test, y_rf_prob)\n",
    "roc_auc_rf = auc(fpr_rf, tpr_rf)\n",
    "\n",
    "# Compute ROC curve and AUC for Decision Tree\n",
    "fpr_dt, tpr_dt, _ = roc_curve(y_test, y_dt_prob)\n",
    "roc_auc_dt = auc(fpr_dt, tpr_dt)\n",
    "\n",
    "# Compute ROC curve and AUC for Decision Tree\n",
    "fpr_knn, tpr_knn, _ = roc_curve(y_test, y_knn_prob)\n",
    "roc_auc_knn = auc(fpr_knn, tpr_knn)\n",
    "\n",
    "# Compute ROC curve and AUC for logistic Regression\n",
    "fpr_lr, tpr_lr, _ = roc_curve(y_test, y_lr_prob)\n",
    "roc_auc_lr = auc(fpr_lr, tpr_lr)\n",
    "\n",
    "# Compute ROC curve and AUC for XGBoost\n",
    "fpr_xgb, tpr_xgb, _ = roc_curve(y_test, y_xgb_prob)\n",
    "roc_auc_xgb = auc(fpr_xgb, tpr_xgb)\n",
    "\n",
    "# Plot the ROC curves\n",
    "plt.figure(figsize =(15,10))\n",
    "plt.plot(fpr_rf, tpr_rf, color='blue', lw=1, label='Random Forest (AUC = %0.2f)' % roc_auc_rf)\n",
    "plt.plot(fpr_dt, tpr_dt, color='red', lw=1, label='Decision Tree (AUC = %0.2f)' % roc_auc_dt)\n",
    "plt.plot(fpr_knn, tpr_knn, color='black', lw=1, label='K nearestNeighbors(AUC = %0.2f)' % roc_auc_knn)\n",
    "plt.plot(fpr_lr, tpr_lr, color='purple', lw=1, label='Logistic Reg (AUC = %0.2f)' % roc_auc_lr)\n",
    "plt.plot(fpr_xgb, tpr_xgb, color='green', lw=1, label='XGBoost (AUC = %0.2f)' % roc_auc_xgb)\n",
    "plt.plot([0, 1], [0, 1], color='gray', lw=1, linestyle='--')\n",
    "plt.xlim([0.0, 1.0])\n",
    "plt.ylim([0.0, 1.05])\n",
    "plt.xlabel('False Positive Rate')\n",
    "plt.ylabel('True Positive Rate')\n",
    "plt.title('Receiver Operating Characteristic (ROC) Curve')\n",
    "plt.legend(loc='lower right')\n",
    "plt.show()\n"
   ]
  },
  {
   "cell_type": "code",
   "execution_count": null,
   "id": "44a78701-261b-4370-8fbe-8c665c2ea1f0",
   "metadata": {},
   "outputs": [
    {
     "ename": "",
     "evalue": "",
     "output_type": "error",
     "traceback": [
      "\u001b[1;31mFailed to start the Kernel. \n",
      "\u001b[1;31mUnable to start Kernel 'Python (learn-env)' due to a timeout waiting for the ports to get used. \n",
      "\u001b[1;31mView Jupyter <a href='command:jupyter.viewOutput'>log</a> for further details."
     ]
    }
   ],
   "source": [
    "y.value_counts()"
   ]
  },
  {
   "cell_type": "code",
   "execution_count": null,
   "id": "ae9ab6e8-6725-4c0e-aa9d-0b9f1c17d17c",
   "metadata": {},
   "outputs": [
    {
     "ename": "",
     "evalue": "",
     "output_type": "error",
     "traceback": [
      "\u001b[1;31mFailed to start the Kernel. \n",
      "\u001b[1;31mUnable to start Kernel 'Python (learn-env)' due to a timeout waiting for the ports to get used. \n",
      "\u001b[1;31mView Jupyter <a href='command:jupyter.viewOutput'>log</a> for further details."
     ]
    }
   ],
   "source": [
    "# Create a KNN classifier\n",
    "knn = KNeighborsClassifier()\n",
    "\n",
    "# Define the hyperparameters to search over\n",
    "param_grid = {'n_neighbors': [3, 5, 7, 9, 11]}\n",
    "# Set up cross-validation\n",
    "kfold = KFold(n_splits=5, shuffle=True, random_state=42)\n",
    "\n",
    "# Perform grid search\n",
    "grid_search = GridSearchCV(estimator=knn, param_grid=param_grid, cv=kfold, scoring='accuracy')\n",
    "grid_search.fit(X, y)\n",
    "\n",
    "# Get the best hyperparameters\n",
    "best_params = grid_search.best_params_\n",
    "print(\"Best Hyperparameters:\", best_params)\n",
    "\n",
    "# Get the best cross-validated score\n",
    "best_score = grid_search.best_score_\n",
    "print(\"Best Cross-Validated Score:\", best_score)"
   ]
  },
  {
   "cell_type": "markdown",
   "id": "e601b0a9-7c05-4308-ab53-0e86e101fe63",
   "metadata": {
    "jp-MarkdownHeadingCollapsed": true
   },
   "source": [
    "### Model Evaluation"
   ]
  },
  {
   "cell_type": "markdown",
   "id": "2eb559c2-17b5-455e-acc4-44224442c0e9",
   "metadata": {},
   "source": [
    "### Model Deployment"
   ]
  },
  {
   "cell_type": "markdown",
   "id": "51b421a8-9320-4b17-8c82-8a535be2c383",
   "metadata": {},
   "source": [
    "### Conclusion"
   ]
  },
  {
   "cell_type": "markdown",
   "id": "ebfbf716-32ee-4de8-9084-12695f6595ff",
   "metadata": {},
   "source": [
    "### Recommendations"
   ]
  },
  {
   "cell_type": "code",
   "execution_count": null,
   "id": "5d352a43-816d-47df-822a-4b02daf47e5a",
   "metadata": {},
   "outputs": [
    {
     "ename": "",
     "evalue": "",
     "output_type": "error",
     "traceback": [
      "\u001b[1;31mFailed to start the Kernel. \n",
      "\u001b[1;31mUnable to start Kernel 'Python (learn-env)' due to a timeout waiting for the ports to get used. \n",
      "\u001b[1;31mView Jupyter <a href='command:jupyter.viewOutput'>log</a> for further details."
     ]
    }
   ],
   "source": []
  }
 ],
 "metadata": {
  "kernelspec": {
   "display_name": "Python (learn-env)",
   "language": "python",
   "name": "learn-env"
  },
  "language_info": {
   "codemirror_mode": {
    "name": "ipython",
    "version": 3
   },
   "file_extension": ".py",
   "mimetype": "text/x-python",
   "name": "python",
   "nbconvert_exporter": "python",
   "pygments_lexer": "ipython3",
   "version": "3.11.5"
  }
 },
 "nbformat": 4,
 "nbformat_minor": 5
}
