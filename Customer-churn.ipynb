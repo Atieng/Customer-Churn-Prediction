{
 "cells": [
  {
   "cell_type": "markdown",
   "id": "3fe3ba02-0f1e-42f5-9166-ba353cd16f02",
   "metadata": {},
   "source": [
    "# Customer Churn Analysis"
   ]
  },
  {
   "cell_type": "markdown",
   "id": "b1005544-7d6b-44b0-b883-b28413463a2f",
   "metadata": {},
   "source": [
    "## Project Overview"
   ]
  },
  {
   "cell_type": "markdown",
   "id": "dc38b3de-5c87-4bef-b29e-7353db01bc1b",
   "metadata": {},
   "source": [
    "SyriaTel, a leading telecommunications company, faces a critical challenge in retaining its customers, as high churn rates threaten its revenue and market position. The objective of this project is to develop a machine learning model to predict customer churn by analyzing historical data, including customer demographics, service usage, customer interactions, billing information, and past churn records. By identifying patterns and factors that contribute to churn, the model will enable SyriaTel to implement targeted retention strategies such as personalized offers, loyalty programs, and enhanced customer support. This project involves data collection, preparation, exploratory data analysis, model building and evaluation, and deployment. Continuous monitoring and updating of the model will ensure its effectiveness over time, helping SyriaTel to proactively engage at-risk customers and improve overall customer retention"
   ]
  },
  {
   "cell_type": "markdown",
   "id": "2b4b6e80-087c-4c51-b214-f13ad7e627b1",
   "metadata": {},
   "source": [
    "## Business Problem"
   ]
  },
  {
   "cell_type": "markdown",
   "id": "685b113e-7b83-4cd3-8d9b-703c97e34701",
   "metadata": {},
   "source": [
    "SyriaTel, a leading telecommunications company, is struggling with customer retention, which is a critical issue for maintaining their revenue and market share. Customer churn, the phenomenon where customers discontinue their services, is a significant threat to their business. High churn rates can lead to substantial revenue loss and increased costs associated with acquiring new customers.\n",
    "\n",
    "To address this challenge, it is essential for SyriaTel to understand the underlying reasons why customers are leaving and identify which customers are most likely to churn. By analyzing customer data, including behavior, usage patterns, and demographic information, SyriaTel can develop predictive models to forecast churn. These insights will enable the company to implement targeted interventions aimed at retaining at-risk customers, enhancing customer satisfaction, and ultimately reducing churn rates. This proactive approach is vital for sustaining revenue growth and securing a competitive edge in the telecommunications market."
   ]
  },
  {
   "cell_type": "markdown",
   "id": "cffae97b-a4c3-4ef2-9a81-b1a91646d0f5",
   "metadata": {},
   "source": [
    "## Data Understanding"
   ]
  },
  {
   "cell_type": "markdown",
   "id": "1e0b284f-0971-41ab-b97e-4858e6880c73",
   "metadata": {},
   "source": [
    "This customer churn dataset is designed to predict which customers are likely to leave the company. It contains various features that describe customer demographics,account information, service usage patterns, and their churn status  . The dataset is sourced from a Kaggle competition aimed at developing predictive models for customer churn.\n",
    "\n",
    "**Here's a summary of the columns:**\n",
    "- state: The state of the customer.\n",
    "  \n",
    "- account length: The length of the account in days or months.\n",
    "\n",
    "- area code: The area code of the customer's phone number.\n",
    "- phone number: The phone number of the customer.\n",
    "- international plan: Whether the customer has an international plan or not.\n",
    "- voice mail plan: Whether the customer has a voicemail plan or not.\n",
    "- number vmail messages: The number of voicemail messages the customer has.\n",
    "- total day minutes: Total minutes of day calls.\n",
    "- total day calls: Total number of day calls.\n",
    "- total day charge: Total charge for the day calls.\n",
    "- total eve minutes: Total minutes of evening calls.\n",
    "- total eve calls: Total number of evening calls.\n",
    "- total eve charge: Total charge for the evening calls.\n",
    "- total night minutes: Total minutes of night calls.\n",
    "- total night calls: Total number of night calls.\n",
    "- total night charge: Total charge for the night calls.\n",
    "- total intl minutes: Total minutes of international calls.\n",
    "- total intl calls: Total number of international calls.\n",
    "- total intl charge: Total charge for the international calls.\n",
    "- customer service calls: Number of times the customer called customer service.\n",
    "- churn: Whether the customer churned or not (True/False)."
   ]
  },
  {
   "cell_type": "code",
   "execution_count": 1,
   "id": "b83b4d24-d2ec-4f3c-a1d5-486a3f496714",
   "metadata": {},
   "outputs": [],
   "source": [
    "# Import the necessary libraries\n",
    "import pandas as pd\n",
    "import matplotlib.pyplot as plt\n",
    "import seaborn as sns\n",
    "import numpy as np"
   ]
  },
  {
   "cell_type": "code",
   "execution_count": 2,
   "id": "3c38a2a9-60fb-4837-892c-a26d75f8e435",
   "metadata": {},
   "outputs": [],
   "source": [
    "# Import the class \n",
    "from  customer_churn_analysis import CustomerChurnDataset"
   ]
  },
  {
   "cell_type": "code",
   "execution_count": 3,
   "id": "5a6f8bb6-eed1-49ee-9c24-40a7b4d43925",
   "metadata": {},
   "outputs": [],
   "source": [
    "# Read my dataset\n",
    "# Instantiate the class with the file name\n",
    "df = CustomerChurnDataset('Customer_Churn.csv')"
   ]
  },
  {
   "cell_type": "code",
   "execution_count": 4,
   "id": "d28cecc4-dcef-49f1-8ed8-9165312ddd2a",
   "metadata": {},
   "outputs": [
    {
     "data": {
      "text/plain": [
       "<customer_churn_analysis.CustomerChurnDataset at 0x14adac66d50>"
      ]
     },
     "execution_count": 4,
     "metadata": {},
     "output_type": "execute_result"
    }
   ],
   "source": [
    "df"
   ]
  },
  {
   "cell_type": "code",
   "execution_count": 55,
   "id": "556ccd66-9766-4061-9f01-3b6b0e765de4",
   "metadata": {},
   "outputs": [
    {
     "ename": "AttributeError",
     "evalue": "'DataFrame' object has no attribute 'df_info'",
     "output_type": "error",
     "traceback": [
      "\u001b[1;31m---------------------------------------------------------------------------\u001b[0m",
      "\u001b[1;31mAttributeError\u001b[0m                            Traceback (most recent call last)",
      "\u001b[1;32m~\\AppData\\Local\\Temp\\ipykernel_13032\\2623971269.py\u001b[0m in \u001b[0;36m?\u001b[1;34m()\u001b[0m\n\u001b[1;32m----> 1\u001b[1;33m \u001b[0mdf\u001b[0m\u001b[1;33m.\u001b[0m\u001b[0mdf_info\u001b[0m\u001b[1;33m(\u001b[0m\u001b[1;33m)\u001b[0m\u001b[1;33m\u001b[0m\u001b[1;33m\u001b[0m\u001b[0m\n\u001b[0m",
      "\u001b[1;32m~\\anaconda3\\Lib\\site-packages\\pandas\\core\\generic.py\u001b[0m in \u001b[0;36m?\u001b[1;34m(self, name)\u001b[0m\n\u001b[0;32m   6200\u001b[0m             \u001b[1;32mand\u001b[0m \u001b[0mname\u001b[0m \u001b[1;32mnot\u001b[0m \u001b[1;32min\u001b[0m \u001b[0mself\u001b[0m\u001b[1;33m.\u001b[0m\u001b[0m_accessors\u001b[0m\u001b[1;33m\u001b[0m\u001b[1;33m\u001b[0m\u001b[0m\n\u001b[0;32m   6201\u001b[0m             \u001b[1;32mand\u001b[0m \u001b[0mself\u001b[0m\u001b[1;33m.\u001b[0m\u001b[0m_info_axis\u001b[0m\u001b[1;33m.\u001b[0m\u001b[0m_can_hold_identifiers_and_holds_name\u001b[0m\u001b[1;33m(\u001b[0m\u001b[0mname\u001b[0m\u001b[1;33m)\u001b[0m\u001b[1;33m\u001b[0m\u001b[1;33m\u001b[0m\u001b[0m\n\u001b[0;32m   6202\u001b[0m         ):\n\u001b[0;32m   6203\u001b[0m             \u001b[1;32mreturn\u001b[0m \u001b[0mself\u001b[0m\u001b[1;33m[\u001b[0m\u001b[0mname\u001b[0m\u001b[1;33m]\u001b[0m\u001b[1;33m\u001b[0m\u001b[1;33m\u001b[0m\u001b[0m\n\u001b[1;32m-> 6204\u001b[1;33m         \u001b[1;32mreturn\u001b[0m \u001b[0mobject\u001b[0m\u001b[1;33m.\u001b[0m\u001b[0m__getattribute__\u001b[0m\u001b[1;33m(\u001b[0m\u001b[0mself\u001b[0m\u001b[1;33m,\u001b[0m \u001b[0mname\u001b[0m\u001b[1;33m)\u001b[0m\u001b[1;33m\u001b[0m\u001b[1;33m\u001b[0m\u001b[0m\n\u001b[0m",
      "\u001b[1;31mAttributeError\u001b[0m: 'DataFrame' object has no attribute 'df_info'"
     ]
    }
   ],
   "source": [
    "df.df_info()"
   ]
  },
  {
   "cell_type": "markdown",
   "id": "a17a5fb2-1ebf-4cbb-954b-4bf24fc14cab",
   "metadata": {},
   "source": [
    "> The range index, indicating the number of rows in the DataFrame from 0 to 3332.\n",
    ">-  total number of columns 21 columns.\n",
    ">- For each column, it provides:\n",
    ">- The column name (Column)\n",
    ">- The non-null count of values (Non-Null Count)\n",
    ">- The dataset has no null value"
   ]
  },
  {
   "cell_type": "code",
   "execution_count": 6,
   "id": "1297afa7-9f0d-42ae-a06f-f6a721301838",
   "metadata": {},
   "outputs": [
    {
     "name": "stdout",
     "output_type": "stream",
     "text": [
      "Statistical Summary of the Dataset:\n",
      "       account length    area code  number vmail messages  total day minutes  \\\n",
      "count     3333.000000  3333.000000            3333.000000        3333.000000   \n",
      "mean       101.064806   437.182418               8.099010         179.775098   \n",
      "std         39.822106    42.371290              13.688365          54.467389   \n",
      "min          1.000000   408.000000               0.000000           0.000000   \n",
      "25%         74.000000   408.000000               0.000000         143.700000   \n",
      "50%        101.000000   415.000000               0.000000         179.400000   \n",
      "75%        127.000000   510.000000              20.000000         216.400000   \n",
      "max        243.000000   510.000000              51.000000         350.800000   \n",
      "\n",
      "       total day calls  total day charge  total eve minutes  total eve calls  \\\n",
      "count      3333.000000       3333.000000        3333.000000      3333.000000   \n",
      "mean        100.435644         30.562307         200.980348       100.114311   \n",
      "std          20.069084          9.259435          50.713844        19.922625   \n",
      "min           0.000000          0.000000           0.000000         0.000000   \n",
      "25%          87.000000         24.430000         166.600000        87.000000   \n",
      "50%         101.000000         30.500000         201.400000       100.000000   \n",
      "75%         114.000000         36.790000         235.300000       114.000000   \n",
      "max         165.000000         59.640000         363.700000       170.000000   \n",
      "\n",
      "       total eve charge  total night minutes  total night calls  \\\n",
      "count       3333.000000          3333.000000        3333.000000   \n",
      "mean          17.083540           200.872037         100.107711   \n",
      "std            4.310668            50.573847          19.568609   \n",
      "min            0.000000            23.200000          33.000000   \n",
      "25%           14.160000           167.000000          87.000000   \n",
      "50%           17.120000           201.200000         100.000000   \n",
      "75%           20.000000           235.300000         113.000000   \n",
      "max           30.910000           395.000000         175.000000   \n",
      "\n",
      "       total night charge  total intl minutes  total intl calls  \\\n",
      "count         3333.000000         3333.000000       3333.000000   \n",
      "mean             9.039325           10.237294          4.479448   \n",
      "std              2.275873            2.791840          2.461214   \n",
      "min              1.040000            0.000000          0.000000   \n",
      "25%              7.520000            8.500000          3.000000   \n",
      "50%              9.050000           10.300000          4.000000   \n",
      "75%             10.590000           12.100000          6.000000   \n",
      "max             17.770000           20.000000         20.000000   \n",
      "\n",
      "       total intl charge  customer service calls  \n",
      "count        3333.000000             3333.000000  \n",
      "mean            2.764581                1.562856  \n",
      "std             0.753773                1.315491  \n",
      "min             0.000000                0.000000  \n",
      "25%             2.300000                1.000000  \n",
      "50%             2.780000                1.000000  \n",
      "75%             3.270000                2.000000  \n",
      "max             5.400000                9.000000  \n"
     ]
    }
   ],
   "source": [
    "summary_result = df.statistical_summary()\n",
    "summary_result"
   ]
  },
  {
   "cell_type": "markdown",
   "id": "2db5c11e-47aa-418a-a9f6-8dca22e14967",
   "metadata": {},
   "source": [
    "> The above is the statistical summary of each column in terms of the count of the rows in the dataset, the mean value, the standard deviation, the median , the 25th percentile and the 75th percentile and the maximum results of each column\n"
   ]
  },
  {
   "cell_type": "code",
   "execution_count": 15,
   "id": "97ec2170-b9e3-49ac-9692-3ef094a41f5c",
   "metadata": {},
   "outputs": [
    {
     "name": "stdout",
     "output_type": "stream",
     "text": [
      "Columns of the Dataset:\n",
      "Index(['state', 'account length', 'area code', 'phone number',\n",
      "       'international plan', 'voice mail plan', 'number vmail messages',\n",
      "       'total day minutes', 'total day calls', 'total day charge',\n",
      "       'total eve minutes', 'total eve calls', 'total eve charge',\n",
      "       'total night minutes', 'total night calls', 'total night charge',\n",
      "       'total intl minutes', 'total intl calls', 'total intl charge',\n",
      "       'customer service calls', 'churn'],\n",
      "      dtype='object')\n"
     ]
    }
   ],
   "source": [
    "# The coumns of the dataset\n",
    "df.get_columns()"
   ]
  },
  {
   "cell_type": "code",
   "execution_count": 16,
   "id": "925873e0-271c-4c14-8a21-fac8863453ce",
   "metadata": {},
   "outputs": [
    {
     "name": "stdout",
     "output_type": "stream",
     "text": [
      "Data Types of Columns:\n",
      "state                      object\n",
      "account length              int64\n",
      "area code                   int64\n",
      "phone number               object\n",
      "international plan         object\n",
      "voice mail plan            object\n",
      "number vmail messages       int64\n",
      "total day minutes         float64\n",
      "total day calls             int64\n",
      "total day charge          float64\n",
      "total eve minutes         float64\n",
      "total eve calls             int64\n",
      "total eve charge          float64\n",
      "total night minutes       float64\n",
      "total night calls           int64\n",
      "total night charge        float64\n",
      "total intl minutes        float64\n",
      "total intl calls            int64\n",
      "total intl charge         float64\n",
      "customer service calls      int64\n",
      "churn                        bool\n",
      "dtype: object\n"
     ]
    }
   ],
   "source": [
    "# Getting the datatype of each column\n",
    "df.get_dtypes()"
   ]
  },
  {
   "cell_type": "code",
   "execution_count": 9,
   "id": "b024f96f-381a-4769-866d-8cd4e85f9ef2",
   "metadata": {},
   "outputs": [
    {
     "name": "stdout",
     "output_type": "stream",
     "text": [
      "Shape of the Dataset:\n",
      "(3333, 21)\n"
     ]
    }
   ],
   "source": [
    "#  The shape of the dataset\n",
    "df.df_shape()"
   ]
  },
  {
   "cell_type": "markdown",
   "id": "b7eed3c2-3584-4fa7-a7c4-3119eaded405",
   "metadata": {},
   "source": [
    ">The dataset has a shape of 3333 rows and 21 columns"
   ]
  },
  {
   "cell_type": "markdown",
   "id": "8f27bbf0-647e-44ec-81fa-4ead91b86ca9",
   "metadata": {},
   "source": [
    "## Data Preparation"
   ]
  },
  {
   "cell_type": "markdown",
   "id": "db96790d-8696-42ae-b994-9a81b4556a1b",
   "metadata": {},
   "source": [
    "### Data Cleaning"
   ]
  },
  {
   "cell_type": "markdown",
   "id": "f99c6242-7db2-4788-8353-0d97d0fd692d",
   "metadata": {},
   "source": [
    "The processes that I will follow during data cleaning process"
   ]
  },
  {
   "cell_type": "markdown",
   "id": "c18351cb-f5cc-4577-833f-1317c18d6696",
   "metadata": {},
   "source": [
    "> - Checking for null values\n",
    "> - Checking for duplicates\n",
    "> - Changing datatypes of columns and Binary Encoding\n",
    "> - Checking for outliers"
   ]
  },
  {
   "cell_type": "code",
   "execution_count": 26,
   "id": "c0387f92-7331-4323-9065-3074f9598bfd",
   "metadata": {},
   "outputs": [],
   "source": [
    "df = pd.read_csv('Customer_Churn.csv')\n"
   ]
  },
  {
   "cell_type": "markdown",
   "id": "647dbd8a-c458-4c4e-9c61-6ef83ddd4f21",
   "metadata": {},
   "source": [
    "Checking for null values"
   ]
  },
  {
   "cell_type": "code",
   "execution_count": 27,
   "id": "7f7792c8-3073-4a5d-b52a-b3ce2311805f",
   "metadata": {},
   "outputs": [
    {
     "data": {
      "text/plain": [
       "state                     0\n",
       "account length            0\n",
       "area code                 0\n",
       "phone number              0\n",
       "international plan        0\n",
       "voice mail plan           0\n",
       "number vmail messages     0\n",
       "total day minutes         0\n",
       "total day calls           0\n",
       "total day charge          0\n",
       "total eve minutes         0\n",
       "total eve calls           0\n",
       "total eve charge          0\n",
       "total night minutes       0\n",
       "total night calls         0\n",
       "total night charge        0\n",
       "total intl minutes        0\n",
       "total intl calls          0\n",
       "total intl charge         0\n",
       "customer service calls    0\n",
       "churn                     0\n",
       "dtype: int64"
      ]
     },
     "execution_count": 27,
     "metadata": {},
     "output_type": "execute_result"
    }
   ],
   "source": [
    "df.isna().sum()"
   ]
  },
  {
   "cell_type": "markdown",
   "id": "d7b000ba-2308-45d7-9b77-6afffecb7699",
   "metadata": {},
   "source": [
    ">The dataset looks fairly clean already (no non-null items). But there are object datatypes that I will like to handle them in a different way that is converting them to 0s and 1s, The process is calles called binary encoding"
   ]
  },
  {
   "cell_type": "markdown",
   "id": "f96228a2-0c1a-402b-bf6b-a83a2d7f35b2",
   "metadata": {},
   "source": [
    "Checking for duplicates"
   ]
  },
  {
   "cell_type": "code",
   "execution_count": 37,
   "id": "b7c92236-caa5-4ed5-a11e-fd9306734907",
   "metadata": {},
   "outputs": [
    {
     "data": {
      "text/plain": [
       "0"
      ]
     },
     "execution_count": 37,
     "metadata": {},
     "output_type": "execute_result"
    }
   ],
   "source": [
    "df.duplicated().sum()\n"
   ]
  },
  {
   "cell_type": "markdown",
   "id": "b5f56835-cc7f-410d-bbba-e3c68601ca23",
   "metadata": {},
   "source": [
    "> The dataset has no null value"
   ]
  },
  {
   "cell_type": "code",
   "execution_count": 31,
   "id": "8d5007c1-7554-438c-ac58-091cf50283e4",
   "metadata": {},
   "outputs": [
    {
     "data": {
      "text/html": [
       "<div>\n",
       "<style scoped>\n",
       "    .dataframe tbody tr th:only-of-type {\n",
       "        vertical-align: middle;\n",
       "    }\n",
       "\n",
       "    .dataframe tbody tr th {\n",
       "        vertical-align: top;\n",
       "    }\n",
       "\n",
       "    .dataframe thead th {\n",
       "        text-align: right;\n",
       "    }\n",
       "</style>\n",
       "<table border=\"1\" class=\"dataframe\">\n",
       "  <thead>\n",
       "    <tr style=\"text-align: right;\">\n",
       "      <th></th>\n",
       "      <th>state</th>\n",
       "      <th>account length</th>\n",
       "      <th>area code</th>\n",
       "      <th>phone number</th>\n",
       "      <th>international plan</th>\n",
       "      <th>voice mail plan</th>\n",
       "      <th>number vmail messages</th>\n",
       "      <th>total day minutes</th>\n",
       "      <th>total day calls</th>\n",
       "      <th>total day charge</th>\n",
       "      <th>...</th>\n",
       "      <th>total eve calls</th>\n",
       "      <th>total eve charge</th>\n",
       "      <th>total night minutes</th>\n",
       "      <th>total night calls</th>\n",
       "      <th>total night charge</th>\n",
       "      <th>total intl minutes</th>\n",
       "      <th>total intl calls</th>\n",
       "      <th>total intl charge</th>\n",
       "      <th>customer service calls</th>\n",
       "      <th>churn</th>\n",
       "    </tr>\n",
       "  </thead>\n",
       "  <tbody>\n",
       "    <tr>\n",
       "      <th>0</th>\n",
       "      <td>KS</td>\n",
       "      <td>128</td>\n",
       "      <td>415</td>\n",
       "      <td>382-4657</td>\n",
       "      <td>no</td>\n",
       "      <td>yes</td>\n",
       "      <td>25</td>\n",
       "      <td>265.1</td>\n",
       "      <td>110</td>\n",
       "      <td>45.07</td>\n",
       "      <td>...</td>\n",
       "      <td>99</td>\n",
       "      <td>16.78</td>\n",
       "      <td>244.7</td>\n",
       "      <td>91</td>\n",
       "      <td>11.01</td>\n",
       "      <td>10.0</td>\n",
       "      <td>3</td>\n",
       "      <td>2.70</td>\n",
       "      <td>1</td>\n",
       "      <td>0</td>\n",
       "    </tr>\n",
       "    <tr>\n",
       "      <th>1</th>\n",
       "      <td>OH</td>\n",
       "      <td>107</td>\n",
       "      <td>415</td>\n",
       "      <td>371-7191</td>\n",
       "      <td>no</td>\n",
       "      <td>yes</td>\n",
       "      <td>26</td>\n",
       "      <td>161.6</td>\n",
       "      <td>123</td>\n",
       "      <td>27.47</td>\n",
       "      <td>...</td>\n",
       "      <td>103</td>\n",
       "      <td>16.62</td>\n",
       "      <td>254.4</td>\n",
       "      <td>103</td>\n",
       "      <td>11.45</td>\n",
       "      <td>13.7</td>\n",
       "      <td>3</td>\n",
       "      <td>3.70</td>\n",
       "      <td>1</td>\n",
       "      <td>0</td>\n",
       "    </tr>\n",
       "    <tr>\n",
       "      <th>2</th>\n",
       "      <td>NJ</td>\n",
       "      <td>137</td>\n",
       "      <td>415</td>\n",
       "      <td>358-1921</td>\n",
       "      <td>no</td>\n",
       "      <td>no</td>\n",
       "      <td>0</td>\n",
       "      <td>243.4</td>\n",
       "      <td>114</td>\n",
       "      <td>41.38</td>\n",
       "      <td>...</td>\n",
       "      <td>110</td>\n",
       "      <td>10.30</td>\n",
       "      <td>162.6</td>\n",
       "      <td>104</td>\n",
       "      <td>7.32</td>\n",
       "      <td>12.2</td>\n",
       "      <td>5</td>\n",
       "      <td>3.29</td>\n",
       "      <td>0</td>\n",
       "      <td>0</td>\n",
       "    </tr>\n",
       "    <tr>\n",
       "      <th>3</th>\n",
       "      <td>OH</td>\n",
       "      <td>84</td>\n",
       "      <td>408</td>\n",
       "      <td>375-9999</td>\n",
       "      <td>yes</td>\n",
       "      <td>no</td>\n",
       "      <td>0</td>\n",
       "      <td>299.4</td>\n",
       "      <td>71</td>\n",
       "      <td>50.90</td>\n",
       "      <td>...</td>\n",
       "      <td>88</td>\n",
       "      <td>5.26</td>\n",
       "      <td>196.9</td>\n",
       "      <td>89</td>\n",
       "      <td>8.86</td>\n",
       "      <td>6.6</td>\n",
       "      <td>7</td>\n",
       "      <td>1.78</td>\n",
       "      <td>2</td>\n",
       "      <td>0</td>\n",
       "    </tr>\n",
       "    <tr>\n",
       "      <th>4</th>\n",
       "      <td>OK</td>\n",
       "      <td>75</td>\n",
       "      <td>415</td>\n",
       "      <td>330-6626</td>\n",
       "      <td>yes</td>\n",
       "      <td>no</td>\n",
       "      <td>0</td>\n",
       "      <td>166.7</td>\n",
       "      <td>113</td>\n",
       "      <td>28.34</td>\n",
       "      <td>...</td>\n",
       "      <td>122</td>\n",
       "      <td>12.61</td>\n",
       "      <td>186.9</td>\n",
       "      <td>121</td>\n",
       "      <td>8.41</td>\n",
       "      <td>10.1</td>\n",
       "      <td>3</td>\n",
       "      <td>2.73</td>\n",
       "      <td>3</td>\n",
       "      <td>0</td>\n",
       "    </tr>\n",
       "  </tbody>\n",
       "</table>\n",
       "<p>5 rows × 21 columns</p>\n",
       "</div>"
      ],
      "text/plain": [
       "  state  account length  area code phone number international plan  \\\n",
       "0    KS             128        415     382-4657                 no   \n",
       "1    OH             107        415     371-7191                 no   \n",
       "2    NJ             137        415     358-1921                 no   \n",
       "3    OH              84        408     375-9999                yes   \n",
       "4    OK              75        415     330-6626                yes   \n",
       "\n",
       "  voice mail plan  number vmail messages  total day minutes  total day calls  \\\n",
       "0             yes                     25              265.1              110   \n",
       "1             yes                     26              161.6              123   \n",
       "2              no                      0              243.4              114   \n",
       "3              no                      0              299.4               71   \n",
       "4              no                      0              166.7              113   \n",
       "\n",
       "   total day charge  ...  total eve calls  total eve charge  \\\n",
       "0             45.07  ...               99             16.78   \n",
       "1             27.47  ...              103             16.62   \n",
       "2             41.38  ...              110             10.30   \n",
       "3             50.90  ...               88              5.26   \n",
       "4             28.34  ...              122             12.61   \n",
       "\n",
       "   total night minutes  total night calls  total night charge  \\\n",
       "0                244.7                 91               11.01   \n",
       "1                254.4                103               11.45   \n",
       "2                162.6                104                7.32   \n",
       "3                196.9                 89                8.86   \n",
       "4                186.9                121                8.41   \n",
       "\n",
       "   total intl minutes  total intl calls  total intl charge  \\\n",
       "0                10.0                 3               2.70   \n",
       "1                13.7                 3               3.70   \n",
       "2                12.2                 5               3.29   \n",
       "3                 6.6                 7               1.78   \n",
       "4                10.1                 3               2.73   \n",
       "\n",
       "   customer service calls  churn  \n",
       "0                       1      0  \n",
       "1                       1      0  \n",
       "2                       0      0  \n",
       "3                       2      0  \n",
       "4                       3      0  \n",
       "\n",
       "[5 rows x 21 columns]"
      ]
     },
     "execution_count": 31,
     "metadata": {},
     "output_type": "execute_result"
    }
   ],
   "source": [
    "df.head()"
   ]
  },
  {
   "cell_type": "markdown",
   "id": "fd8879ac-9b5b-4e4e-b254-77447b667c2b",
   "metadata": {},
   "source": [
    "Binary Encoding"
   ]
  },
  {
   "cell_type": "markdown",
   "id": "4fca7bdf-2e9f-4854-b0a2-af86f17b2099",
   "metadata": {},
   "source": [
    "Handling object data in the following ways:\n",
    "- Converting no's to 0 and yes's to 1.\n",
    "- Converting True to 1 and False to 0."
   ]
  },
  {
   "cell_type": "code",
   "execution_count": 39,
   "id": "bae01355-02a2-4c3b-8c56-fefcac527ed4",
   "metadata": {},
   "outputs": [],
   "source": [
    "# Change churn to values: 1 (churned/True) 0 (no churn/False)\n",
    "df.loc[df['churn'] == True, 'churn'] = 1\n",
    "df.loc[df['churn'] == False, 'churn'] = 0"
   ]
  },
  {
   "cell_type": "code",
   "execution_count": 30,
   "id": "4200310f-f67d-4f08-8c99-9b78f2555d35",
   "metadata": {},
   "outputs": [
    {
     "data": {
      "text/plain": [
       "churn\n",
       "0    2850\n",
       "1     483\n",
       "Name: count, dtype: int64"
      ]
     },
     "execution_count": 30,
     "metadata": {},
     "output_type": "execute_result"
    }
   ],
   "source": [
    "df['churn'].value_counts()"
   ]
  },
  {
   "cell_type": "code",
   "execution_count": 33,
   "id": "53870c51-7925-40f6-a163-e13e1fa650f7",
   "metadata": {},
   "outputs": [],
   "source": [
    "# Handle object types for international plan and voice mail plan\n",
    "df.loc[df['international plan'] == 'no', 'international plan'] = 0\n",
    "df.loc[df['international plan'] == 'yes', 'international plan'] = 1 \n",
    "\n",
    " "
   ]
  },
  {
   "cell_type": "code",
   "execution_count": 35,
   "id": "1db370b2-7be4-4e07-9f7a-e336e3993d50",
   "metadata": {},
   "outputs": [
    {
     "data": {
      "text/plain": [
       "international plan\n",
       "0    3010\n",
       "1     323\n",
       "Name: count, dtype: int64"
      ]
     },
     "execution_count": 35,
     "metadata": {},
     "output_type": "execute_result"
    }
   ],
   "source": [
    "df['international plan'].value_counts()"
   ]
  },
  {
   "cell_type": "code",
   "execution_count": 34,
   "id": "6d4d07af-7da4-4590-a139-3a779cd7e635",
   "metadata": {},
   "outputs": [],
   "source": [
    "df.loc[df['voice mail plan'] == 'no', 'voice mail plan'] = 0\n",
    "df.loc[df['voice mail plan']== 'yes', 'voice mail plan'] = 1"
   ]
  },
  {
   "cell_type": "code",
   "execution_count": 36,
   "id": "e35afd4e-bf81-4e46-a8cb-68b7529a3073",
   "metadata": {},
   "outputs": [
    {
     "data": {
      "text/plain": [
       "voice mail plan\n",
       "0    2411\n",
       "1     922\n",
       "Name: count, dtype: int64"
      ]
     },
     "execution_count": 36,
     "metadata": {},
     "output_type": "execute_result"
    }
   ],
   "source": [
    "df['voice mail plan'].value_counts()"
   ]
  },
  {
   "cell_type": "markdown",
   "id": "79835987-60f3-4837-bb00-2d60ace3fea4",
   "metadata": {},
   "source": [
    "Changing datatypes"
   ]
  },
  {
   "cell_type": "code",
   "execution_count": 41,
   "id": "d585c693-0fbf-4b7b-bbbd-d466a35b998f",
   "metadata": {},
   "outputs": [],
   "source": [
    "# casting int values to churn, voice mail plan, and international plan cols\n",
    "objs = ['international plan', 'voice mail plan', 'churn']\n",
    "\n",
    "for o in objs:\n",
    "    df = df.astype({o: int})"
   ]
  },
  {
   "cell_type": "code",
   "execution_count": 42,
   "id": "a92e5adf-b12f-45c5-915e-e721fc26df39",
   "metadata": {},
   "outputs": [
    {
     "name": "stdout",
     "output_type": "stream",
     "text": [
      "<class 'pandas.core.frame.DataFrame'>\n",
      "RangeIndex: 3333 entries, 0 to 3332\n",
      "Data columns (total 21 columns):\n",
      " #   Column                  Non-Null Count  Dtype  \n",
      "---  ------                  --------------  -----  \n",
      " 0   state                   3333 non-null   object \n",
      " 1   account length          3333 non-null   int64  \n",
      " 2   area code               3333 non-null   int64  \n",
      " 3   phone number            3333 non-null   object \n",
      " 4   international plan      3333 non-null   int32  \n",
      " 5   voice mail plan         3333 non-null   int32  \n",
      " 6   number vmail messages   3333 non-null   int64  \n",
      " 7   total day minutes       3333 non-null   float64\n",
      " 8   total day calls         3333 non-null   int64  \n",
      " 9   total day charge        3333 non-null   float64\n",
      " 10  total eve minutes       3333 non-null   float64\n",
      " 11  total eve calls         3333 non-null   int64  \n",
      " 12  total eve charge        3333 non-null   float64\n",
      " 13  total night minutes     3333 non-null   float64\n",
      " 14  total night calls       3333 non-null   int64  \n",
      " 15  total night charge      3333 non-null   float64\n",
      " 16  total intl minutes      3333 non-null   float64\n",
      " 17  total intl calls        3333 non-null   int64  \n",
      " 18  total intl charge       3333 non-null   float64\n",
      " 19  customer service calls  3333 non-null   int64  \n",
      " 20  churn                   3333 non-null   int32  \n",
      "dtypes: float64(8), int32(3), int64(8), object(2)\n",
      "memory usage: 507.9+ KB\n"
     ]
    }
   ],
   "source": [
    "df.info()"
   ]
  },
  {
   "cell_type": "markdown",
   "id": "9a4845f1-aad0-49f9-815b-c647461ddc4b",
   "metadata": {},
   "source": [
    "> The datatypes of `international plan`, `voice mail plan`, `churn` has been converted to Numerical datatypes"
   ]
  },
  {
   "cell_type": "markdown",
   "id": "54f2d6f3-472b-4c1e-af58-56771ac3439a",
   "metadata": {},
   "source": [
    "Dropping Columns"
   ]
  },
  {
   "cell_type": "code",
   "execution_count": 53,
   "id": "b116490f-ebaf-4e2b-8403-1067c72d74de",
   "metadata": {},
   "outputs": [
    {
     "data": {
      "text/html": [
       "<div>\n",
       "<style scoped>\n",
       "    .dataframe tbody tr th:only-of-type {\n",
       "        vertical-align: middle;\n",
       "    }\n",
       "\n",
       "    .dataframe tbody tr th {\n",
       "        vertical-align: top;\n",
       "    }\n",
       "\n",
       "    .dataframe thead th {\n",
       "        text-align: right;\n",
       "    }\n",
       "</style>\n",
       "<table border=\"1\" class=\"dataframe\">\n",
       "  <thead>\n",
       "    <tr style=\"text-align: right;\">\n",
       "      <th></th>\n",
       "      <th>No of Unique Values</th>\n",
       "    </tr>\n",
       "  </thead>\n",
       "  <tbody>\n",
       "    <tr>\n",
       "      <th>state</th>\n",
       "      <td>51</td>\n",
       "    </tr>\n",
       "    <tr>\n",
       "      <th>account length</th>\n",
       "      <td>212</td>\n",
       "    </tr>\n",
       "    <tr>\n",
       "      <th>area code</th>\n",
       "      <td>3</td>\n",
       "    </tr>\n",
       "    <tr>\n",
       "      <th>phone number</th>\n",
       "      <td>3333</td>\n",
       "    </tr>\n",
       "    <tr>\n",
       "      <th>international plan</th>\n",
       "      <td>2</td>\n",
       "    </tr>\n",
       "    <tr>\n",
       "      <th>voice mail plan</th>\n",
       "      <td>2</td>\n",
       "    </tr>\n",
       "    <tr>\n",
       "      <th>number vmail messages</th>\n",
       "      <td>46</td>\n",
       "    </tr>\n",
       "    <tr>\n",
       "      <th>total day minutes</th>\n",
       "      <td>1667</td>\n",
       "    </tr>\n",
       "    <tr>\n",
       "      <th>total day calls</th>\n",
       "      <td>119</td>\n",
       "    </tr>\n",
       "    <tr>\n",
       "      <th>total day charge</th>\n",
       "      <td>1667</td>\n",
       "    </tr>\n",
       "    <tr>\n",
       "      <th>total eve minutes</th>\n",
       "      <td>1611</td>\n",
       "    </tr>\n",
       "    <tr>\n",
       "      <th>total eve calls</th>\n",
       "      <td>123</td>\n",
       "    </tr>\n",
       "    <tr>\n",
       "      <th>total eve charge</th>\n",
       "      <td>1440</td>\n",
       "    </tr>\n",
       "    <tr>\n",
       "      <th>total night minutes</th>\n",
       "      <td>1591</td>\n",
       "    </tr>\n",
       "    <tr>\n",
       "      <th>total night calls</th>\n",
       "      <td>120</td>\n",
       "    </tr>\n",
       "    <tr>\n",
       "      <th>total night charge</th>\n",
       "      <td>933</td>\n",
       "    </tr>\n",
       "    <tr>\n",
       "      <th>total intl minutes</th>\n",
       "      <td>162</td>\n",
       "    </tr>\n",
       "    <tr>\n",
       "      <th>total intl calls</th>\n",
       "      <td>21</td>\n",
       "    </tr>\n",
       "    <tr>\n",
       "      <th>total intl charge</th>\n",
       "      <td>162</td>\n",
       "    </tr>\n",
       "    <tr>\n",
       "      <th>customer service calls</th>\n",
       "      <td>10</td>\n",
       "    </tr>\n",
       "    <tr>\n",
       "      <th>churn</th>\n",
       "      <td>2</td>\n",
       "    </tr>\n",
       "  </tbody>\n",
       "</table>\n",
       "</div>"
      ],
      "text/plain": [
       "                        No of Unique Values\n",
       "state                                    51\n",
       "account length                          212\n",
       "area code                                 3\n",
       "phone number                           3333\n",
       "international plan                        2\n",
       "voice mail plan                           2\n",
       "number vmail messages                    46\n",
       "total day minutes                      1667\n",
       "total day calls                         119\n",
       "total day charge                       1667\n",
       "total eve minutes                      1611\n",
       "total eve calls                         123\n",
       "total eve charge                       1440\n",
       "total night minutes                    1591\n",
       "total night calls                       120\n",
       "total night charge                      933\n",
       "total intl minutes                      162\n",
       "total intl calls                         21\n",
       "total intl charge                       162\n",
       "customer service calls                   10\n",
       "churn                                     2"
      ]
     },
     "execution_count": 53,
     "metadata": {},
     "output_type": "execute_result"
    }
   ],
   "source": [
    "# Checking number of unique values in each column\n",
    "df.nunique().to_frame(\"No of Unique Values\")"
   ]
  },
  {
   "cell_type": "markdown",
   "id": "442f034e-af40-4a90-b438-0c2d5bbf4c3c",
   "metadata": {},
   "source": [
    "These are the unique values present in the dataset. Here the `phone number`column has the data unique Id given to the customers which is not required for the predictions. Let me drop this column."
   ]
  },
  {
   "cell_type": "code",
   "execution_count": 54,
   "id": "7d322976-7aa5-44d6-8a1f-eb966da6a01f",
   "metadata": {},
   "outputs": [],
   "source": [
    "df.drop(columns = 'phone number',axis = 1, inplace = True)"
   ]
  },
  {
   "cell_type": "code",
   "execution_count": null,
   "id": "5545396a-e0af-49de-90da-aa7c0d84dedb",
   "metadata": {},
   "outputs": [],
   "source": []
  },
  {
   "cell_type": "markdown",
   "id": "182f0166-0b6c-4ef5-85be-afc31e3d7fdc",
   "metadata": {},
   "source": [
    "Checking for outliers"
   ]
  },
  {
   "cell_type": "code",
   "execution_count": 52,
   "id": "c0a79633-7af4-4527-a697-86c4e4c174d8",
   "metadata": {},
   "outputs": [
    {
     "data": {
      "image/png": "[encoded data removed]",
      "text/plain": [
       "<Figure size 1500x1000 with 12 Axes>"
      ]
     },
     "metadata": {},
     "output_type": "display_data"
    }
   ],
   "source": [
    "plt.figure(figsize=(15, 10))\n",
    "for i, column in enumerate(numeric_columns, 1):\n",
    "    if i <= 12:  # Limit to 12 subplots\n",
    "        plt.subplot(4, 3, i)\n",
    "        sns.boxplot(x=df[column])\n",
    "        plt.title(f'{column.capitalize()}')\n",
    "        plt.xlabel(column)\n",
    "\n",
    "plt.tight_layout()\n",
    "plt.show()\n"
   ]
  },
  {
   "cell_type": "markdown",
   "id": "503517ed-deac-4f8b-afa5-bc954251ce0e",
   "metadata": {},
   "source": [
    "Looking at the boxplots it shows that we have outliers. But I can't just drop the outliers blindly. Let me me take time to look at what is going on"
   ]
  },
  {
   "cell_type": "code",
   "execution_count": 56,
   "id": "90b0ca5a-b372-4653-a6b6-bdc0bbe0f4cf",
   "metadata": {
    "scrolled": true
   },
   "outputs": [
    {
     "data": {
      "text/html": [
       "<div>\n",
       "<style scoped>\n",
       "    .dataframe tbody tr th:only-of-type {\n",
       "        vertical-align: middle;\n",
       "    }\n",
       "\n",
       "    .dataframe tbody tr th {\n",
       "        vertical-align: top;\n",
       "    }\n",
       "\n",
       "    .dataframe thead th {\n",
       "        text-align: right;\n",
       "    }\n",
       "</style>\n",
       "<table border=\"1\" class=\"dataframe\">\n",
       "  <thead>\n",
       "    <tr style=\"text-align: right;\">\n",
       "      <th></th>\n",
       "      <th>account length</th>\n",
       "      <th>area code</th>\n",
       "      <th>international plan</th>\n",
       "      <th>voice mail plan</th>\n",
       "      <th>number vmail messages</th>\n",
       "      <th>total day minutes</th>\n",
       "      <th>total day calls</th>\n",
       "      <th>total day charge</th>\n",
       "      <th>total eve minutes</th>\n",
       "      <th>total eve calls</th>\n",
       "      <th>total eve charge</th>\n",
       "      <th>total night minutes</th>\n",
       "      <th>total night calls</th>\n",
       "      <th>total night charge</th>\n",
       "      <th>total intl minutes</th>\n",
       "      <th>total intl calls</th>\n",
       "      <th>total intl charge</th>\n",
       "      <th>customer service calls</th>\n",
       "      <th>churn</th>\n",
       "    </tr>\n",
       "  </thead>\n",
       "  <tbody>\n",
       "    <tr>\n",
       "      <th>count</th>\n",
       "      <td>3333.000000</td>\n",
       "      <td>3333.000000</td>\n",
       "      <td>3333.000000</td>\n",
       "      <td>3333.000000</td>\n",
       "      <td>3333.000000</td>\n",
       "      <td>3333.000000</td>\n",
       "      <td>3333.000000</td>\n",
       "      <td>3333.000000</td>\n",
       "      <td>3333.000000</td>\n",
       "      <td>3333.000000</td>\n",
       "      <td>3333.000000</td>\n",
       "      <td>3333.000000</td>\n",
       "      <td>3333.000000</td>\n",
       "      <td>3333.000000</td>\n",
       "      <td>3333.000000</td>\n",
       "      <td>3333.000000</td>\n",
       "      <td>3333.000000</td>\n",
       "      <td>3333.000000</td>\n",
       "      <td>3333.000000</td>\n",
       "    </tr>\n",
       "    <tr>\n",
       "      <th>mean</th>\n",
       "      <td>101.064806</td>\n",
       "      <td>437.182418</td>\n",
       "      <td>0.096910</td>\n",
       "      <td>0.276628</td>\n",
       "      <td>8.099010</td>\n",
       "      <td>179.775098</td>\n",
       "      <td>100.435644</td>\n",
       "      <td>30.562307</td>\n",
       "      <td>200.980348</td>\n",
       "      <td>100.114311</td>\n",
       "      <td>17.083540</td>\n",
       "      <td>200.872037</td>\n",
       "      <td>100.107711</td>\n",
       "      <td>9.039325</td>\n",
       "      <td>10.237294</td>\n",
       "      <td>4.479448</td>\n",
       "      <td>2.764581</td>\n",
       "      <td>1.562856</td>\n",
       "      <td>0.144914</td>\n",
       "    </tr>\n",
       "    <tr>\n",
       "      <th>std</th>\n",
       "      <td>39.822106</td>\n",
       "      <td>42.371290</td>\n",
       "      <td>0.295879</td>\n",
       "      <td>0.447398</td>\n",
       "      <td>13.688365</td>\n",
       "      <td>54.467389</td>\n",
       "      <td>20.069084</td>\n",
       "      <td>9.259435</td>\n",
       "      <td>50.713844</td>\n",
       "      <td>19.922625</td>\n",
       "      <td>4.310668</td>\n",
       "      <td>50.573847</td>\n",
       "      <td>19.568609</td>\n",
       "      <td>2.275873</td>\n",
       "      <td>2.791840</td>\n",
       "      <td>2.461214</td>\n",
       "      <td>0.753773</td>\n",
       "      <td>1.315491</td>\n",
       "      <td>0.352067</td>\n",
       "    </tr>\n",
       "    <tr>\n",
       "      <th>min</th>\n",
       "      <td>1.000000</td>\n",
       "      <td>408.000000</td>\n",
       "      <td>0.000000</td>\n",
       "      <td>0.000000</td>\n",
       "      <td>0.000000</td>\n",
       "      <td>0.000000</td>\n",
       "      <td>0.000000</td>\n",
       "      <td>0.000000</td>\n",
       "      <td>0.000000</td>\n",
       "      <td>0.000000</td>\n",
       "      <td>0.000000</td>\n",
       "      <td>23.200000</td>\n",
       "      <td>33.000000</td>\n",
       "      <td>1.040000</td>\n",
       "      <td>0.000000</td>\n",
       "      <td>0.000000</td>\n",
       "      <td>0.000000</td>\n",
       "      <td>0.000000</td>\n",
       "      <td>0.000000</td>\n",
       "    </tr>\n",
       "    <tr>\n",
       "      <th>25%</th>\n",
       "      <td>74.000000</td>\n",
       "      <td>408.000000</td>\n",
       "      <td>0.000000</td>\n",
       "      <td>0.000000</td>\n",
       "      <td>0.000000</td>\n",
       "      <td>143.700000</td>\n",
       "      <td>87.000000</td>\n",
       "      <td>24.430000</td>\n",
       "      <td>166.600000</td>\n",
       "      <td>87.000000</td>\n",
       "      <td>14.160000</td>\n",
       "      <td>167.000000</td>\n",
       "      <td>87.000000</td>\n",
       "      <td>7.520000</td>\n",
       "      <td>8.500000</td>\n",
       "      <td>3.000000</td>\n",
       "      <td>2.300000</td>\n",
       "      <td>1.000000</td>\n",
       "      <td>0.000000</td>\n",
       "    </tr>\n",
       "    <tr>\n",
       "      <th>50%</th>\n",
       "      <td>101.000000</td>\n",
       "      <td>415.000000</td>\n",
       "      <td>0.000000</td>\n",
       "      <td>0.000000</td>\n",
       "      <td>0.000000</td>\n",
       "      <td>179.400000</td>\n",
       "      <td>101.000000</td>\n",
       "      <td>30.500000</td>\n",
       "      <td>201.400000</td>\n",
       "      <td>100.000000</td>\n",
       "      <td>17.120000</td>\n",
       "      <td>201.200000</td>\n",
       "      <td>100.000000</td>\n",
       "      <td>9.050000</td>\n",
       "      <td>10.300000</td>\n",
       "      <td>4.000000</td>\n",
       "      <td>2.780000</td>\n",
       "      <td>1.000000</td>\n",
       "      <td>0.000000</td>\n",
       "    </tr>\n",
       "    <tr>\n",
       "      <th>75%</th>\n",
       "      <td>127.000000</td>\n",
       "      <td>510.000000</td>\n",
       "      <td>0.000000</td>\n",
       "      <td>1.000000</td>\n",
       "      <td>20.000000</td>\n",
       "      <td>216.400000</td>\n",
       "      <td>114.000000</td>\n",
       "      <td>36.790000</td>\n",
       "      <td>235.300000</td>\n",
       "      <td>114.000000</td>\n",
       "      <td>20.000000</td>\n",
       "      <td>235.300000</td>\n",
       "      <td>113.000000</td>\n",
       "      <td>10.590000</td>\n",
       "      <td>12.100000</td>\n",
       "      <td>6.000000</td>\n",
       "      <td>3.270000</td>\n",
       "      <td>2.000000</td>\n",
       "      <td>0.000000</td>\n",
       "    </tr>\n",
       "    <tr>\n",
       "      <th>max</th>\n",
       "      <td>243.000000</td>\n",
       "      <td>510.000000</td>\n",
       "      <td>1.000000</td>\n",
       "      <td>1.000000</td>\n",
       "      <td>51.000000</td>\n",
       "      <td>350.800000</td>\n",
       "      <td>165.000000</td>\n",
       "      <td>59.640000</td>\n",
       "      <td>363.700000</td>\n",
       "      <td>170.000000</td>\n",
       "      <td>30.910000</td>\n",
       "      <td>395.000000</td>\n",
       "      <td>175.000000</td>\n",
       "      <td>17.770000</td>\n",
       "      <td>20.000000</td>\n",
       "      <td>20.000000</td>\n",
       "      <td>5.400000</td>\n",
       "      <td>9.000000</td>\n",
       "      <td>1.000000</td>\n",
       "    </tr>\n",
       "  </tbody>\n",
       "</table>\n",
       "</div>"
      ],
      "text/plain": [
       "       account length    area code  international plan  voice mail plan  \\\n",
       "count     3333.000000  3333.000000         3333.000000      3333.000000   \n",
       "mean       101.064806   437.182418            0.096910         0.276628   \n",
       "std         39.822106    42.371290            0.295879         0.447398   \n",
       "min          1.000000   408.000000            0.000000         0.000000   \n",
       "25%         74.000000   408.000000            0.000000         0.000000   \n",
       "50%        101.000000   415.000000            0.000000         0.000000   \n",
       "75%        127.000000   510.000000            0.000000         1.000000   \n",
       "max        243.000000   510.000000            1.000000         1.000000   \n",
       "\n",
       "       number vmail messages  total day minutes  total day calls  \\\n",
       "count            3333.000000        3333.000000      3333.000000   \n",
       "mean                8.099010         179.775098       100.435644   \n",
       "std                13.688365          54.467389        20.069084   \n",
       "min                 0.000000           0.000000         0.000000   \n",
       "25%                 0.000000         143.700000        87.000000   \n",
       "50%                 0.000000         179.400000       101.000000   \n",
       "75%                20.000000         216.400000       114.000000   \n",
       "max                51.000000         350.800000       165.000000   \n",
       "\n",
       "       total day charge  total eve minutes  total eve calls  total eve charge  \\\n",
       "count       3333.000000        3333.000000      3333.000000       3333.000000   \n",
       "mean          30.562307         200.980348       100.114311         17.083540   \n",
       "std            9.259435          50.713844        19.922625          4.310668   \n",
       "min            0.000000           0.000000         0.000000          0.000000   \n",
       "25%           24.430000         166.600000        87.000000         14.160000   \n",
       "50%           30.500000         201.400000       100.000000         17.120000   \n",
       "75%           36.790000         235.300000       114.000000         20.000000   \n",
       "max           59.640000         363.700000       170.000000         30.910000   \n",
       "\n",
       "       total night minutes  total night calls  total night charge  \\\n",
       "count          3333.000000        3333.000000         3333.000000   \n",
       "mean            200.872037         100.107711            9.039325   \n",
       "std              50.573847          19.568609            2.275873   \n",
       "min              23.200000          33.000000            1.040000   \n",
       "25%             167.000000          87.000000            7.520000   \n",
       "50%             201.200000         100.000000            9.050000   \n",
       "75%             235.300000         113.000000           10.590000   \n",
       "max             395.000000         175.000000           17.770000   \n",
       "\n",
       "       total intl minutes  total intl calls  total intl charge  \\\n",
       "count         3333.000000       3333.000000        3333.000000   \n",
       "mean            10.237294          4.479448           2.764581   \n",
       "std              2.791840          2.461214           0.753773   \n",
       "min              0.000000          0.000000           0.000000   \n",
       "25%              8.500000          3.000000           2.300000   \n",
       "50%             10.300000          4.000000           2.780000   \n",
       "75%             12.100000          6.000000           3.270000   \n",
       "max             20.000000         20.000000           5.400000   \n",
       "\n",
       "       customer service calls        churn  \n",
       "count             3333.000000  3333.000000  \n",
       "mean                 1.562856     0.144914  \n",
       "std                  1.315491     0.352067  \n",
       "min                  0.000000     0.000000  \n",
       "25%                  1.000000     0.000000  \n",
       "50%                  1.000000     0.000000  \n",
       "75%                  2.000000     0.000000  \n",
       "max                  9.000000     1.000000  "
      ]
     },
     "execution_count": 56,
     "metadata": {},
     "output_type": "execute_result"
    }
   ],
   "source": [
    "df.describe()"
   ]
  },
  {
   "cell_type": "markdown",
   "id": "c30d557f-9a7e-403a-be74-3fbedf662272",
   "metadata": {},
   "source": [
    "Account Length: The maximum value of 243 seems plausible, as it represents the number of days a customer has been with the service provider. \n",
    "International Plan and Voice Mail Plan: These variables seem to be binary (0 or 1), and the minimum and maximum values of 0 and 1 are expected and realistic.\n",
    "\n",
    "Number of Voice Mail Messages: The maximum value of 51 seems plausible, as some customers may receive a large number of voice mail messages. However, without additional context, it's difficult to assess its realism.\n",
    "\n",
    "Total Day, Evening, and Night Minutes: The maximum values for these variables (350.8, 363.7, and 395.0, respectively) are within the plausible range for minutes of usage, especially for heavy users or during exceptional circumstances. However, it's essential to verify if these values align with typical usage patterns in the dataset.\n",
    "\n",
    "Total Day, Evening, and Night Calls: The maximum values of 165, 170, and 175, respectively, seem high but could be realistic during peak usage times or for customers with specific needs. Again, it's important to validate these values based on the context of the data.\n",
    "\n",
    "Total Day, Evening, and Night Charge: The maximum values for charges seem reasonable given the corresponding maximum minutes of usage.\n",
    "\n",
    "Total International Minutes, Calls, and Charges: The maximum values appear plausible but may require further validation based on international calling patterns and associated charges.\n",
    "\n",
    "Customer Service Calls: The maximum value of 9 for the number of customer service calls is relatively high but could occur for customers experiencing multiple issues or requiring extensive support. However, it's essential to verify if such occurrences are common in the dataset."
   ]
  },
  {
   "cell_type": "code",
   "execution_count": null,
   "id": "8b1c0b99-3adc-489a-8334-bfe99b9917e0",
   "metadata": {},
   "outputs": [],
   "source": [
    "# Function to find upper and lower limits for our features\n",
    "def find_outlier_limits(column, num_std=3):\n",
    "    \n",
    "    mean = np.mean(column)\n",
    "    std_dev = np.std(column)\n",
    "    \n",
    "    lower_limit = mean - num_std * std_dev\n",
    "    upper_limit = mean + num_std * std_dev\n",
    "    \n",
    "    return lower_limit, upper_limit\n",
    "\n",
    "# Function to filter outliers\n",
    "def filter_outliers(data, num_std=3,exclude_columns = []):\n",
    "    \n",
    "    filtered_data = data.copy()\n",
    "\n",
    "    for col in data.columns:\n",
    "        if pd.api.types.is_numeric_dtype(data[col]) and col not in exclude_columns:\n",
    "            lower_limit, upper_limit = find_outlier_limits(data[col], num_std)\n",
    "            print(f\"{col}\\n-----------------\\nLower Limit: {lower_limit}, Upper Limit: {upper_limit}\")\n",
    "            outliers_removed = data[(data[col] < lower_limit) | (data[col] > upper_limit)].shape[0]\n",
    "            print(f\"Outliers removed in column '{col}': {outliers_removed}\")\n",
    "            print(\"===============================================================================\\n\")\n",
    "            outliers_mask = (data[col] < lower_limit) | (data[col] > upper_limit)\n",
    "            \n",
    "            filtered_data = filtered_data[~outliers_mask]\n",
    "    \n",
    "    return filtered_data\n",
    "\n",
    "\n",
    "columns_to_exclude = ['view_rating', 'yr_built', 'yr_renovated','price', 'grade', 'waterfront', 'zipcode', 'city', 'lat', 'long']\n",
    "clean_data = filter_outliers(data,num_std = 3, exclude_columns = columns_to_exclude)\n",
    "print('Original data:', len(data))\n",
    "print(f\"Filtered data: {len(clean_data)}\")\n",
    "print(\"\\n===============================================================================\")"
   ]
  },
  {
   "cell_type": "code",
   "execution_count": null,
   "id": "697f8745-b78d-483e-86b0-e52a61126b8e",
   "metadata": {},
   "outputs": [],
   "source": []
  },
  {
   "cell_type": "markdown",
   "id": "dc60f9c9-b91c-4862-8a12-833aef79dec7",
   "metadata": {},
   "source": [
    "### EDA"
   ]
  },
  {
   "cell_type": "markdown",
   "id": "de497724-6671-49eb-8f16-1c600117f255",
   "metadata": {},
   "source": [
    "### modelling"
   ]
  },
  {
   "cell_type": "markdown",
   "id": "2fe41385-5d65-4c8f-8f4c-ad55fbc7f186",
   "metadata": {},
   "source": [
    "### Model Validation"
   ]
  },
  {
   "cell_type": "markdown",
   "id": "2eb559c2-17b5-455e-acc4-44224442c0e9",
   "metadata": {},
   "source": [
    "### Model Deployment"
   ]
  },
  {
   "cell_type": "markdown",
   "id": "51b421a8-9320-4b17-8c82-8a535be2c383",
   "metadata": {},
   "source": [
    "### Conclusion"
   ]
  },
  {
   "cell_type": "markdown",
   "id": "ebfbf716-32ee-4de8-9084-12695f6595ff",
   "metadata": {},
   "source": [
    "### Recommendations"
   ]
  },
  {
   "cell_type": "code",
   "execution_count": null,
   "id": "5d352a43-816d-47df-822a-4b02daf47e5a",
   "metadata": {},
   "outputs": [],
   "source": []
  }
 ],
 "metadata": {
  "kernelspec": {
   "display_name": "Python 3 (ipykernel)",
   "language": "python",
   "name": "python3"
  },
  "language_info": {
   "codemirror_mode": {
    "name": "ipython",
    "version": 3
   },
   "file_extension": ".py",
   "mimetype": "text/x-python",
   "name": "python",
   "nbconvert_exporter": "python",
   "pygments_lexer": "ipython3",
   "version": "3.11.5"
  }
 },
 "nbformat": 4,
 "nbformat_minor": 5
}
